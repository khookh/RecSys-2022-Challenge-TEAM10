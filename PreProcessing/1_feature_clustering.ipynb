{
 "cells": [
  {
   "cell_type": "code",
   "execution_count": 3,
   "id": "0166baae-7c76-48e8-829f-ebe15c5f36a6",
   "metadata": {},
   "outputs": [
    {
     "name": "stderr",
     "output_type": "stream",
     "text": [
      "Using Spark's default log4j profile: org/apache/spark/log4j-defaults.properties\n",
      "Setting default log level to \"WARN\".\n",
      "To adjust logging level use sc.setLogLevel(newLevel). For SparkR, use setLogLevel(newLevel).\n",
      "22/05/26 09:28:27 WARN NativeCodeLoader: Unable to load native-hadoop library for your platform... using builtin-java classes where applicable\n",
      "22/05/26 09:28:28 WARN Utils: Service 'SparkUI' could not bind on port 4040. Attempting port 4041.\n",
      "22/05/26 09:28:28 WARN Utils: Service 'SparkUI' could not bind on port 4041. Attempting port 4042.\n"
     ]
    }
   ],
   "source": [
    "import os \n",
    "import warnings\n",
    "warnings.filterwarnings('ignore')\n",
    "import pandas as pd\n",
    "import numpy as np\n",
    "\n",
    "# launch this cell if you have issues on windows with py4j (think about updating your PATH)\n",
    "import sys\n",
    "os.environ['PYSPARK_DRIVER_PYTHON_OPTS']= \"notebook\"\n",
    "os.environ['PYSPARK_DRIVER_PYTHON'] = sys.executable\n",
    "os.environ['PYSPARK_PYTHON'] = sys.executable\n",
    "\n",
    "# starts a spark session from notebook\n",
    "\n",
    "os.environ['PYSPARK_SUBMIT_ARGS'] =\"--conf spark.driver.memory=4g  pyspark-shell\"\n",
    "from pyspark.sql import SparkSession\n",
    "\n",
    "spark = SparkSession \\\n",
    "    .builder \\\n",
    "    .master(\"local[*]\") \\\n",
    "    .appName(\"load_explore\") \\\n",
    "    .getOrCreate()"
   ]
  },
  {
   "cell_type": "code",
   "execution_count": 4,
   "id": "6b7c639c-706a-4017-a003-09bc1028c6a5",
   "metadata": {},
   "outputs": [
    {
     "name": "stderr",
     "output_type": "stream",
     "text": [
      "                                                                                \r"
     ]
    }
   ],
   "source": [
    "item_features = spark.read.load('../Data/item_features.csv', \n",
    "                          format='com.databricks.spark.csv', \n",
    "                          header='true', \n",
    "                          inferSchema='true')"
   ]
  },
  {
   "cell_type": "markdown",
   "id": "159ccfc8-17df-4fe2-8170-99d97f8a051f",
   "metadata": {},
   "source": [
    "## exploration"
   ]
  },
  {
   "cell_type": "code",
   "execution_count": 6,
   "id": "e884766a-5064-4763-92d1-31c7eb491ae8",
   "metadata": {},
   "outputs": [
    {
     "name": "stdout",
     "output_type": "stream",
     "text": [
      "root\n",
      " |-- item_id: integer (nullable = true)\n",
      " |-- feature_category_id: integer (nullable = true)\n",
      " |-- feature_value_id: integer (nullable = true)\n",
      "\n"
     ]
    }
   ],
   "source": [
    "item_features.printSchema()"
   ]
  },
  {
   "cell_type": "code",
   "execution_count": 10,
   "id": "538ae968-a6f5-4bb8-9ec4-eed84a304353",
   "metadata": {},
   "outputs": [
    {
     "name": "stdout",
     "output_type": "stream",
     "text": [
      "item_id has 23691 unique elements\n",
      "feature_category_id has 73 unique elements\n",
      "feature_value_id has 890 unique elements\n"
     ]
    }
   ],
   "source": [
    "for column in item_features.columns:\n",
    "    print(f'{column} has {item_features.select(column).distinct().count()} unique elements')"
   ]
  },
  {
   "cell_type": "code",
   "execution_count": 25,
   "id": "362d5dd4-2ec7-4966-b862-8691f27d97a9",
   "metadata": {},
   "outputs": [
    {
     "name": "stdout",
     "output_type": "stream",
     "text": [
      "[31, 65, 53, 34, 28, 26, 44, 12, 22, 47, 1, 52, 13, 16, 6, 3, 20, 40, 57, 54, 48, 5, 19, 64, 41, 15, 43, 37, 61, 17, 9, 72, 35, 55, 59, 4, 8, 39, 23, 49, 7, 51, 69, 63, 10, 50, 45, 38, 73, 25, 24, 70, 62, 29, 21, 32, 60, 56, 58, 33, 11, 68, 71, 14, 42, 2, 30, 66, 46, 67, 18, 36, 27]\n"
     ]
    }
   ],
   "source": [
    "unique_categories = item_features.select('feature_category_id').distinct().rdd.flatMap(lambda x: x).collect()\n",
    "\n",
    "print(unique_categories)\n"
   ]
  },
  {
   "cell_type": "code",
   "execution_count": 34,
   "id": "53112c40-1a63-4340-8f47-9056dc422ea7",
   "metadata": {},
   "outputs": [
    {
     "data": {
      "text/plain": [
       "DataFrame[item_id: int, feature_category_id: int, feature_value_id: int]"
      ]
     },
     "execution_count": 34,
     "metadata": {},
     "output_type": "execute_result"
    }
   ],
   "source": [
    "item_features.filter(item_features.feature_category_id == 1)"
   ]
  },
  {
   "cell_type": "code",
   "execution_count": 44,
   "id": "1be79206-c281-4a01-b513-3503390b93f7",
   "metadata": {},
   "outputs": [
    {
     "name": "stdout",
     "output_type": "stream",
     "text": [
      "category = 31, unique item count = 2567, number of unique feature = 4\n",
      "category = 65, unique item count = 10960, number of unique feature = 11\n",
      "category = 53, unique item count = 3790, number of unique feature = 5\n",
      "category = 34, unique item count = 7033, number of unique feature = 4\n",
      "category = 28, unique item count = 1774, number of unique feature = 6\n",
      "category = 26, unique item count = 14270, number of unique feature = 21\n",
      "category = 44, unique item count = 3775, number of unique feature = 27\n",
      "category = 12, unique item count = 1565, number of unique feature = 6\n",
      "category = 22, unique item count = 608, number of unique feature = 3\n",
      "category = 47, unique item count = 23691, number of unique feature = 17\n",
      "category = 1, unique item count = 939, number of unique feature = 6\n",
      "category = 52, unique item count = 568, number of unique feature = 5\n",
      "category = 13, unique item count = 137, number of unique feature = 4\n",
      "category = 16, unique item count = 1881, number of unique feature = 4\n",
      "category = 6, unique item count = 1792, number of unique feature = 8\n",
      "category = 3, unique item count = 9311, number of unique feature = 5\n",
      "category = 20, unique item count = 846, number of unique feature = 3\n",
      "category = 40, unique item count = 877, number of unique feature = 10\n",
      "category = 57, unique item count = 1962, number of unique feature = 11\n",
      "category = 54, unique item count = 341, number of unique feature = 3\n",
      "category = 48, unique item count = 939, number of unique feature = 3\n",
      "category = 5, unique item count = 9488, number of unique feature = 11\n",
      "category = 19, unique item count = 12308, number of unique feature = 30\n",
      "category = 64, unique item count = 671, number of unique feature = 6\n",
      "category = 41, unique item count = 4620, number of unique feature = 10\n",
      "category = 15, unique item count = 5340, number of unique feature = 8\n",
      "category = 43, unique item count = 569, number of unique feature = 5\n",
      "category = 37, unique item count = 1713, number of unique feature = 4\n",
      "category = 61, unique item count = 22512, number of unique feature = 5\n",
      "category = 17, unique item count = 12103, number of unique feature = 4\n",
      "category = 9, unique item count = 137, number of unique feature = 4\n",
      "category = 72, unique item count = 20499, number of unique feature = 25\n",
      "category = 35, unique item count = 570, number of unique feature = 6\n",
      "category = 55, unique item count = 17779, number of unique feature = 49\n",
      "category = 59, unique item count = 8843, number of unique feature = 10\n",
      "category = 4, unique item count = 14551, number of unique feature = 16\n",
      "category = 8, unique item count = 1962, number of unique feature = 4\n",
      "category = 39, unique item count = 2237, number of unique feature = 6\n",
      "category = 23, unique item count = 2215, number of unique feature = 2\n",
      "category = 49, unique item count = 2591, number of unique feature = 10\n",
      "category = 7, unique item count = 20416, number of unique feature = 35\n",
      "category = 51, unique item count = 678, number of unique feature = 12\n",
      "category = 69, unique item count = 20450, number of unique feature = 29\n",
      "category = 63, unique item count = 14588, number of unique feature = 23\n",
      "category = 10, unique item count = 1155, number of unique feature = 17\n",
      "category = 50, unique item count = 23077, number of unique feature = 24\n",
      "category = 45, unique item count = 9264, number of unique feature = 8\n",
      "category = 38, unique item count = 2581, number of unique feature = 8\n",
      "category = 73, unique item count = 13339, number of unique feature = 2\n",
      "category = 25, unique item count = 1962, number of unique feature = 5\n",
      "category = 24, unique item count = 3242, number of unique feature = 2\n",
      "category = 70, unique item count = 807, number of unique feature = 7\n",
      "category = 62, unique item count = 6148, number of unique feature = 3\n",
      "category = 29, unique item count = 4859, number of unique feature = 6\n",
      "category = 21, unique item count = 1565, number of unique feature = 16\n",
      "category = 32, unique item count = 14277, number of unique feature = 5\n",
      "category = 60, unique item count = 1792, number of unique feature = 14\n",
      "category = 56, unique item count = 23691, number of unique feature = 67\n",
      "category = 58, unique item count = 1859, number of unique feature = 5\n",
      "category = 33, unique item count = 2221, number of unique feature = 10\n",
      "category = 11, unique item count = 6004, number of unique feature = 17\n",
      "category = 68, unique item count = 23038, number of unique feature = 48\n",
      "category = 71, unique item count = 671, number of unique feature = 11\n",
      "category = 14, unique item count = 807, number of unique feature = 18\n",
      "category = 42, unique item count = 1873, number of unique feature = 3\n",
      "category = 2, unique item count = 2253, number of unique feature = 25\n",
      "category = 30, unique item count = 5683, number of unique feature = 67\n",
      "category = 66, unique item count = 877, number of unique feature = 3\n",
      "category = 46, unique item count = 10098, number of unique feature = 4\n",
      "category = 67, unique item count = 2568, number of unique feature = 17\n",
      "category = 18, unique item count = 6611, number of unique feature = 7\n",
      "category = 36, unique item count = 2593, number of unique feature = 4\n",
      "category = 27, unique item count = 1, number of unique feature = 1\n",
      "total number of cumulated features = 904, VS 890\n"
     ]
    }
   ],
   "source": [
    "per_category_count = 0\n",
    "for category in unique_categories:\n",
    "    sub = item_features.filter(item_features.feature_category_id == category).distinct()\n",
    "    sub_feature = sub.select('feature_value_id').distinct()\n",
    "    sub_item = sub.select('item_id').distinct()\n",
    "    per_category_count += sub_feature.count()\n",
    "    print(f'category = {category}, unique item count = {sub_item.count()}, number of unique feature = {sub_feature.count()}')\n",
    "    #sub_feature.show()\n",
    "print(f'total number of cumulated features = {per_category_count}, VS 890')"
   ]
  },
  {
   "cell_type": "markdown",
   "id": "502add4a-e0e2-4cc4-a6b2-87d8a0580bee",
   "metadata": {},
   "source": [
    "almost no overlap vetween feature(value) and category --> let's one hot encode on the value and do some clustering (2_category_feature_engineer.ipynb)"
   ]
  },
  {
   "cell_type": "markdown",
   "id": "9b0ab92d-00c3-48f0-9454-be3092699717",
   "metadata": {
    "tags": []
   },
   "source": [
    "## RDD pipeline for feature value clustering"
   ]
  },
  {
   "cell_type": "code",
   "execution_count": 4,
   "id": "62eb7f93-a4c8-4b92-82ff-76c9ee67e351",
   "metadata": {},
   "outputs": [
    {
     "name": "stderr",
     "output_type": "stream",
     "text": [
      "                                                                                \r"
     ]
    }
   ],
   "source": [
    "item_features = spark.read.load('../Data/item_features.csv', \n",
    "                          format='com.databricks.spark.csv', \n",
    "                          header='true', \n",
    "                          inferSchema='true')\n",
    "\n",
    "# GOAL : ONE HOT ENCODE ALL DIFFERENT FEATURES VALUE \n",
    "\n",
    "features_count = item_features.rdd.map(lambda x: str(x[2])+\"_\"+str(x[1])).distinct().collect() # 904 different features value\n",
    "renamed_set = item_features.rdd.map(lambda x: (x[0], str(x[2])+\"_\"+str(x[1])))\n",
    "\n",
    "dic_values = {elem:i for i, elem in enumerate(features_count)} # maps the features values in a dictionnary\n",
    "\n",
    "def fill_column(x):\n",
    "    value = dic_values.get(x[1])\n",
    "    return (x[0],((0,)*(value)+(1,)+(0,)*(len(features_count)-value-1)))\n",
    "columns_features = renamed_set.map(fill_column) # creates all empty columns with features values and fills it\n",
    "reduced_map = columns_features.reduceByKey(lambda x,y : tuple(sum(x) for x in zip(x,y))) # reduce by key (item)\n",
    "\n",
    "dataset = reduced_map.map(lambda x : x[1]) # remap everything in one single line of 904 elements (easier for clustering)"
   ]
  },
  {
   "cell_type": "code",
   "execution_count": 11,
   "id": "dedbb890-0935-47ca-93d2-f28aa2d28c4b",
   "metadata": {},
   "outputs": [
    {
     "name": "stderr",
     "output_type": "stream",
     "text": [
      "                                                                                \r"
     ]
    }
   ],
   "source": [
    "item_features = spark.read.load('../Data/item_features.csv', \n",
    "                          format='com.databricks.spark.csv', \n",
    "                          header='true', \n",
    "                          inferSchema='true')\n",
    "\n",
    "# GOAL : ONE HOT ENCODE ALL DIFFERENT FEATURES VALUE \n",
    "\n",
    "category_count = item_features.rdd.map(lambda x: x[1]).distinct().collect() # 904 different features value\n",
    "renamed_set = item_features.rdd.map(lambda x: (x[0], x[1]))\n",
    "\n",
    "dic_values = {elem:i for i, elem in enumerate(category_count)} # maps the features values in a dictionnary\n",
    "\n",
    "def fill_column(x):\n",
    "    value = dic_values.get(x[1])\n",
    "    return (x[0],((0,)*(value)+(1,)+(0,)*(len(category_count)-value-1)))\n",
    "columns_features = renamed_set.map(fill_column) # creates all empty columns with features values and fills it\n",
    "reduced_map = columns_features.reduceByKey(lambda x,y : tuple(sum(x) for x in zip(x,y))) # reduce by key (item)\n",
    "\n",
    "dataset = reduced_map.map(lambda x : x[1]) # remap everything in one single line of 904 elements (easier for clustering)"
   ]
  },
  {
   "cell_type": "markdown",
   "id": "b4372a6b-ca48-4934-aaba-b661ae279e5a",
   "metadata": {},
   "source": [
    "#### Clustering with map/reduce"
   ]
  },
  {
   "cell_type": "code",
   "execution_count": 14,
   "id": "e472d714-495c-4786-8483-f82e3abbad18",
   "metadata": {},
   "outputs": [
    {
     "name": "stderr",
     "output_type": "stream",
     "text": [
      "                                                                                \r"
     ]
    },
    {
     "data": {
      "text/plain": [
       "[(2, 0),\n",
       " (4, 18),\n",
       " (8, 1),\n",
       " (10, 2),\n",
       " (14, 19),\n",
       " (16, 18),\n",
       " (18, 20),\n",
       " (20, 3),\n",
       " (24, 4),\n",
       " (26, 21),\n",
       " (28, 22),\n",
       " (30, 19),\n",
       " (32, 5),\n",
       " (36, 21),\n",
       " (38, 6),\n",
       " (40, 23),\n",
       " (42, 4),\n",
       " (44, 22),\n",
       " (46, 7),\n",
       " (50, 18)]"
      ]
     },
     "execution_count": 14,
     "metadata": {},
     "output_type": "execute_result"
    }
   ],
   "source": [
    "##### CLUSTERING WITH MAP/REDUCE\n",
    "# inspired from https://uv.ulb.ac.be/pluginfile.php/3410436/mod_resource/content/1/Kmeans.html?fbclid=IwAR1h5xJKxQ1nrCHlgtQsofwjgc8B7oVl69GG6Mm8WxChTH3zBc4SKFo3Noo\n",
    "###nb : si tu as un dataset avec une key fais juste un remapping pour l'enlever du dataset_ = dataset.rdd.map(lambda x: (x[1,:]))\n",
    "\n",
    "from pyspark.context import SparkContext\n",
    "sc = SparkContext.getOrCreate()\n",
    "\n",
    "def mapstep(x,br_clusters): \n",
    "    \"\"\"\n",
    "    This function returns the closest cluster of the current row x\n",
    "    x : current row\n",
    "    broadcast_clusters : current value of the clusters\n",
    "    \"\"\"\n",
    "    M = br_clusters.value.shape[0]\n",
    "    d=np.zeros(M) # distance of the current row with each cluster\n",
    "    for m in range(M):\n",
    "        d[m]=sum(abs(np.subtract(x,br_clusters.value[m]))) # compute distance between cluster m and row x\n",
    "    return(np.argmin(d),)    \n",
    "\n",
    "def k_means_MR(dataset,M,steps):\n",
    "    \"\"\"\n",
    "    dataset : RDD data structure, all columns are used for distance computation (1xn dimension)\n",
    "    M : number of clusters\n",
    "    steps : number of steps\n",
    "    \"\"\"\n",
    "    n = len(dataset.take(1)[0]) # input dimension\n",
    "    clusters = np.array(dataset.takeSample(True,M)) # starts with random clusters\n",
    "    broadcast_clusters = sc.broadcast(clusters) ## broadcast cluster position\n",
    "    for i in range(steps):\n",
    "        distance_set = dataset.map(lambda x : mapstep(x,broadcast_clusters)+(x+(1,),)) # set containing (closest_cluster,(row value),counter=1)\n",
    "        new_clusters_set = distance_set.reduceByKey(lambda x,y : np.add(x,y)) # adds all cluster related entry (+ increments counter)\n",
    "        new_clusters_set = new_clusters_set.map(lambda x : x[1][:-1]/x[1][-1]) # apply mean operation\n",
    "        new_clusters = np.array(new_clusters_set.take(M))\n",
    "        broadcast_clusters = sc.broadcast(new_clusters)\n",
    "    return broadcast_clusters.value\n",
    "\n",
    "\n",
    "clusters = k_means_MR(dataset,50,5) # compute cluster values\n",
    "\n",
    "broadcast_clusters = sc.broadcast(clusters) # broadcasting is a good practice for parallel computing\n",
    "clustered_set = reduced_map.map(lambda x : (x[0],)+mapstep(x[1],broadcast_clusters)) # compute associated clusters for each item\n",
    "\n",
    "clustered_set.take(20) # (example) OUTPUT [ITEM_ID | CLUSTER_ID]"
   ]
  },
  {
   "cell_type": "markdown",
   "id": "38ad56ee-fde3-46b2-84bb-ed18aee3858b",
   "metadata": {},
   "source": [
    "#### Clustering with MLLIB"
   ]
  },
  {
   "cell_type": "code",
   "execution_count": 10,
   "id": "da27d8ba-c5ed-45fd-8360-1a44fab6d629",
   "metadata": {},
   "outputs": [
    {
     "name": "stdout",
     "output_type": "stream",
     "text": [
      "5\n"
     ]
    },
    {
     "name": "stderr",
     "output_type": "stream",
     "text": [
      "22/05/24 19:22:47 WARN InstanceBuilder$NativeBLAS: Failed to load implementation from:dev.ludovic.netlib.blas.JNIBLAS\n",
      "22/05/24 19:22:47 WARN InstanceBuilder$NativeBLAS: Failed to load implementation from:dev.ludovic.netlib.blas.ForeignLinkerBLAS\n",
      "                                                                                \r"
     ]
    }
   ],
   "source": [
    "######## CLUSTERING WITH MLLIB\n",
    "\n",
    "from pyspark.mllib.clustering import KMeans, KMeansModel\n",
    "\n",
    "WSSSE_list = []\n",
    "\n",
    "for i in range(1,2):\n",
    "    print(i*5)\n",
    "    WSSSE_temp = 0\n",
    "    for j in range(1): # averaged on 2 runs\n",
    "        # Build the model (cluster the data)\n",
    "        clusters = KMeans.train(dataset, i*240, maxIterations=20, initializationMode=\"random\")\n",
    "\n",
    "        # Evaluate clustering by computing Within Set Sum of Squared Errors\n",
    "        def error(point):\n",
    "            center = clusters.centers[clusters.predict(point)]\n",
    "            return np.sqrt(sum([x**2 for x in (point - center)]))\n",
    "\n",
    "        WSSSE = dataset.map(lambda point: error(point)).reduce(lambda x, y: x + y)\n",
    "\n",
    "        #print(\"Within Set Sum of Squared Error = \" + str(WSSSE) + \" for n = \" + str(i))\n",
    "        \n",
    "        WSSSE_temp += WSSSE\n",
    "    \n",
    "    WSSSE_list.append(WSSSE_temp/2)"
   ]
  },
  {
   "cell_type": "code",
   "execution_count": 343,
   "id": "c2c31511-9671-4fee-8a86-a799bec771e1",
   "metadata": {},
   "outputs": [
    {
     "data": {
      "image/png": "[encoded data removed]",
      "text/plain": [
       "<Figure size 432x288 with 1 Axes>"
      ]
     },
     "metadata": {
      "needs_background": "light"
     },
     "output_type": "display_data"
    }
   ],
   "source": [
    "import matplotlib.pyplot as plt\n",
    "x = np.arange(5,50,5)\n",
    "\n",
    "plt.plot(x, WSSSE_list) \n",
    "plt.xlabel('number of clusters')\n",
    "plt.ylabel('WSSSE')\n",
    "plt.title('WSSSE per cluster number')\n",
    "plt.show()"
   ]
  },
  {
   "cell_type": "markdown",
   "id": "926edb6e-b554-43c0-bee9-643545e57d26",
   "metadata": {},
   "source": [
    "_______________________________________________________________________________________"
   ]
  },
  {
   "cell_type": "code",
   "execution_count": 11,
   "id": "1e0dc356-3084-4516-b215-edb3e1df06d5",
   "metadata": {},
   "outputs": [],
   "source": [
    "# 23691 items / 25 clusters = ~850 --> good dimension reduction\n",
    "#clusters = KMeans.train(dataset, 25, maxIterations=30, initializationMode=\"random\")\n",
    "\n",
    "clustered_dataset = reduced_map.map(lambda x : (x[0], clusters.predict(x[1]))) # remap everything in one single line of 890 + 1 elements (easier for clustering)"
   ]
  },
  {
   "cell_type": "code",
   "execution_count": 12,
   "id": "3b9d83f5-2f1b-43cb-adc4-e5cfdebd0ef5",
   "metadata": {},
   "outputs": [
    {
     "data": {
      "text/plain": [
       "[(2, 136),\n",
       " (4, 104),\n",
       " (8, 152),\n",
       " (10, 174),\n",
       " (14, 210),\n",
       " (16, 104),\n",
       " (18, 211),\n",
       " (20, 1),\n",
       " (24, 112),\n",
       " (26, 226)]"
      ]
     },
     "execution_count": 12,
     "metadata": {},
     "output_type": "execute_result"
    }
   ],
   "source": [
    "clustered_dataset.take(10)"
   ]
  },
  {
   "cell_type": "code",
   "execution_count": null,
   "id": "dab75968-3cf0-4c1d-99a1-c828dbe0d49d",
   "metadata": {},
   "outputs": [
    {
     "name": "stderr",
     "output_type": "stream",
     "text": [
      "                                                                                \r"
     ]
    }
   ],
   "source": [
    "clustered_dataset.toDF().repartition(1).write.csv('250_clustered_features.csv')\n"
   ]
  },
  {
   "cell_type": "markdown",
   "id": "9309d6d1-1d23-4c7f-99e6-81b5e386232e",
   "metadata": {},
   "source": [
    "The resulting data set (clustered_dataset) has two columns : [item_id, cluster_id]"
   ]
  },
  {
   "cell_type": "code",
   "execution_count": 356,
   "id": "a1951c76-3b95-41fe-bd26-6420ebac0f60",
   "metadata": {},
   "outputs": [
    {
     "name": "stderr",
     "output_type": "stream",
     "text": [
      "                                                                                \r"
     ]
    },
    {
     "data": {
      "text/plain": [
       "array([[<AxesSubplot:title={'center':'_2'}>]], dtype=object)"
      ]
     },
     "execution_count": 356,
     "metadata": {},
     "output_type": "execute_result"
    },
    {
     "data": {
      "image/png": "[encoded data removed]",
      "text/plain": [
       "<Figure size 720x360 with 1 Axes>"
      ]
     },
     "metadata": {
      "needs_background": "light"
     },
     "output_type": "display_data"
    }
   ],
   "source": [
    "clustered_df = clustered_dataset.toDF().toPandas()\n",
    "clustered_df.hist(column='_2',bins=25, figsize=(10,5))"
   ]
  },
  {
   "cell_type": "code",
   "execution_count": 353,
   "id": "63824b9a-f3eb-4ac9-a7d8-c127dfcb5c85",
   "metadata": {},
   "outputs": [
    {
     "data": {
      "text/plain": [
       "6     2458\n",
       "9     2162\n",
       "8     1579\n",
       "11    1394\n",
       "13    1275\n",
       "15    1222\n",
       "12    1165\n",
       "7     1004\n",
       "14    1003\n",
       "3      918\n",
       "4      882\n",
       "21     851\n",
       "1      758\n",
       "16     750\n",
       "23     640\n",
       "22     635\n",
       "18     616\n",
       "20     615\n",
       "24     607\n",
       "5      606\n",
       "17     554\n",
       "0      541\n",
       "2      519\n",
       "10     474\n",
       "19     463\n",
       "Name: _2, dtype: int64"
      ]
     },
     "execution_count": 353,
     "metadata": {},
     "output_type": "execute_result"
    }
   ],
   "source": [
    "clustered_df['_2'].value_counts() # number of element per cluster"
   ]
  },
  {
   "cell_type": "code",
   "execution_count": null,
   "id": "c444de9d-f6ae-4ab4-b034-506bf60e4711",
   "metadata": {},
   "outputs": [],
   "source": []
  }
 ],
 "metadata": {
  "kernelspec": {
   "display_name": "Python 3 (ipykernel)",
   "language": "python",
   "name": "python3"
  },
  "language_info": {
   "codemirror_mode": {
    "name": "ipython",
    "version": 3
   },
   "file_extension": ".py",
   "mimetype": "text/x-python",
   "name": "python",
   "nbconvert_exporter": "python",
   "pygments_lexer": "ipython3",
   "version": "3.9.7"
  }
 },
 "nbformat": 4,
 "nbformat_minor": 5
}
