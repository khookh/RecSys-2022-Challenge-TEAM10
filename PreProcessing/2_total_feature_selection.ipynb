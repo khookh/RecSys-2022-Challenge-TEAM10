{
 "cells": [
  {
   "cell_type": "code",
   "execution_count": 1,
   "id": "19273534-4498-471a-ad72-fe538dac3fee",
   "metadata": {},
   "outputs": [
    {
     "name": "stderr",
     "output_type": "stream",
     "text": [
      "Using Spark's default log4j profile: org/apache/spark/log4j-defaults.properties\n",
      "Setting default log level to \"WARN\".\n",
      "To adjust logging level use sc.setLogLevel(newLevel). For SparkR, use setLogLevel(newLevel).\n",
      "22/05/27 11:06:48 WARN NativeCodeLoader: Unable to load native-hadoop library for your platform... using builtin-java classes where applicable\n",
      "22/05/27 11:06:49 WARN Utils: Service 'SparkUI' could not bind on port 4040. Attempting port 4041.\n",
      "22/05/27 11:06:49 WARN Utils: Service 'SparkUI' could not bind on port 4041. Attempting port 4042.\n",
      "22/05/27 11:06:49 WARN Utils: Service 'SparkUI' could not bind on port 4042. Attempting port 4043.\n"
     ]
    }
   ],
   "source": [
    "import os \n",
    "import warnings\n",
    "import time\n",
    "import numpy as np\n",
    "import scipy.stats\n",
    "import sys\n",
    "import sklearn\n",
    "import sklearn.datasets\n",
    "\n",
    "from pyspark.sql import SparkSession\n",
    "warnings.filterwarnings('ignore')\n",
    "import pandas as pd\n",
    "\n",
    "# launch this cell if you have issues on windows with py4j (think about updating your PATH)\n",
    "\n",
    "os.environ['PYSPARK_DRIVER_PYTHON_OPTS']= \"notebook\"\n",
    "os.environ['PYSPARK_DRIVER_PYTHON'] = sys.executable\n",
    "os.environ['PYSPARK_PYTHON'] = sys.executable\n",
    "\n",
    "# starts a spark session from notebook\n",
    "\n",
    "os.environ['PYSPARK_SUBMIT_ARGS'] =\"--conf spark.driver.memory=4g  pyspark-shell\"\n",
    "\n",
    "\n",
    "spark = SparkSession \\\n",
    "    .builder \\\n",
    "    .master(\"local[*]\") \\\n",
    "    .appName(\"feature_selection\") \\\n",
    "    .getOrCreate()\n",
    "\n",
    "sc=spark.sparkContext"
   ]
  },
  {
   "cell_type": "markdown",
   "id": "c6877564-849b-4cd0-94f4-6170e9cf5674",
   "metadata": {},
   "source": [
    "# Feature selection\n",
    "\n",
    "As we have many features (especially after the one-hot encoding of many categorical features), feature selection should be performed in order to reduce the computational load in further steps.\n",
    "\n",
    "Two feature selection algorithms will be used\n",
    "\n",
    "1) A Feature Ranking algorithm using MRMR (Maximum relevance - Minimum redundency)\n",
    "2) A foward-selection algorithm using cross-validation. With a machine learning model, features will iteratively added as they increase the performance of the model."
   ]
  },
  {
   "cell_type": "code",
   "execution_count": 2,
   "id": "cb2b273a-3452-476f-b2aa-5704c9042535",
   "metadata": {},
   "outputs": [
    {
     "name": "stderr",
     "output_type": "stream",
     "text": [
      "                                                                                \r"
     ]
    }
   ],
   "source": [
    "train_sessions_engineered = spark.read.csv('../Data/session_engineered_features.csv',header=True,\n",
    "                                          inferSchema=True)\n",
    "\n",
    "train_purchases = spark.read.load('../Data/train_purchases.csv', \n",
    "                          format='com.databricks.spark.csv', \n",
    "                          header='true', \n",
    "                          inferSchema='true')"
   ]
  },
  {
   "cell_type": "code",
   "execution_count": 3,
   "id": "085e67ba-08ae-482c-9b3e-105b3b9d07e7",
   "metadata": {},
   "outputs": [
    {
     "name": "stdout",
     "output_type": "stream",
     "text": [
      "root\n",
      " |-- session_id: double (nullable = true)\n",
      " |-- session_time: double (nullable = true)\n",
      " |-- season: double (nullable = true)\n",
      " |-- day_period: double (nullable = true)\n",
      " |-- month: double (nullable = true)\n",
      " |-- year: double (nullable = true)\n",
      " |-- item_most_time_spent: double (nullable = true)\n",
      " |-- most_time_spent_on_item: double (nullable = true)\n",
      " |-- most_frequently_bought_for_time_spent: double (nullable = true)\n",
      " |-- least_frequently_bought_for_time_spent: double (nullable = true)\n",
      " |-- mean_time: double (nullable = true)\n",
      " |-- std_time: double (nullable = true)\n",
      " |-- item_most_visited: double (nullable = true)\n",
      " |-- number_o_visit: double (nullable = true)\n",
      " |-- number_o_revisited_items: double (nullable = true)\n",
      " |-- most_frequently_bought_for_most_revisited: double (nullable = true)\n",
      " |-- first_item_visited: double (nullable = true)\n",
      " |-- last_item_visited: double (nullable = true)\n",
      " |-- normalized_features_vector: double (nullable = true)\n",
      " |-- 1: double (nullable = true)\n",
      " |-- 2: double (nullable = true)\n",
      " |-- 3: double (nullable = true)\n",
      " |-- 4: double (nullable = true)\n",
      " |-- 5: double (nullable = true)\n",
      " |-- 6: double (nullable = true)\n",
      " |-- 7: double (nullable = true)\n",
      " |-- 8: double (nullable = true)\n",
      " |-- 9: double (nullable = true)\n",
      " |-- 10: double (nullable = true)\n",
      " |-- 11: double (nullable = true)\n",
      " |-- 12: double (nullable = true)\n",
      " |-- 13: double (nullable = true)\n",
      " |-- 14: double (nullable = true)\n",
      " |-- 15: double (nullable = true)\n",
      " |-- 16: double (nullable = true)\n",
      " |-- 17: double (nullable = true)\n",
      " |-- 18: double (nullable = true)\n",
      " |-- 19: double (nullable = true)\n",
      " |-- 20: double (nullable = true)\n",
      " |-- 21: double (nullable = true)\n",
      " |-- 22: double (nullable = true)\n",
      " |-- 23: double (nullable = true)\n",
      " |-- 24: double (nullable = true)\n",
      " |-- 25: double (nullable = true)\n",
      " |-- _45: double (nullable = true)\n",
      "\n"
     ]
    }
   ],
   "source": [
    "train_sessions_engineered.printSchema()\n",
    "\n",
    "[1, 2, 4, 10, 13, 17, 21, 22, 23, 26, 27, 28, 29, 30, 31, 33, 35, 36, 37, 42]"
   ]
  },
  {
   "cell_type": "code",
   "execution_count": 4,
   "id": "ea86292b-7421-4533-b764-7889c83c9260",
   "metadata": {},
   "outputs": [
    {
     "name": "stderr",
     "output_type": "stream",
     "text": [
      "22/05/27 11:06:58 WARN package: Truncated the string representation of a plan since it was too large. This behavior can be adjusted by setting 'spark.sql.debug.maxToStringFields'.\n",
      "                                                                                \r"
     ]
    }
   ],
   "source": [
    "# Sets the values inside a numpy array\n",
    "\n",
    "X = train_sessions_engineered.orderBy('session_id') \n",
    "X = X.drop('session_id')\n",
    "\n",
    "X_np = np.array(X.collect())"
   ]
  },
  {
   "cell_type": "code",
   "execution_count": 5,
   "id": "7945db19-e64d-452e-aa83-33be24d17c8c",
   "metadata": {},
   "outputs": [
    {
     "data": {
      "text/plain": [
       "(1000000, 44)"
      ]
     },
     "execution_count": 5,
     "metadata": {},
     "output_type": "execute_result"
    }
   ],
   "source": [
    "X_np.shape"
   ]
  },
  {
   "cell_type": "markdown",
   "id": "51733313-a3ef-4160-83a0-6d9037a97d8f",
   "metadata": {},
   "source": [
    "## Value binning\n",
    "\n",
    "The following values must be binned in order to be compatible with MRMR algorithms.\n",
    "\n",
    "* Session duration\n",
    "* Most time spent on a single item (float)\n",
    "* Mean time\n",
    "* Standard deviation time\n",
    "* The 25 item value features cluster per session"
   ]
  },
  {
   "cell_type": "code",
   "execution_count": 6,
   "id": "7ae55c90-3e86-46a4-92ee-5aaefb8a9094",
   "metadata": {},
   "outputs": [],
   "source": [
    "# The data will be binned using percentile values, so that every feature is categorical\n",
    "\n",
    "def assign_value_bins(x, n_bins=10):\n",
    "    bin_array = np.zeros(x.shape[0], dtype=np.int32)\n",
    "    prev_percentile = None\n",
    "    \n",
    "    for bin_idx in range(n_bins):\n",
    "        percentile = (100.0 / n_bins) * (bin_idx + 1)\n",
    "        \n",
    "        percentile_value = np.percentile(x, percentile)\n",
    "        \n",
    "        if prev_percentile is None:\n",
    "            mask = (x <= percentile_value)\n",
    "            bin_array[mask] = bin_idx\n",
    "        else:\n",
    "            mask = np.bitwise_and(x <= percentile_value, x > prev_percentile)\n",
    "            bin_array[mask] = bin_idx\n",
    "                    \n",
    "        prev_percentile = percentile_value\n",
    "    \n",
    "    return bin_array\n",
    "\n",
    "columns_to_bin = [0, 6, 9, 10, 12, 13, *range(19, 44)]\n",
    "\n",
    "for col in columns_to_bin:\n",
    "    array_to_bin = X_np[:, col].astype(np.float32)\n",
    "    binned_array = assign_value_bins(array_to_bin)\n",
    "    X_np[:, col] = binned_array\n",
    "\n",
    "X_np = X_np.astype(np.int32)  # Sets the type to int (should work well as everything is binned)"
   ]
  },
  {
   "cell_type": "code",
   "execution_count": 31,
   "id": "7ad83ef0-2600-42dc-97eb-f07347c691e4",
   "metadata": {},
   "outputs": [],
   "source": [
    "t_X = np.transpose(X_np)\n",
    "n_total_features = t_X.shape[0]\n",
    "\n",
    "# we want the nb partition to be between 2 or 3 times more than the number of core in our computer\n",
    "Nb_partition = 10\n",
    "X_RDD = sc.parallelize(t_X, Nb_partition)"
   ]
  },
  {
   "cell_type": "markdown",
   "id": "bd2cf323-e426-48ac-8bfb-b49b8812dea3",
   "metadata": {},
   "source": [
    "## Item label clustering\n",
    "\n",
    "As there is a high number of possible output items, the corellations migh be very low. We will use put them inside clusters in order to obtain better ranking values."
   ]
  },
  {
   "cell_type": "code",
   "execution_count": 8,
   "id": "f769642d-0317-4731-9861-bbed796698d5",
   "metadata": {},
   "outputs": [
    {
     "data": {
      "text/plain": [
       "23691"
      ]
     },
     "execution_count": 8,
     "metadata": {},
     "output_type": "execute_result"
    }
   ],
   "source": [
    "import pickle\n",
    "\n",
    "# Loading the item to cluster dictionnary\n",
    "with open('../Data/item_dict.pd', 'rb') as file:\n",
    "    item_cluster_dict = pickle.load(file)\n",
    "    \n",
    "len(item_cluster_dict)"
   ]
  },
  {
   "cell_type": "code",
   "execution_count": 9,
   "id": "ddd94095-7f3e-4db6-8067-7ef266a35ad0",
   "metadata": {},
   "outputs": [
    {
     "name": "stderr",
     "output_type": "stream",
     "text": [
      "                                                                                \r"
     ]
    },
    {
     "data": {
      "text/plain": [
       "(1000000,)"
      ]
     },
     "execution_count": 9,
     "metadata": {},
     "output_type": "execute_result"
    }
   ],
   "source": [
    "train_purchases_clustered = (\n",
    "    train_purchases.rdd\n",
    "    .map(lambda x: (x.session_id, item_cluster_dict[x.item_id]))\n",
    ")\n",
    "\n",
    "Y_numpy = np.array(train_purchases_clustered.collect())[:, 1]\n",
    "Y_numpy.shape"
   ]
  },
  {
   "cell_type": "markdown",
   "id": "2659b6a8-492a-4375-a6a2-5205af4ddec6",
   "metadata": {},
   "source": [
    "# mRMR algorithm\n",
    "\n",
    "The most relevant - minimum redundancy algorithm will select the features with the most corellation with the output values by computing the Pearson statistical test, but also with as less redundancy with previously selectionned features.\n",
    "\n",
    "In many cases, this algorithm showed to prune unecessary features while keeping good model performances."
   ]
  },
  {
   "cell_type": "code",
   "execution_count": 10,
   "id": "287ae51c-9ced-4836-9319-7a3a7f5b0113",
   "metadata": {},
   "outputs": [],
   "source": [
    "def get_score_mrmr(x, y):\n",
    "    \"\"\"\n",
    "    return the correlation value between two variable in absolute value\n",
    "    \"\"\"\n",
    "    return np.abs(scipy.stats.pearsonr(x, y)[0])\n",
    "\n",
    "\n",
    "def get_mrmr_score_spark(x,selected_features):\n",
    "    \"\"\"\n",
    "    x : the feature to evaluate to add into the model\n",
    "    y : output value\n",
    "    selected_features : the features already selected\n",
    "    return the score for x with the rest of selected variables\n",
    "    \"\"\"\n",
    "    \n",
    "    y = broadcast_Y.value\n",
    "    # Get correlation score between feature x and output y (relevance)\n",
    "    score_x_y_s = get_score_mrmr(x, y)\n",
    "    \n",
    "    \n",
    "    nb_selected_features = selected_features.shape[0]\n",
    "    # If some features have already been selected\n",
    "    if nb_selected_features > 0:\n",
    "        \n",
    "        # Get corrrelation scores between x and each feature already selected (redundancy)\n",
    "        score_features_x_s = np.zeros(nb_selected_features, dtype=float)\n",
    "        \n",
    "        for j in range(nb_selected_features):\n",
    "            \n",
    "            score_x_s_j = get_score_mrmr(x, selected_features[j,:])\n",
    "            \n",
    "            # if score is nan considering that we want to calculate the mean\n",
    "            # we transform it in 0 ?\n",
    "            if np.isnan(score_x_s_j):\n",
    "                score_x_s_j=0\n",
    "            \n",
    "                \n",
    "            score_features_x_s[j] = score_x_s_j\n",
    "                        \n",
    "        # Final score is relevance to output feature - average redundancy with already selected features\n",
    "        score_x_y_s = score_x_y_s - np.mean(score_features_x_s)\n",
    "        \n",
    "    return score_x_y_s\n",
    "\n",
    "\n",
    "def mrmr_spark(n_total_features, K, sc, X_RDD):\n",
    "    \"\"\"\n",
    "    n_total_features : total number of features\n",
    "    K : number of feature to select\n",
    "    sc : spark context\n",
    "    X_RDD : RDD of the variable X\n",
    "    Y: Output data\n",
    "    \n",
    "    :return: the indice of selected features and time execution using mrmr\n",
    "    \"\"\"\n",
    "    time_execution = []\n",
    "    remaining_features_indices = list(range(n_total_features))\n",
    "    selected_features_indices = []\n",
    "    \n",
    "\n",
    "    for k in range(K):\n",
    "        print(\"Step: \"+str(k))\n",
    "    \n",
    "        start_time=time.time()\n",
    "    \n",
    "        # Get the subset of selected features values, and cast as an array\n",
    "        selected_features = X_RDD.zipWithIndex().filter(lambda x: x[1] in selected_features_indices).map(lambda x: x[0]).collect()\n",
    "        selected_features = np.array(selected_features)\n",
    "    \n",
    "        # mRMR scores are computed by first filtering `t_X` to remove already selected features, and then mapping \n",
    "        # each remaining feature using the `get_mrmr_score_spark` function\n",
    "        scores = X_RDD.zipWithIndex().filter(lambda x: x[1] in remaining_features_indices).map(lambda x:get_mrmr_score_spark(x[0],selected_features)).collect()\n",
    "    \n",
    "        # Once all mRMR scores are computed, the index of the feature with the highest score is selected\n",
    "        scores = np.array(scores)\n",
    "        \n",
    "    \n",
    "        index_max_score_features = np.argmax(scores)\n",
    "    \n",
    "        selected_features_indices.append(remaining_features_indices[index_max_score_features])\n",
    "    \n",
    "        del(remaining_features_indices[index_max_score_features])\n",
    "    \n",
    "        print('Took time:', time.time()-start_time)\n",
    "        time_execution.append(time.time()-start_time)\n",
    "        \n",
    "    return selected_features_indices, time_execution\n",
    "\n"
   ]
  },
  {
   "cell_type": "code",
   "execution_count": 11,
   "id": "9be3c172-42cb-453e-b14b-dfbdf8f73b5c",
   "metadata": {},
   "outputs": [
    {
     "name": "stdout",
     "output_type": "stream",
     "text": [
      "Step: 0\n"
     ]
    },
    {
     "name": "stderr",
     "output_type": "stream",
     "text": [
      "22/05/27 11:07:32 WARN TaskSetManager: Stage 9 contains a task of very large size (15629 KiB). The maximum recommended task size is 1000 KiB.\n",
      "22/05/27 11:07:33 WARN TaskSetManager: Stage 10 contains a task of very large size (15629 KiB). The maximum recommended task size is 1000 KiB.\n",
      "22/05/27 11:07:33 WARN TaskSetManager: Stage 11 contains a task of very large size (15629 KiB). The maximum recommended task size is 1000 KiB.\n",
      "22/05/27 11:07:33 WARN TaskSetManager: Stage 12 contains a task of very large size (15629 KiB). The maximum recommended task size is 1000 KiB.\n",
      "22/05/27 11:07:35 WARN TaskSetManager: Stage 13 contains a task of very large size (15629 KiB). The maximum recommended task size is 1000 KiB.\n"
     ]
    },
    {
     "name": "stdout",
     "output_type": "stream",
     "text": [
      "Took time: 2.1447408199310303\n",
      "Step: 1\n"
     ]
    },
    {
     "name": "stderr",
     "output_type": "stream",
     "text": [
      "22/05/27 11:07:35 WARN TaskSetManager: Stage 14 contains a task of very large size (15629 KiB). The maximum recommended task size is 1000 KiB.\n",
      "22/05/27 11:07:35 WARN TaskSetManager: Stage 15 contains a task of very large size (15629 KiB). The maximum recommended task size is 1000 KiB.\n",
      "22/05/27 11:07:36 WARN TaskSetManager: Stage 16 contains a task of very large size (15629 KiB). The maximum recommended task size is 1000 KiB.\n",
      "22/05/27 11:07:37 WARN TaskSetManager: Stage 17 contains a task of very large size (15629 KiB). The maximum recommended task size is 1000 KiB.\n"
     ]
    },
    {
     "name": "stdout",
     "output_type": "stream",
     "text": [
      "Took time: 2.134049892425537\n",
      "Step: 2\n"
     ]
    },
    {
     "name": "stderr",
     "output_type": "stream",
     "text": [
      "22/05/27 11:07:37 WARN TaskSetManager: Stage 18 contains a task of very large size (15629 KiB). The maximum recommended task size is 1000 KiB.\n",
      "22/05/27 11:07:37 WARN TaskSetManager: Stage 19 contains a task of very large size (15629 KiB). The maximum recommended task size is 1000 KiB.\n",
      "22/05/27 11:07:38 WARN TaskSetManager: Stage 20 contains a task of very large size (15629 KiB). The maximum recommended task size is 1000 KiB.\n",
      "22/05/27 11:07:39 WARN TaskSetManager: Stage 21 contains a task of very large size (15629 KiB). The maximum recommended task size is 1000 KiB.\n"
     ]
    },
    {
     "name": "stdout",
     "output_type": "stream",
     "text": [
      "Took time: 2.5261402130126953\n",
      "Step: 3\n"
     ]
    },
    {
     "name": "stderr",
     "output_type": "stream",
     "text": [
      "22/05/27 11:07:39 WARN TaskSetManager: Stage 22 contains a task of very large size (15629 KiB). The maximum recommended task size is 1000 KiB.\n",
      "22/05/27 11:07:40 WARN TaskSetManager: Stage 23 contains a task of very large size (15629 KiB). The maximum recommended task size is 1000 KiB.\n",
      "22/05/27 11:07:40 WARN TaskSetManager: Stage 24 contains a task of very large size (15629 KiB). The maximum recommended task size is 1000 KiB.\n",
      "                                                                                \r"
     ]
    },
    {
     "name": "stdout",
     "output_type": "stream",
     "text": [
      "Took time: 2.8091843128204346\n",
      "Step: 4\n"
     ]
    },
    {
     "name": "stderr",
     "output_type": "stream",
     "text": [
      "22/05/27 11:07:42 WARN TaskSetManager: Stage 25 contains a task of very large size (15629 KiB). The maximum recommended task size is 1000 KiB.\n",
      "22/05/27 11:07:42 WARN TaskSetManager: Stage 26 contains a task of very large size (15629 KiB). The maximum recommended task size is 1000 KiB.\n",
      "22/05/27 11:07:43 WARN TaskSetManager: Stage 27 contains a task of very large size (15629 KiB). The maximum recommended task size is 1000 KiB.\n",
      "22/05/27 11:07:43 WARN TaskSetManager: Stage 28 contains a task of very large size (15629 KiB). The maximum recommended task size is 1000 KiB.\n",
      "22/05/27 11:07:46 WARN TaskSetManager: Stage 29 contains a task of very large size (15629 KiB). The maximum recommended task size is 1000 KiB.\n"
     ]
    },
    {
     "name": "stdout",
     "output_type": "stream",
     "text": [
      "Took time: 3.506394624710083\n",
      "Step: 5\n"
     ]
    },
    {
     "name": "stderr",
     "output_type": "stream",
     "text": [
      "22/05/27 11:07:46 WARN TaskSetManager: Stage 30 contains a task of very large size (15629 KiB). The maximum recommended task size is 1000 KiB.\n",
      "22/05/27 11:07:46 WARN TaskSetManager: Stage 31 contains a task of very large size (15629 KiB). The maximum recommended task size is 1000 KiB.\n",
      "22/05/27 11:07:46 WARN TaskSetManager: Stage 32 contains a task of very large size (15629 KiB). The maximum recommended task size is 1000 KiB.\n",
      "                                                                                \r"
     ]
    },
    {
     "name": "stdout",
     "output_type": "stream",
     "text": [
      "Took time: 3.5136046409606934\n",
      "Step: 6\n"
     ]
    },
    {
     "name": "stderr",
     "output_type": "stream",
     "text": [
      "22/05/27 11:07:49 WARN TaskSetManager: Stage 33 contains a task of very large size (15629 KiB). The maximum recommended task size is 1000 KiB.\n",
      "22/05/27 11:07:49 WARN TaskSetManager: Stage 34 contains a task of very large size (15629 KiB). The maximum recommended task size is 1000 KiB.\n",
      "22/05/27 11:07:50 WARN TaskSetManager: Stage 35 contains a task of very large size (15629 KiB). The maximum recommended task size is 1000 KiB.\n",
      "22/05/27 11:07:50 WARN TaskSetManager: Stage 36 contains a task of very large size (15629 KiB). The maximum recommended task size is 1000 KiB.\n",
      "22/05/27 11:07:53 WARN TaskSetManager: Stage 37 contains a task of very large size (15629 KiB). The maximum recommended task size is 1000 KiB.\n"
     ]
    },
    {
     "name": "stdout",
     "output_type": "stream",
     "text": [
      "Took time: 3.891164779663086\n",
      "Step: 7\n"
     ]
    },
    {
     "name": "stderr",
     "output_type": "stream",
     "text": [
      "22/05/27 11:07:53 WARN TaskSetManager: Stage 38 contains a task of very large size (15629 KiB). The maximum recommended task size is 1000 KiB.\n",
      "22/05/27 11:07:54 WARN TaskSetManager: Stage 39 contains a task of very large size (15629 KiB). The maximum recommended task size is 1000 KiB.\n",
      "22/05/27 11:07:54 WARN TaskSetManager: Stage 40 contains a task of very large size (15629 KiB). The maximum recommended task size is 1000 KiB.\n",
      "22/05/27 11:07:57 WARN TaskSetManager: Stage 41 contains a task of very large size (15629 KiB). The maximum recommended task size is 1000 KiB.\n"
     ]
    },
    {
     "name": "stdout",
     "output_type": "stream",
     "text": [
      "Took time: 4.081225872039795\n",
      "Step: 8\n"
     ]
    },
    {
     "name": "stderr",
     "output_type": "stream",
     "text": [
      "22/05/27 11:07:57 WARN TaskSetManager: Stage 42 contains a task of very large size (15629 KiB). The maximum recommended task size is 1000 KiB.\n",
      "22/05/27 11:07:58 WARN TaskSetManager: Stage 43 contains a task of very large size (15629 KiB). The maximum recommended task size is 1000 KiB.\n",
      "22/05/27 11:07:58 WARN TaskSetManager: Stage 44 contains a task of very large size (15629 KiB). The maximum recommended task size is 1000 KiB.\n",
      "                                                                                \r"
     ]
    },
    {
     "name": "stdout",
     "output_type": "stream",
     "text": [
      "Took time: 4.222369909286499\n",
      "Step: 9\n"
     ]
    },
    {
     "name": "stderr",
     "output_type": "stream",
     "text": [
      "22/05/27 11:08:01 WARN TaskSetManager: Stage 45 contains a task of very large size (15629 KiB). The maximum recommended task size is 1000 KiB.\n",
      "22/05/27 11:08:02 WARN TaskSetManager: Stage 46 contains a task of very large size (15629 KiB). The maximum recommended task size is 1000 KiB.\n",
      "22/05/27 11:08:02 WARN TaskSetManager: Stage 47 contains a task of very large size (15629 KiB). The maximum recommended task size is 1000 KiB.\n",
      "22/05/27 11:08:02 WARN TaskSetManager: Stage 48 contains a task of very large size (15629 KiB). The maximum recommended task size is 1000 KiB.\n",
      "22/05/27 11:08:06 WARN TaskSetManager: Stage 49 contains a task of very large size (15629 KiB). The maximum recommended task size is 1000 KiB.\n"
     ]
    },
    {
     "name": "stdout",
     "output_type": "stream",
     "text": [
      "Took time: 4.567854642868042\n",
      "Step: 10\n"
     ]
    },
    {
     "name": "stderr",
     "output_type": "stream",
     "text": [
      "22/05/27 11:08:06 WARN TaskSetManager: Stage 50 contains a task of very large size (15629 KiB). The maximum recommended task size is 1000 KiB.\n",
      "22/05/27 11:08:06 WARN TaskSetManager: Stage 51 contains a task of very large size (15629 KiB). The maximum recommended task size is 1000 KiB.\n",
      "22/05/27 11:08:07 WARN TaskSetManager: Stage 52 contains a task of very large size (15629 KiB). The maximum recommended task size is 1000 KiB.\n",
      "22/05/27 11:08:10 WARN TaskSetManager: Stage 53 contains a task of very large size (15629 KiB). The maximum recommended task size is 1000 KiB.\n"
     ]
    },
    {
     "name": "stdout",
     "output_type": "stream",
     "text": [
      "Took time: 4.696666717529297\n",
      "Step: 11\n"
     ]
    },
    {
     "name": "stderr",
     "output_type": "stream",
     "text": [
      "22/05/27 11:08:11 WARN TaskSetManager: Stage 54 contains a task of very large size (15629 KiB). The maximum recommended task size is 1000 KiB.\n",
      "22/05/27 11:08:11 WARN TaskSetManager: Stage 55 contains a task of very large size (15629 KiB). The maximum recommended task size is 1000 KiB.\n",
      "22/05/27 11:08:12 WARN TaskSetManager: Stage 56 contains a task of very large size (15629 KiB). The maximum recommended task size is 1000 KiB.\n",
      "22/05/27 11:08:16 WARN TaskSetManager: Stage 57 contains a task of very large size (15629 KiB). The maximum recommended task size is 1000 KiB.\n"
     ]
    },
    {
     "name": "stdout",
     "output_type": "stream",
     "text": [
      "Took time: 5.251950263977051\n",
      "Step: 12\n"
     ]
    },
    {
     "name": "stderr",
     "output_type": "stream",
     "text": [
      "22/05/27 11:08:16 WARN TaskSetManager: Stage 58 contains a task of very large size (15629 KiB). The maximum recommended task size is 1000 KiB.\n",
      "22/05/27 11:08:16 WARN TaskSetManager: Stage 59 contains a task of very large size (15629 KiB). The maximum recommended task size is 1000 KiB.\n",
      "22/05/27 11:08:17 WARN TaskSetManager: Stage 60 contains a task of very large size (15629 KiB). The maximum recommended task size is 1000 KiB.\n",
      "22/05/27 11:08:21 WARN TaskSetManager: Stage 61 contains a task of very large size (15629 KiB). The maximum recommended task size is 1000 KiB.\n"
     ]
    },
    {
     "name": "stdout",
     "output_type": "stream",
     "text": [
      "Took time: 5.462134122848511\n",
      "Step: 13\n"
     ]
    },
    {
     "name": "stderr",
     "output_type": "stream",
     "text": [
      "22/05/27 11:08:21 WARN TaskSetManager: Stage 62 contains a task of very large size (15629 KiB). The maximum recommended task size is 1000 KiB.\n",
      "22/05/27 11:08:22 WARN TaskSetManager: Stage 63 contains a task of very large size (15629 KiB). The maximum recommended task size is 1000 KiB.\n",
      "22/05/27 11:08:22 WARN TaskSetManager: Stage 64 contains a task of very large size (15629 KiB). The maximum recommended task size is 1000 KiB.\n",
      "22/05/27 11:08:26 WARN TaskSetManager: Stage 65 contains a task of very large size (15629 KiB). The maximum recommended task size is 1000 KiB.\n"
     ]
    },
    {
     "name": "stdout",
     "output_type": "stream",
     "text": [
      "Took time: 5.255688905715942\n",
      "Step: 14\n"
     ]
    },
    {
     "name": "stderr",
     "output_type": "stream",
     "text": [
      "22/05/27 11:08:27 WARN TaskSetManager: Stage 66 contains a task of very large size (15629 KiB). The maximum recommended task size is 1000 KiB.\n",
      "22/05/27 11:08:27 WARN TaskSetManager: Stage 67 contains a task of very large size (15629 KiB). The maximum recommended task size is 1000 KiB.\n",
      "22/05/27 11:08:28 WARN TaskSetManager: Stage 68 contains a task of very large size (15629 KiB). The maximum recommended task size is 1000 KiB.\n",
      "22/05/27 11:08:32 WARN TaskSetManager: Stage 69 contains a task of very large size (15629 KiB). The maximum recommended task size is 1000 KiB.\n"
     ]
    },
    {
     "name": "stdout",
     "output_type": "stream",
     "text": [
      "Took time: 5.87001895904541\n",
      "Step: 15\n"
     ]
    },
    {
     "name": "stderr",
     "output_type": "stream",
     "text": [
      "22/05/27 11:08:33 WARN TaskSetManager: Stage 70 contains a task of very large size (15629 KiB). The maximum recommended task size is 1000 KiB.\n",
      "22/05/27 11:08:33 WARN TaskSetManager: Stage 71 contains a task of very large size (15629 KiB). The maximum recommended task size is 1000 KiB.\n",
      "22/05/27 11:08:34 WARN TaskSetManager: Stage 72 contains a task of very large size (15629 KiB). The maximum recommended task size is 1000 KiB.\n",
      "22/05/27 11:08:38 WARN TaskSetManager: Stage 73 contains a task of very large size (15629 KiB). The maximum recommended task size is 1000 KiB.\n"
     ]
    },
    {
     "name": "stdout",
     "output_type": "stream",
     "text": [
      "Took time: 5.998129367828369\n",
      "Step: 16\n"
     ]
    },
    {
     "name": "stderr",
     "output_type": "stream",
     "text": [
      "22/05/27 11:08:39 WARN TaskSetManager: Stage 74 contains a task of very large size (15629 KiB). The maximum recommended task size is 1000 KiB.\n",
      "22/05/27 11:08:39 WARN TaskSetManager: Stage 75 contains a task of very large size (15629 KiB). The maximum recommended task size is 1000 KiB.\n",
      "22/05/27 11:08:39 WARN TaskSetManager: Stage 76 contains a task of very large size (15629 KiB). The maximum recommended task size is 1000 KiB.\n",
      "22/05/27 11:08:44 WARN TaskSetManager: Stage 77 contains a task of very large size (15629 KiB). The maximum recommended task size is 1000 KiB.\n"
     ]
    },
    {
     "name": "stdout",
     "output_type": "stream",
     "text": [
      "Took time: 5.596835374832153\n",
      "Step: 17\n"
     ]
    },
    {
     "name": "stderr",
     "output_type": "stream",
     "text": [
      "22/05/27 11:08:44 WARN TaskSetManager: Stage 78 contains a task of very large size (15629 KiB). The maximum recommended task size is 1000 KiB.\n",
      "22/05/27 11:08:45 WARN TaskSetManager: Stage 79 contains a task of very large size (15629 KiB). The maximum recommended task size is 1000 KiB.\n",
      "22/05/27 11:08:45 WARN TaskSetManager: Stage 80 contains a task of very large size (15629 KiB). The maximum recommended task size is 1000 KiB.\n",
      "22/05/27 11:08:50 WARN TaskSetManager: Stage 81 contains a task of very large size (15629 KiB). The maximum recommended task size is 1000 KiB.\n"
     ]
    },
    {
     "name": "stdout",
     "output_type": "stream",
     "text": [
      "Took time: 5.772828817367554\n",
      "Step: 18\n"
     ]
    },
    {
     "name": "stderr",
     "output_type": "stream",
     "text": [
      "22/05/27 11:08:50 WARN TaskSetManager: Stage 82 contains a task of very large size (15629 KiB). The maximum recommended task size is 1000 KiB.\n",
      "22/05/27 11:08:50 WARN TaskSetManager: Stage 83 contains a task of very large size (15629 KiB). The maximum recommended task size is 1000 KiB.\n",
      "22/05/27 11:08:51 WARN TaskSetManager: Stage 84 contains a task of very large size (15629 KiB). The maximum recommended task size is 1000 KiB.\n",
      "22/05/27 11:08:57 WARN TaskSetManager: Stage 85 contains a task of very large size (15629 KiB). The maximum recommended task size is 1000 KiB.\n"
     ]
    },
    {
     "name": "stdout",
     "output_type": "stream",
     "text": [
      "Took time: 6.967563152313232\n",
      "Step: 19\n"
     ]
    },
    {
     "name": "stderr",
     "output_type": "stream",
     "text": [
      "22/05/27 11:08:57 WARN TaskSetManager: Stage 86 contains a task of very large size (15629 KiB). The maximum recommended task size is 1000 KiB.\n",
      "22/05/27 11:08:58 WARN TaskSetManager: Stage 87 contains a task of very large size (15629 KiB). The maximum recommended task size is 1000 KiB.\n",
      "22/05/27 11:08:58 WARN TaskSetManager: Stage 88 contains a task of very large size (15629 KiB). The maximum recommended task size is 1000 KiB.\n",
      "[Stage 88:===================================================>     (9 + 1) / 10]\r"
     ]
    },
    {
     "name": "stdout",
     "output_type": "stream",
     "text": [
      "Took time: 6.410759210586548\n"
     ]
    },
    {
     "name": "stderr",
     "output_type": "stream",
     "text": [
      "                                                                                \r"
     ]
    }
   ],
   "source": [
    "broadcast_Y = sc.broadcast(Y_numpy)\n",
    "selected_features_indices, execution_time = mrmr_spark(n_total_features, 20, sc, X_RDD)"
   ]
  },
  {
   "cell_type": "code",
   "execution_count": 12,
   "id": "6d654e13-2771-4a4b-ba00-964865dfd33f",
   "metadata": {},
   "outputs": [
    {
     "data": {
      "text/plain": [
       "[1, 2, 7, 8, 16, 17, 18, 21, 23, 24, 25, 26, 32, 34, 36, 37, 38, 40, 41, 42]"
      ]
     },
     "execution_count": 12,
     "metadata": {},
     "output_type": "execute_result"
    }
   ],
   "source": [
    "selected_features_indices = sorted(selected_features_indices)\n",
    "selected_features_indices"
   ]
  },
  {
   "cell_type": "markdown",
   "id": "35556d26-dee4-441d-82a8-ad5bc65c824c",
   "metadata": {},
   "source": [
    "# Forward feature selection algorithm\n",
    "\n",
    "Using a machine learning model, we will iteratively add new features into the training and compare at each iteration which feature provided the best results using test set validation. The performance metric is computed by taking the position of the label in the 100 most probable outputs.\n",
    "\n",
    "As Naïve Bayes does not require training and can directly output prediction probabilities, it is considered the best for this problem as many different results are possible. "
   ]
  },
  {
   "cell_type": "code",
   "execution_count": 39,
   "id": "af256dda-7f36-4776-8572-fac4fc8c9a2b",
   "metadata": {},
   "outputs": [],
   "source": [
    "# Need to replaced -1 by 0 in the training dataset as bayes don't support negative values\n",
    "\n",
    "def replace_negative_by_zero(array):\n",
    "    negative_element_mask = (array == -1)\n",
    "    array[negative_element_mask] = 0\n",
    "    return array\n",
    "    \n",
    "\n",
    "X_RDD_no_negative = X_RDD.map(replace_negative_by_zero)"
   ]
  },
  {
   "cell_type": "code",
   "execution_count": 40,
   "id": "d14bc308-7a5d-4e58-b652-9b5b619f22f8",
   "metadata": {},
   "outputs": [
    {
     "name": "stdout",
     "output_type": "stream",
     "text": [
      "Step: 0\n"
     ]
    },
    {
     "name": "stderr",
     "output_type": "stream",
     "text": [
      "22/05/27 11:28:42 WARN TaskSetManager: Stage 100 contains a task of very large size (15629 KiB). The maximum recommended task size is 1000 KiB.\n",
      "22/05/27 11:28:42 WARN TaskSetManager: Stage 101 contains a task of very large size (15629 KiB). The maximum recommended task size is 1000 KiB.\n",
      "22/05/27 11:28:42 WARN TaskSetManager: Stage 102 contains a task of very large size (15629 KiB). The maximum recommended task size is 1000 KiB.\n",
      "22/05/27 11:28:43 WARN TaskSetManager: Stage 103 contains a task of very large size (15629 KiB). The maximum recommended task size is 1000 KiB.\n",
      "Exception in thread \"serve RDD 127\" java.net.SocketTimeoutException: Accept timed out\n",
      "\tat java.net.PlainSocketImpl.socketAccept(Native Method)\n",
      "\tat java.net.AbstractPlainSocketImpl.accept(AbstractPlainSocketImpl.java:409)\n",
      "\tat java.net.ServerSocket.implAccept(ServerSocket.java:560)\n",
      "\tat java.net.ServerSocket.accept(ServerSocket.java:528)\n",
      "\tat org.apache.spark.security.SocketAuthServer$$anon$1.run(SocketAuthServer.scala:64)\n",
      "22/05/27 11:28:55 WARN TaskSetManager: Stage 104 contains a task of very large size (15629 KiB). The maximum recommended task size is 1000 KiB.\n"
     ]
    },
    {
     "name": "stdout",
     "output_type": "stream",
     "text": [
      "best_score : 0.47807333333333335\n",
      "13.276906967163086\n",
      "Step: 1\n"
     ]
    },
    {
     "name": "stderr",
     "output_type": "stream",
     "text": [
      "22/05/27 11:28:55 WARN TaskSetManager: Stage 105 contains a task of very large size (15629 KiB). The maximum recommended task size is 1000 KiB.\n",
      "22/05/27 11:28:56 WARN TaskSetManager: Stage 106 contains a task of very large size (15629 KiB). The maximum recommended task size is 1000 KiB.\n",
      "22/05/27 11:28:56 WARN TaskSetManager: Stage 107 contains a task of very large size (15629 KiB). The maximum recommended task size is 1000 KiB.\n",
      "22/05/27 11:29:15 WARN TaskSetManager: Stage 108 contains a task of very large size (15629 KiB). The maximum recommended task size is 1000 KiB.\n"
     ]
    },
    {
     "name": "stdout",
     "output_type": "stream",
     "text": [
      "best_score : 0.48411\n",
      "19.84473943710327\n",
      "Step: 2\n"
     ]
    },
    {
     "name": "stderr",
     "output_type": "stream",
     "text": [
      "22/05/27 11:29:15 WARN TaskSetManager: Stage 109 contains a task of very large size (15629 KiB). The maximum recommended task size is 1000 KiB.\n",
      "22/05/27 11:29:16 WARN TaskSetManager: Stage 110 contains a task of very large size (15629 KiB). The maximum recommended task size is 1000 KiB.\n",
      "22/05/27 11:29:16 WARN TaskSetManager: Stage 111 contains a task of very large size (15629 KiB). The maximum recommended task size is 1000 KiB.\n",
      "22/05/27 11:29:41 WARN TaskSetManager: Stage 112 contains a task of very large size (15629 KiB). The maximum recommended task size is 1000 KiB.\n"
     ]
    },
    {
     "name": "stdout",
     "output_type": "stream",
     "text": [
      "best_score : 0.48728\n",
      "26.119744777679443\n",
      "Step: 3\n"
     ]
    },
    {
     "name": "stderr",
     "output_type": "stream",
     "text": [
      "22/05/27 11:29:41 WARN TaskSetManager: Stage 113 contains a task of very large size (15629 KiB). The maximum recommended task size is 1000 KiB.\n",
      "22/05/27 11:29:42 WARN TaskSetManager: Stage 114 contains a task of very large size (15629 KiB). The maximum recommended task size is 1000 KiB.\n",
      "22/05/27 11:29:42 WARN TaskSetManager: Stage 115 contains a task of very large size (15629 KiB). The maximum recommended task size is 1000 KiB.\n",
      "22/05/27 11:30:13 WARN TaskSetManager: Stage 116 contains a task of very large size (15629 KiB). The maximum recommended task size is 1000 KiB.\n"
     ]
    },
    {
     "name": "stdout",
     "output_type": "stream",
     "text": [
      "best_score : 0.48944666666666664\n",
      "31.955032348632812\n",
      "Step: 4\n"
     ]
    },
    {
     "name": "stderr",
     "output_type": "stream",
     "text": [
      "22/05/27 11:30:13 WARN TaskSetManager: Stage 117 contains a task of very large size (15629 KiB). The maximum recommended task size is 1000 KiB.\n",
      "22/05/27 11:30:14 WARN TaskSetManager: Stage 118 contains a task of very large size (15629 KiB). The maximum recommended task size is 1000 KiB.\n",
      "22/05/27 11:30:14 WARN TaskSetManager: Stage 119 contains a task of very large size (15629 KiB). The maximum recommended task size is 1000 KiB.\n",
      "22/05/27 11:30:49 WARN TaskSetManager: Stage 120 contains a task of very large size (15629 KiB). The maximum recommended task size is 1000 KiB.\n"
     ]
    },
    {
     "name": "stdout",
     "output_type": "stream",
     "text": [
      "best_score : 0.49080666666666667\n",
      "36.063637018203735\n",
      "Step: 5\n"
     ]
    },
    {
     "name": "stderr",
     "output_type": "stream",
     "text": [
      "22/05/27 11:30:49 WARN TaskSetManager: Stage 121 contains a task of very large size (15629 KiB). The maximum recommended task size is 1000 KiB.\n",
      "22/05/27 11:30:50 WARN TaskSetManager: Stage 122 contains a task of very large size (15629 KiB). The maximum recommended task size is 1000 KiB.\n",
      "22/05/27 11:30:50 WARN TaskSetManager: Stage 123 contains a task of very large size (15629 KiB). The maximum recommended task size is 1000 KiB.\n",
      "22/05/27 11:31:30 WARN TaskSetManager: Stage 124 contains a task of very large size (15629 KiB). The maximum recommended task size is 1000 KiB.\n"
     ]
    },
    {
     "name": "stdout",
     "output_type": "stream",
     "text": [
      "best_score : 0.49342\n",
      "40.73336052894592\n",
      "Step: 6\n"
     ]
    },
    {
     "name": "stderr",
     "output_type": "stream",
     "text": [
      "22/05/27 11:31:30 WARN TaskSetManager: Stage 125 contains a task of very large size (15629 KiB). The maximum recommended task size is 1000 KiB.\n",
      "22/05/27 11:31:31 WARN TaskSetManager: Stage 126 contains a task of very large size (15629 KiB). The maximum recommended task size is 1000 KiB.\n",
      "22/05/27 11:31:31 WARN TaskSetManager: Stage 127 contains a task of very large size (15629 KiB). The maximum recommended task size is 1000 KiB.\n",
      "22/05/27 11:32:15 WARN TaskSetManager: Stage 128 contains a task of very large size (15629 KiB). The maximum recommended task size is 1000 KiB.\n"
     ]
    },
    {
     "name": "stdout",
     "output_type": "stream",
     "text": [
      "best_score : 0.4942666666666667\n",
      "45.23266100883484\n",
      "Step: 7\n"
     ]
    },
    {
     "name": "stderr",
     "output_type": "stream",
     "text": [
      "22/05/27 11:32:15 WARN TaskSetManager: Stage 129 contains a task of very large size (15629 KiB). The maximum recommended task size is 1000 KiB.\n",
      "22/05/27 11:32:16 WARN TaskSetManager: Stage 130 contains a task of very large size (15629 KiB). The maximum recommended task size is 1000 KiB.\n",
      "22/05/27 11:32:16 WARN TaskSetManager: Stage 131 contains a task of very large size (15629 KiB). The maximum recommended task size is 1000 KiB.\n",
      "22/05/27 11:33:03 WARN TaskSetManager: Stage 132 contains a task of very large size (15629 KiB). The maximum recommended task size is 1000 KiB.\n"
     ]
    },
    {
     "name": "stdout",
     "output_type": "stream",
     "text": [
      "best_score : 0.49457666666666666\n",
      "48.07389187812805\n",
      "Step: 8\n"
     ]
    },
    {
     "name": "stderr",
     "output_type": "stream",
     "text": [
      "22/05/27 11:33:03 WARN TaskSetManager: Stage 133 contains a task of very large size (15629 KiB). The maximum recommended task size is 1000 KiB.\n",
      "22/05/27 11:33:04 WARN TaskSetManager: Stage 134 contains a task of very large size (15629 KiB). The maximum recommended task size is 1000 KiB.\n",
      "22/05/27 11:33:04 WARN TaskSetManager: Stage 135 contains a task of very large size (15629 KiB). The maximum recommended task size is 1000 KiB.\n",
      "22/05/27 11:33:55 WARN TaskSetManager: Stage 136 contains a task of very large size (15629 KiB). The maximum recommended task size is 1000 KiB.\n"
     ]
    },
    {
     "name": "stdout",
     "output_type": "stream",
     "text": [
      "best_score : 0.49365\n",
      "51.99153399467468\n",
      "Step: 9\n"
     ]
    },
    {
     "name": "stderr",
     "output_type": "stream",
     "text": [
      "22/05/27 11:33:55 WARN TaskSetManager: Stage 137 contains a task of very large size (15629 KiB). The maximum recommended task size is 1000 KiB.\n",
      "22/05/27 11:33:56 WARN TaskSetManager: Stage 138 contains a task of very large size (15629 KiB). The maximum recommended task size is 1000 KiB.\n",
      "22/05/27 11:33:56 WARN TaskSetManager: Stage 139 contains a task of very large size (15629 KiB). The maximum recommended task size is 1000 KiB.\n",
      "22/05/27 11:34:50 WARN TaskSetManager: Stage 140 contains a task of very large size (15629 KiB). The maximum recommended task size is 1000 KiB.\n"
     ]
    },
    {
     "name": "stdout",
     "output_type": "stream",
     "text": [
      "best_score : 0.49368666666666666\n",
      "54.713850259780884\n",
      "Step: 10\n"
     ]
    },
    {
     "name": "stderr",
     "output_type": "stream",
     "text": [
      "22/05/27 11:34:50 WARN TaskSetManager: Stage 141 contains a task of very large size (15629 KiB). The maximum recommended task size is 1000 KiB.\n",
      "22/05/27 11:34:51 WARN TaskSetManager: Stage 142 contains a task of very large size (15629 KiB). The maximum recommended task size is 1000 KiB.\n",
      "22/05/27 11:34:51 WARN TaskSetManager: Stage 143 contains a task of very large size (15629 KiB). The maximum recommended task size is 1000 KiB.\n",
      "22/05/27 11:35:48 WARN TaskSetManager: Stage 144 contains a task of very large size (15629 KiB). The maximum recommended task size is 1000 KiB.\n"
     ]
    },
    {
     "name": "stdout",
     "output_type": "stream",
     "text": [
      "best_score : 0.49310333333333334\n",
      "58.303258180618286\n",
      "Step: 11\n"
     ]
    },
    {
     "name": "stderr",
     "output_type": "stream",
     "text": [
      "22/05/27 11:35:48 WARN TaskSetManager: Stage 145 contains a task of very large size (15629 KiB). The maximum recommended task size is 1000 KiB.\n",
      "22/05/27 11:35:49 WARN TaskSetManager: Stage 146 contains a task of very large size (15629 KiB). The maximum recommended task size is 1000 KiB.\n",
      "22/05/27 11:35:49 WARN TaskSetManager: Stage 147 contains a task of very large size (15629 KiB). The maximum recommended task size is 1000 KiB.\n",
      "22/05/27 11:36:50 WARN TaskSetManager: Stage 148 contains a task of very large size (15629 KiB). The maximum recommended task size is 1000 KiB.\n"
     ]
    },
    {
     "name": "stdout",
     "output_type": "stream",
     "text": [
      "best_score : 0.4928533333333333\n",
      "62.2854278087616\n",
      "Step: 12\n"
     ]
    },
    {
     "name": "stderr",
     "output_type": "stream",
     "text": [
      "22/05/27 11:36:51 WARN TaskSetManager: Stage 149 contains a task of very large size (15629 KiB). The maximum recommended task size is 1000 KiB.\n",
      "22/05/27 11:36:51 WARN TaskSetManager: Stage 150 contains a task of very large size (15629 KiB). The maximum recommended task size is 1000 KiB.\n",
      "22/05/27 11:36:52 WARN TaskSetManager: Stage 151 contains a task of very large size (15629 KiB). The maximum recommended task size is 1000 KiB.\n",
      "22/05/27 11:37:54 WARN TaskSetManager: Stage 152 contains a task of very large size (15629 KiB). The maximum recommended task size is 1000 KiB.\n"
     ]
    },
    {
     "name": "stdout",
     "output_type": "stream",
     "text": [
      "best_score : 0.49344333333333334\n",
      "63.08950757980347\n",
      "Step: 13\n"
     ]
    },
    {
     "name": "stderr",
     "output_type": "stream",
     "text": [
      "22/05/27 11:37:54 WARN TaskSetManager: Stage 153 contains a task of very large size (15629 KiB). The maximum recommended task size is 1000 KiB.\n",
      "22/05/27 11:37:54 WARN TaskSetManager: Stage 154 contains a task of very large size (15629 KiB). The maximum recommended task size is 1000 KiB.\n",
      "22/05/27 11:37:55 WARN TaskSetManager: Stage 155 contains a task of very large size (15629 KiB). The maximum recommended task size is 1000 KiB.\n",
      "22/05/27 11:38:59 WARN TaskSetManager: Stage 156 contains a task of very large size (15629 KiB). The maximum recommended task size is 1000 KiB.\n"
     ]
    },
    {
     "name": "stdout",
     "output_type": "stream",
     "text": [
      "best_score : 0.49378666666666665\n",
      "65.68100547790527\n",
      "Step: 14\n"
     ]
    },
    {
     "name": "stderr",
     "output_type": "stream",
     "text": [
      "22/05/27 11:39:00 WARN TaskSetManager: Stage 157 contains a task of very large size (15629 KiB). The maximum recommended task size is 1000 KiB.\n",
      "22/05/27 11:39:00 WARN TaskSetManager: Stage 158 contains a task of very large size (15629 KiB). The maximum recommended task size is 1000 KiB.\n",
      "22/05/27 11:39:00 WARN TaskSetManager: Stage 159 contains a task of very large size (15629 KiB). The maximum recommended task size is 1000 KiB.\n",
      "22/05/27 11:40:07 WARN TaskSetManager: Stage 160 contains a task of very large size (15629 KiB). The maximum recommended task size is 1000 KiB.\n"
     ]
    },
    {
     "name": "stdout",
     "output_type": "stream",
     "text": [
      "best_score : 0.49251\n",
      "67.3301157951355\n",
      "Step: 15\n"
     ]
    },
    {
     "name": "stderr",
     "output_type": "stream",
     "text": [
      "22/05/27 11:40:07 WARN TaskSetManager: Stage 161 contains a task of very large size (15629 KiB). The maximum recommended task size is 1000 KiB.\n",
      "22/05/27 11:40:07 WARN TaskSetManager: Stage 162 contains a task of very large size (15629 KiB). The maximum recommended task size is 1000 KiB.\n",
      "22/05/27 11:40:08 WARN TaskSetManager: Stage 163 contains a task of very large size (15629 KiB). The maximum recommended task size is 1000 KiB.\n",
      "22/05/27 11:41:16 WARN TaskSetManager: Stage 164 contains a task of very large size (15629 KiB). The maximum recommended task size is 1000 KiB.\n"
     ]
    },
    {
     "name": "stdout",
     "output_type": "stream",
     "text": [
      "best_score : 0.49239333333333335\n",
      "69.6287112236023\n",
      "Step: 16\n"
     ]
    },
    {
     "name": "stderr",
     "output_type": "stream",
     "text": [
      "22/05/27 11:41:16 WARN TaskSetManager: Stage 165 contains a task of very large size (15629 KiB). The maximum recommended task size is 1000 KiB.\n",
      "22/05/27 11:41:17 WARN TaskSetManager: Stage 166 contains a task of very large size (15629 KiB). The maximum recommended task size is 1000 KiB.\n",
      "22/05/27 11:41:17 WARN TaskSetManager: Stage 167 contains a task of very large size (15629 KiB). The maximum recommended task size is 1000 KiB.\n",
      "22/05/27 11:42:25 WARN TaskSetManager: Stage 168 contains a task of very large size (15629 KiB). The maximum recommended task size is 1000 KiB.\n"
     ]
    },
    {
     "name": "stdout",
     "output_type": "stream",
     "text": [
      "best_score : 0.4923133333333333\n",
      "68.77218794822693\n",
      "Step: 17\n"
     ]
    },
    {
     "name": "stderr",
     "output_type": "stream",
     "text": [
      "22/05/27 11:42:25 WARN TaskSetManager: Stage 169 contains a task of very large size (15629 KiB). The maximum recommended task size is 1000 KiB.\n",
      "22/05/27 11:42:26 WARN TaskSetManager: Stage 170 contains a task of very large size (15629 KiB). The maximum recommended task size is 1000 KiB.\n",
      "22/05/27 11:42:26 WARN TaskSetManager: Stage 171 contains a task of very large size (15629 KiB). The maximum recommended task size is 1000 KiB.\n",
      "22/05/27 11:43:38 WARN TaskSetManager: Stage 172 contains a task of very large size (15629 KiB). The maximum recommended task size is 1000 KiB.\n"
     ]
    },
    {
     "name": "stdout",
     "output_type": "stream",
     "text": [
      "best_score : 0.49066333333333334\n",
      "73.03322410583496\n",
      "Step: 18\n"
     ]
    },
    {
     "name": "stderr",
     "output_type": "stream",
     "text": [
      "22/05/27 11:43:38 WARN TaskSetManager: Stage 173 contains a task of very large size (15629 KiB). The maximum recommended task size is 1000 KiB.\n",
      "22/05/27 11:43:39 WARN TaskSetManager: Stage 174 contains a task of very large size (15629 KiB). The maximum recommended task size is 1000 KiB.\n",
      "22/05/27 11:43:39 WARN TaskSetManager: Stage 175 contains a task of very large size (15629 KiB). The maximum recommended task size is 1000 KiB.\n",
      "22/05/27 11:44:53 WARN TaskSetManager: Stage 176 contains a task of very large size (15629 KiB). The maximum recommended task size is 1000 KiB.\n"
     ]
    },
    {
     "name": "stdout",
     "output_type": "stream",
     "text": [
      "best_score : 0.48976333333333333\n",
      "75.3446478843689\n",
      "Step: 19\n"
     ]
    },
    {
     "name": "stderr",
     "output_type": "stream",
     "text": [
      "22/05/27 11:44:54 WARN TaskSetManager: Stage 177 contains a task of very large size (15629 KiB). The maximum recommended task size is 1000 KiB.\n",
      "22/05/27 11:44:54 WARN TaskSetManager: Stage 178 contains a task of very large size (15629 KiB). The maximum recommended task size is 1000 KiB.\n",
      "22/05/27 11:44:55 WARN TaskSetManager: Stage 179 contains a task of very large size (15629 KiB). The maximum recommended task size is 1000 KiB.\n",
      "[Stage 179:==================================================>     (9 + 1) / 10]\r"
     ]
    },
    {
     "name": "stdout",
     "output_type": "stream",
     "text": [
      "best_score : 0.48872666666666664\n",
      "77.79691362380981\n"
     ]
    },
    {
     "name": "stderr",
     "output_type": "stream",
     "text": [
      "                                                                                \r"
     ]
    }
   ],
   "source": [
    "from sklearn import tree\n",
    "from sklearn import linear_model\n",
    "from sklearn.naive_bayes import CategoricalNB\n",
    "from sklearn.model_selection import train_test_split\n",
    "\n",
    "\n",
    "def score_model(model, x_test, y_test):\n",
    "    y_pred = model.predict_proba(x_test)\n",
    "    \n",
    "    # Takes the 100 most probable indices (sorted)\n",
    "    most_probable = np.argsort(y_pred, axis=1)[-100:]\n",
    "    \n",
    "    # That's all the labels inside the model\n",
    "    labels = model.labels\n",
    "    \n",
    "    top_100[:] = \n",
    "    top_100 = y_pred[:, most_probable]\n",
    "    \n",
    "    # Take the most 100 probable values for each instance\n",
    "    \n",
    "\n",
    "def fit_get_score(x, selected_features):\n",
    "    \"\"\"\n",
    "    train an model to get the score with the addition of a specified x feature\n",
    "    \"\"\"    \n",
    "    \n",
    "    y = broadcast_Y.value\n",
    "    n_selected_features = selected_features.shape[0]\n",
    "    \n",
    "    if n_selected_features>0:\n",
    "        # need to merge x and the already selected features\n",
    "        x = np.vstack((selected_features,x))\n",
    "        x = x.transpose()\n",
    "    else:\n",
    "        x = x.reshape(-1, 1)\n",
    "        \n",
    "    \n",
    "    #split data\n",
    "    x_train,x_test,y_train,y_test = train_test_split(x,y, test_size= 0.3)\n",
    "    \n",
    "    # train on training data\n",
    "    model = CategoricalNB()\n",
    "    model = model.fit(x_train,y_train)\n",
    "    \n",
    "    # get score on testing set\n",
    "    return model.score(x_test, y_test)\n",
    "\n",
    "\n",
    "# Forward feature selection based \n",
    "def forward_feature_selection(n_total_features, K, sc, X_RDD):\n",
    "    \"\"\"\n",
    "    n_total_features : number of total features\n",
    "    K : number of feature to select\n",
    "    sc : spark context\n",
    "    X_RDD : RDD of the variable X\n",
    "    Y: Output data\n",
    "    \n",
    "    return the indice of selected features and time execution\n",
    "    by using a decision tree as model to calculate the score\n",
    "    \"\"\"\n",
    "    time_execution = []\n",
    "    \n",
    "    remaining_features_indices = list(range(n_total_features))\n",
    "    selected_features_indices = []\n",
    "    \n",
    "    for k in range(K):\n",
    "        print(\"Step: \"+str(k))\n",
    "    \n",
    "        start_time=time.time()\n",
    "\n",
    "        # Get the subset of selected features values, and cast as an array\n",
    "        selected_features = X_RDD.zipWithIndex().filter(lambda x: x[1] in selected_features_indices).map(lambda x: x[0]).collect()\n",
    "        selected_features = np.array(selected_features)\n",
    "        \n",
    "    \n",
    "        #  scores for a certain model are computed by first filtering `t_X` to remove already selected features, and then mapping \n",
    "        # each remaining feature using the `fit_get_score` function\n",
    "        scores = X_RDD.zipWithIndex().filter(lambda x: x[1] in remaining_features_indices).map(lambda x:fit_get_score(x[0],selected_features)).collect()\n",
    "    \n",
    "        # Once all scores are computed, the index of the feature with the highest value is chosen\n",
    "        scores = np.array(scores)\n",
    "        \n",
    "        print(\"best_score :\", np.max(scores))\n",
    "    \n",
    "        index_max_score_features = np.argmax(scores)\n",
    "    \n",
    "        selected_features_indices.append(remaining_features_indices[index_max_score_features])\n",
    "    \n",
    "        del(remaining_features_indices[index_max_score_features])\n",
    "    \n",
    "        print(time.time()-start_time)\n",
    "        time_execution.append(time.time()-start_time)\n",
    "        \n",
    "    return selected_features_indices, time_execution\n",
    "\n",
    "\n",
    "\n",
    "# Forward feature selection based on a accuracy increase. \n",
    "# Stops adding features when the accuracy stops increasing by a fixed amount.\n",
    "def forward_feature_selection_diff(n_total_features, inc_accuracy, sc, X_RDD):\n",
    "    \"\"\"\n",
    "    n_total_features : number of total features\n",
    "    inc_accuracy : increase of accuracy needed to continue the algorithm\n",
    "    sc : spark context\n",
    "    X_RDD : RDD of the variable X\n",
    "    Y: Output data\n",
    "    \n",
    "    return the indice of selected features and time execution\n",
    "    by using a decision tree as model to calculate the score\n",
    "    \"\"\"\n",
    "    time_execution = []\n",
    "    \n",
    "    remaining_features_indices = list(range(n_total_features))\n",
    "    selected_features_indices = []\n",
    "    \n",
    "    last_best_score = 0\n",
    "    diff_accuracy = 1\n",
    "    k = 0\n",
    "    while diff_accuracy > inc_accuracy:\n",
    "        print(\"Step: \"+str(k))\n",
    "    \n",
    "        start_time=time.time()\n",
    "\n",
    "        # Get the subset of selected features values, and cast as an array\n",
    "        selected_features = X_RDD.zipWithIndex().filter(lambda x: x[1] in selected_features_indices).map(lambda x: x[0]).collect()\n",
    "        selected_features = np.array(selected_features)\n",
    "        \n",
    "    \n",
    "        #  scores for a certain model are computed by first filtering `t_X` to remove already selected features, and then mapping \n",
    "        # each remaining feature using the `fit_get_score` function\n",
    "        scores = X_RDD.zipWithIndex().filter(lambda x: x[1] in remaining_features_indices).map(lambda x:fit_get_score(x[0],selected_features)).collect()\n",
    "    \n",
    "        # Once all scores are computed, the index of the feature with the highest value is chosen\n",
    "        scores = np.array(scores)\n",
    "        \n",
    "        # compute the difference between last result and new result\n",
    "        best_score = np.max(scores)\n",
    "        diff_accuracy = best_score - last_best_score\n",
    "        \n",
    "        \n",
    "        print(\"best_accuracy:\", best_score)\n",
    "        \n",
    "        if best_score > last_best_score:\n",
    "        \n",
    "            index_max_score_features = np.argmax(scores)\n",
    "    \n",
    "            selected_features_indices.append(remaining_features_indices[index_max_score_features])\n",
    "    \n",
    "            del(remaining_features_indices[index_max_score_features])\n",
    "        \n",
    "        last_best_score = best_score\n",
    "        # print(time.time()-start_time)\n",
    "        time_execution.append(time.time()-start_time)\n",
    "        \n",
    "        k += 1\n",
    "        \n",
    "    return selected_features_indices, time_execution\n",
    "\n",
    "\n",
    "\n",
    "selected_features_indices_forward, execution_time_forward = forward_feature_selection(n_total_features,\n",
    "                                                                                      20,\n",
    "                                                                                      sc,\n",
    "                                                                                      X_RDD_no_negative)"
   ]
  },
  {
   "cell_type": "code",
   "execution_count": 42,
   "id": "6cb8890e-5e37-4569-8f52-6d9e3933612f",
   "metadata": {},
   "outputs": [
    {
     "data": {
      "text/plain": [
       "[1, 2, 4, 10, 13, 17, 21, 22, 23, 26, 27, 28, 29, 30, 31, 33, 35, 36, 37, 42]"
      ]
     },
     "execution_count": 42,
     "metadata": {},
     "output_type": "execute_result"
    }
   ],
   "source": [
    "sorted(selected_features_indices_forward)"
   ]
  }
 ],
 "metadata": {
  "kernelspec": {
   "display_name": "Python 3 (ipykernel)",
   "language": "python",
   "name": "python3"
  },
  "language_info": {
   "codemirror_mode": {
    "name": "ipython",
    "version": 3
   },
   "file_extension": ".py",
   "mimetype": "text/x-python",
   "name": "python",
   "nbconvert_exporter": "python",
   "pygments_lexer": "ipython3",
   "version": "3.9.7"
  }
 },
 "nbformat": 4,
 "nbformat_minor": 5
}
