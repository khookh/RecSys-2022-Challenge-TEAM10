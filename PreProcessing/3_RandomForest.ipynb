{
 "cells": [
  {
   "cell_type": "code",
   "execution_count": 1,
   "id": "a70e1a36-77d5-438d-b431-f871090c0153",
   "metadata": {},
   "outputs": [
    {
     "name": "stderr",
     "output_type": "stream",
     "text": [
      "Using Spark's default log4j profile: org/apache/spark/log4j-defaults.properties\n",
      "Setting default log level to \"WARN\".\n",
      "To adjust logging level use sc.setLogLevel(newLevel). For SparkR, use setLogLevel(newLevel).\n",
      "22/05/25 09:16:42 WARN NativeCodeLoader: Unable to load native-hadoop library for your platform... using builtin-java classes where applicable\n",
      "22/05/25 09:16:43 WARN Utils: Service 'SparkUI' could not bind on port 4040. Attempting port 4041.\n",
      "22/05/25 09:16:43 WARN Utils: Service 'SparkUI' could not bind on port 4041. Attempting port 4042.\n",
      "22/05/25 09:16:43 WARN Utils: Service 'SparkUI' could not bind on port 4042. Attempting port 4043.\n",
      "22/05/25 09:16:43 WARN Utils: Service 'SparkUI' could not bind on port 4043. Attempting port 4044.\n",
      "22/05/25 09:16:43 WARN Utils: Service 'SparkUI' could not bind on port 4044. Attempting port 4045.\n"
     ]
    }
   ],
   "source": [
    "import os \n",
    "import warnings\n",
    "import time\n",
    "import numpy as np\n",
    "import scipy.stats\n",
    "import sys\n",
    "import sklearn\n",
    "import sklearn.datasets\n",
    "\n",
    "from pyspark.sql import SparkSession\n",
    "warnings.filterwarnings('ignore')\n",
    "import pandas as pd\n",
    "\n",
    "# launch this cell if you have issues on windows with py4j (think about updating your PATH)\n",
    "\n",
    "os.environ['PYSPARK_DRIVER_PYTHON_OPTS']= \"notebook\"\n",
    "os.environ['PYSPARK_DRIVER_PYTHON'] = sys.executable\n",
    "os.environ['PYSPARK_PYTHON'] = sys.executable\n",
    "\n",
    "# starts a spark session from notebook\n",
    "\n",
    "os.environ['PYSPARK_SUBMIT_ARGS'] =\"--conf spark.driver.memory=4g  pyspark-shell\"\n",
    "\n",
    "\n",
    "spark = SparkSession \\\n",
    "    .builder \\\n",
    "    .master(\"local[*]\") \\\n",
    "    .appName(\"feature_selection\") \\\n",
    "    .getOrCreate()\n",
    "\n",
    "sc=spark.sparkContext"
   ]
  },
  {
   "cell_type": "code",
   "execution_count": 2,
   "id": "362919ae-93d3-4df7-b3ff-46a1ae092e55",
   "metadata": {},
   "outputs": [
    {
     "name": "stderr",
     "output_type": "stream",
     "text": [
      "                                                                                \r"
     ]
    }
   ],
   "source": [
    "train_sessions_engineered = spark.read.csv('../Data/session_engineered_features.txt',header=False,\n",
    "                                          inferSchema=True)\n",
    "\n",
    "train_purchases = spark.read.load('../Data/train_purchases.csv', \n",
    "                          format='com.databricks.spark.csv', \n",
    "                          header='true', \n",
    "                          inferSchema='true')"
   ]
  },
  {
   "cell_type": "code",
   "execution_count": 3,
   "id": "be93a583-8038-4e78-ad59-5f3dd824d628",
   "metadata": {},
   "outputs": [
    {
     "data": {
      "text/plain": [
       "[Row(_c0=720, _c37=0.0, _c5=2021.0, _c1=23943.0, _c35=0.0, _c18=0.0, _c36=0.0, _c19=0.0, _c33=0.0, _c6=21890.0, _c34=0.0, _c17=0.0, _c32=0.0, _c22=0.0, _c20=0.0, _c29=0.0, _c27=0.0, _c31=0.0, _c15=0.0, _c24=0.0, _c14=0.0)]"
      ]
     },
     "execution_count": 3,
     "metadata": {},
     "output_type": "execute_result"
    }
   ],
   "source": [
    "selected_features_indices = [-1, 36, 4, 0, 34, 17, 35, 18, 32, 5, 33, 16, 31, 21, 19, 28, 26, 30, 14, 23, 13]\n",
    "columns_to_keep = []\n",
    "for elem in selected_features_indices:\n",
    "    columns_to_keep.append(train_sessions_engineered.columns[elem+1])\n",
    "train_sessions_engineered = train_sessions_engineered.select(columns_to_keep)\n",
    "train_sessions_engineered.take(1)"
   ]
  },
  {
   "cell_type": "code",
   "execution_count": 4,
   "id": "c6f9222b-2b29-4493-9d1e-34eaa2ce9ce0",
   "metadata": {},
   "outputs": [],
   "source": [
    "# join the dataframes on the session ids and drop useless columns\n",
    "train_df = train_sessions_engineered.join(train_purchases,train_sessions_engineered._c0 == train_purchases.session_id,\"inner\" )\n",
    "for col in ['_c0','session_id','date']:\n",
    "    train_df = train_df.drop(col)"
   ]
  },
  {
   "cell_type": "code",
   "execution_count": 5,
   "id": "51801040-3e25-4b24-830d-a69f0f4ee35a",
   "metadata": {},
   "outputs": [
    {
     "name": "stderr",
     "output_type": "stream",
     "text": [
      "                                                                                \r"
     ]
    },
    {
     "data": {
      "text/plain": [
       "[Row(_c37=0.0, _c5=2020.0, _c1=0.0, _c35=0.0, _c18=0.0, _c36=0.0, _c19=1.0, _c33=0.0, _c6=15654.0, _c34=0.0, _c17=0.0, _c32=0.0, _c22=0.0, _c20=0.0, _c29=0.0, _c27=0.0, _c31=0.0, _c15=0.0, _c24=0.0, _c14=0.0, item_id=18626)]"
      ]
     },
     "execution_count": 5,
     "metadata": {},
     "output_type": "execute_result"
    }
   ],
   "source": [
    "train_df.take(1)"
   ]
  },
  {
   "cell_type": "code",
   "execution_count": 6,
   "id": "cd9cef6a-0c4b-4ecf-a8ac-711d12954ab4",
   "metadata": {},
   "outputs": [
    {
     "name": "stderr",
     "output_type": "stream",
     "text": [
      "                                                                                \r"
     ]
    }
   ],
   "source": [
    "from pyspark.ml.classification import RandomForestClassifier, RandomForestClassificationModel\n",
    "from pyspark.ml import Pipeline\n",
    "from pyspark.ml.feature import StringIndexer, VectorIndexer,VectorAssembler\n",
    "from pyspark.ml.tuning import ParamGridBuilder, CrossValidator\n",
    "from pyspark.ml.evaluation import MulticlassClassificationEvaluator\n",
    "\n",
    "assembler = VectorAssembler(inputCols=train_df.columns[:-1], outputCol='features')\n",
    "\n",
    "labelIndexer = StringIndexer(inputCol='item_id', outputCol='indexedLabel').fit(train_df)\n",
    "\n",
    "rf = RandomForestClassifier(labelCol='indexedLabel', featuresCol='features')\n",
    "\n",
    "pipeline = Pipeline(stages=[labelIndexer, assembler, rf])\n",
    "\n",
    "paramGrid = ParamGridBuilder() \\\n",
    "    .addGrid(rf.numTrees, [60,100]) \\\n",
    "    .addGrid(rf.maxDepth, [4,5]) \\\n",
    "    .build()\n",
    "evaluator = MulticlassClassificationEvaluator(labelCol=\"indexedLabel\", predictionCol=\"prediction\", metricName=\"accuracy\")\n",
    "#accuracy = evaluator.evaluate(predictions)\n",
    "\n",
    "crossval = CrossValidator(estimator=pipeline,\n",
    "                          estimatorParamMaps=paramGrid,\n",
    "                          evaluator=evaluator,\n",
    "                          numFolds=2)"
   ]
  },
  {
   "cell_type": "code",
   "execution_count": null,
   "id": "16bf6d67-07c7-4507-ae40-797dc2ff8ef5",
   "metadata": {},
   "outputs": [
    {
     "name": "stderr",
     "output_type": "stream",
     "text": [
      "22/05/25 09:18:51 WARN DAGScheduler: Broadcasting large task binary with size 3.2 MiB\n",
      "22/05/25 09:19:21 WARN DAGScheduler: Broadcasting large task binary with size 1780.6 KiB\n",
      "22/05/25 09:19:48 WARN DAGScheduler: Broadcasting large task binary with size 4.5 MiB\n",
      "22/05/25 09:20:17 WARN DAGScheduler: Broadcasting large task binary with size 1780.6 KiB\n",
      "22/05/25 09:20:43 WARN DAGScheduler: Broadcasting large task binary with size 6.7 MiB\n",
      "22/05/25 09:21:11 WARN DAGScheduler: Broadcasting large task binary with size 1780.6 KiB\n",
      "22/05/25 09:21:40 WARN DAGScheduler: Broadcasting large task binary with size 9.7 MiB\n",
      "22/05/25 09:22:09 WARN DAGScheduler: Broadcasting large task binary with size 1928.4 KiB\n",
      "22/05/25 09:22:38 WARN DAGScheduler: Broadcasting large task binary with size 4.9 MiB\n",
      "22/05/25 09:23:07 WARN DAGScheduler: Broadcasting large task binary with size 1928.4 KiB\n",
      "22/05/25 09:23:36 WARN DAGScheduler: Broadcasting large task binary with size 7.5 MiB\n",
      "22/05/25 09:24:07 WARN DAGScheduler: Broadcasting large task binary with size 1780.6 KiB\n",
      "22/05/25 09:24:35 WARN DAGScheduler: Broadcasting large task binary with size 10.1 MiB\n",
      "22/05/25 09:25:05 WARN DAGScheduler: Broadcasting large task binary with size 1780.6 KiB\n",
      "22/05/25 09:25:33 WARN DAGScheduler: Broadcasting large task binary with size 3.6 MiB\n",
      "22/05/25 09:25:59 WARN DAGScheduler: Broadcasting large task binary with size 1632.8 KiB\n",
      "22/05/25 09:26:25 WARN DAGScheduler: Broadcasting large task binary with size 5.8 MiB\n",
      "22/05/25 09:26:51 WARN DAGScheduler: Broadcasting large task binary with size 1632.8 KiB\n",
      "22/05/25 09:27:18 WARN DAGScheduler: Broadcasting large task binary with size 13.2 MiB\n",
      "22/05/25 09:27:46 WARN DAGScheduler: Broadcasting large task binary with size 1632.8 KiB\n",
      "22/05/25 09:28:14 WARN DAGScheduler: Broadcasting large task binary with size 5.4 MiB\n",
      "22/05/25 09:28:40 WARN DAGScheduler: Broadcasting large task binary with size 1632.8 KiB\n",
      "22/05/25 09:29:07 WARN DAGScheduler: Broadcasting large task binary with size 4.9 MiB\n",
      "22/05/25 09:29:36 WARN DAGScheduler: Broadcasting large task binary with size 1485.1 KiB\n",
      "22/05/25 09:30:02 WARN DAGScheduler: Broadcasting large task binary with size 7.5 MiB\n",
      "22/05/25 09:30:31 WARN DAGScheduler: Broadcasting large task binary with size 1632.8 KiB\n",
      "22/05/25 09:30:57 WARN DAGScheduler: Broadcasting large task binary with size 5.8 MiB\n",
      "22/05/25 09:31:25 WARN DAGScheduler: Broadcasting large task binary with size 1780.6 KiB\n",
      "22/05/25 09:31:52 WARN DAGScheduler: Broadcasting large task binary with size 5.8 MiB\n",
      "22/05/25 09:32:22 WARN DAGScheduler: Broadcasting large task binary with size 1780.6 KiB\n",
      "22/05/25 09:32:49 WARN DAGScheduler: Broadcasting large task binary with size 7.1 MiB\n",
      "22/05/25 09:33:19 WARN DAGScheduler: Broadcasting large task binary with size 1485.1 KiB\n",
      "22/05/25 09:33:47 WARN DAGScheduler: Broadcasting large task binary with size 9.3 MiB\n",
      "22/05/25 09:34:18 WARN DAGScheduler: Broadcasting large task binary with size 1780.6 KiB\n",
      "22/05/25 09:34:46 WARN DAGScheduler: Broadcasting large task binary with size 7.7 MiB\n",
      "22/05/25 09:35:16 WARN DAGScheduler: Broadcasting large task binary with size 1632.8 KiB\n",
      "22/05/25 09:35:43 WARN DAGScheduler: Broadcasting large task binary with size 6.7 MiB\n",
      "22/05/25 09:36:13 WARN DAGScheduler: Broadcasting large task binary with size 1780.6 KiB\n",
      "22/05/25 09:36:42 WARN DAGScheduler: Broadcasting large task binary with size 14.2 MiB\n",
      "22/05/25 09:37:13 WARN DAGScheduler: Broadcasting large task binary with size 1780.6 KiB\n",
      "22/05/25 09:37:41 WARN DAGScheduler: Broadcasting large task binary with size 6.7 MiB\n",
      "22/05/25 09:38:39 WARN DAGScheduler: Broadcasting large task binary with size 3.2 MiB\n",
      "22/05/25 09:39:13 WARN DAGScheduler: Broadcasting large task binary with size 1780.6 KiB\n",
      "22/05/25 09:39:41 WARN DAGScheduler: Broadcasting large task binary with size 4.5 MiB\n",
      "22/05/25 09:40:10 WARN DAGScheduler: Broadcasting large task binary with size 1780.6 KiB\n",
      "22/05/25 09:40:38 WARN DAGScheduler: Broadcasting large task binary with size 6.7 MiB\n",
      "22/05/25 09:41:08 WARN DAGScheduler: Broadcasting large task binary with size 1780.6 KiB\n",
      "22/05/25 09:41:36 WARN DAGScheduler: Broadcasting large task binary with size 8.4 MiB\n",
      "22/05/25 09:42:06 WARN DAGScheduler: Broadcasting large task binary with size 1780.6 KiB\n",
      "22/05/25 09:42:34 WARN DAGScheduler: Broadcasting large task binary with size 4.5 MiB\n",
      "22/05/25 09:43:02 WARN DAGScheduler: Broadcasting large task binary with size 1780.6 KiB\n",
      "22/05/25 09:43:29 WARN DAGScheduler: Broadcasting large task binary with size 6.7 MiB\n",
      "22/05/25 09:43:59 WARN DAGScheduler: Broadcasting large task binary with size 1780.6 KiB\n",
      "22/05/25 09:44:26 WARN DAGScheduler: Broadcasting large task binary with size 8.4 MiB\n",
      "22/05/25 09:44:55 WARN DAGScheduler: Broadcasting large task binary with size 1780.6 KiB\n",
      "22/05/25 09:45:22 WARN DAGScheduler: Broadcasting large task binary with size 2.8 MiB\n",
      "22/05/25 09:45:53 WARN DAGScheduler: Broadcasting large task binary with size 1485.1 KiB\n",
      "22/05/25 09:46:20 WARN DAGScheduler: Broadcasting large task binary with size 4.1 MiB\n",
      "22/05/25 09:46:48 WARN DAGScheduler: Broadcasting large task binary with size 1632.8 KiB\n",
      "22/05/25 09:47:15 WARN DAGScheduler: Broadcasting large task binary with size 5.8 MiB\n",
      "22/05/25 09:47:42 WARN DAGScheduler: Broadcasting large task binary with size 1632.8 KiB\n",
      "22/05/25 09:48:10 WARN DAGScheduler: Broadcasting large task binary with size 5.4 MiB\n",
      "22/05/25 09:48:41 WARN DAGScheduler: Broadcasting large task binary with size 1780.6 KiB\n",
      "22/05/25 09:49:08 WARN DAGScheduler: Broadcasting large task binary with size 7.1 MiB\n",
      "22/05/25 09:49:40 WARN DAGScheduler: Broadcasting large task binary with size 1780.6 KiB\n",
      "22/05/25 09:50:15 WARN DAGScheduler: Broadcasting large task binary with size 20.1 MiB\n",
      "22/05/25 09:50:52 WARN DAGScheduler: Broadcasting large task binary with size 1780.6 KiB\n",
      "22/05/25 09:51:20 WARN DAGScheduler: Broadcasting large task binary with size 12.3 MiB\n",
      "22/05/25 09:52:03 WARN DAGScheduler: Broadcasting large task binary with size 1632.8 KiB\n",
      "22/05/25 09:52:30 WARN DAGScheduler: Broadcasting large task binary with size 5.4 MiB\n",
      "22/05/25 09:53:00 WARN DAGScheduler: Broadcasting large task binary with size 1632.9 KiB\n",
      "22/05/25 09:53:36 WARN DAGScheduler: Broadcasting large task binary with size 4.1 MiB\n",
      "22/05/25 09:54:16 WARN DAGScheduler: Broadcasting large task binary with size 1485.1 KiB\n",
      "22/05/25 09:54:44 WARN DAGScheduler: Broadcasting large task binary with size 2.8 MiB\n",
      "22/05/25 09:55:18 WARN DAGScheduler: Broadcasting large task binary with size 1189.6 KiB\n",
      "22/05/25 09:55:45 WARN DAGScheduler: Broadcasting large task binary with size 4.5 MiB\n",
      "22/05/25 09:56:14 WARN DAGScheduler: Broadcasting large task binary with size 1632.8 KiB\n",
      "22/05/25 09:56:47 WARN DAGScheduler: Broadcasting large task binary with size 6.2 MiB\n",
      "22/05/25 09:57:15 WARN DAGScheduler: Broadcasting large task binary with size 1632.8 KiB\n",
      "22/05/25 09:57:43 WARN DAGScheduler: Broadcasting large task binary with size 6.7 MiB\n",
      "22/05/25 09:58:11 WARN DAGScheduler: Broadcasting large task binary with size 1780.6 KiB\n",
      "22/05/25 09:58:38 WARN DAGScheduler: Broadcasting large task binary with size 11.0 MiB\n",
      "22/05/25 09:59:10 WARN DAGScheduler: Broadcasting large task binary with size 1780.6 KiB\n",
      "22/05/25 09:59:37 WARN DAGScheduler: Broadcasting large task binary with size 5.4 MiB\n",
      "22/05/25 10:00:06 WARN DAGScheduler: Broadcasting large task binary with size 1780.6 KiB\n",
      "22/05/25 10:00:34 WARN DAGScheduler: Broadcasting large task binary with size 7.1 MiB\n",
      "22/05/25 10:01:04 WARN DAGScheduler: Broadcasting large task binary with size 1928.4 KiB\n",
      "22/05/25 10:01:32 WARN DAGScheduler: Broadcasting large task binary with size 7.1 MiB\n",
      "22/05/25 10:02:31 WARN DAGScheduler: Broadcasting large task binary with size 4.1 MiB\n",
      "22/05/25 10:03:07 WARN DAGScheduler: Broadcasting large task binary with size 1780.6 KiB\n",
      "22/05/25 10:03:35 WARN DAGScheduler: Broadcasting large task binary with size 4.5 MiB\n",
      "22/05/25 10:04:06 WARN DAGScheduler: Broadcasting large task binary with size 1780.6 KiB\n",
      "22/05/25 10:04:41 WARN DAGScheduler: Broadcasting large task binary with size 6.7 MiB\n",
      "22/05/25 10:05:13 WARN DAGScheduler: Broadcasting large task binary with size 1780.6 KiB\n",
      "22/05/25 10:05:43 WARN DAGScheduler: Broadcasting large task binary with size 9.7 MiB\n",
      "22/05/25 10:06:20 WARN DAGScheduler: Broadcasting large task binary with size 1780.6 KiB\n",
      "22/05/25 10:06:53 WARN DAGScheduler: Broadcasting large task binary with size 5.8 MiB\n",
      "22/05/25 10:07:26 WARN DAGScheduler: Broadcasting large task binary with size 1780.6 KiB\n",
      "22/05/25 10:07:55 WARN DAGScheduler: Broadcasting large task binary with size 7.5 MiB\n",
      "22/05/25 10:08:27 WARN DAGScheduler: Broadcasting large task binary with size 1780.6 KiB\n",
      "22/05/25 10:08:56 WARN DAGScheduler: Broadcasting large task binary with size 11.0 MiB\n",
      "22/05/25 10:09:26 WARN DAGScheduler: Broadcasting large task binary with size 1337.4 KiB\n",
      "22/05/25 10:09:54 WARN DAGScheduler: Broadcasting large task binary with size 9.7 MiB\n",
      "22/05/25 10:10:29 WARN DAGScheduler: Broadcasting large task binary with size 1780.6 KiB\n",
      "22/05/25 10:10:58 WARN DAGScheduler: Broadcasting large task binary with size 4.5 MiB\n",
      "22/05/25 10:11:36 WARN DAGScheduler: Broadcasting large task binary with size 1780.6 KiB\n",
      "22/05/25 10:12:06 WARN DAGScheduler: Broadcasting large task binary with size 6.7 MiB\n",
      "22/05/25 10:12:38 WARN DAGScheduler: Broadcasting large task binary with size 1928.4 KiB\n",
      "22/05/25 10:13:14 WARN DAGScheduler: Broadcasting large task binary with size 13.2 MiB\n",
      "22/05/25 10:13:47 WARN DAGScheduler: Broadcasting large task binary with size 1780.6 KiB\n",
      "22/05/25 10:14:17 WARN DAGScheduler: Broadcasting large task binary with size 5.4 MiB\n",
      "22/05/25 10:15:17 WARN DAGScheduler: Broadcasting large task binary with size 3.2 MiB\n",
      "22/05/25 10:15:48 WARN DAGScheduler: Broadcasting large task binary with size 1780.6 KiB\n",
      "22/05/25 10:16:17 WARN DAGScheduler: Broadcasting large task binary with size 4.5 MiB\n",
      "22/05/25 10:16:47 WARN DAGScheduler: Broadcasting large task binary with size 1780.6 KiB\n",
      "22/05/25 10:17:15 WARN DAGScheduler: Broadcasting large task binary with size 6.7 MiB\n",
      "22/05/25 10:17:43 WARN DAGScheduler: Broadcasting large task binary with size 1632.8 KiB\n",
      "22/05/25 10:18:14 WARN DAGScheduler: Broadcasting large task binary with size 8.4 MiB\n",
      "22/05/25 10:18:50 WARN DAGScheduler: Broadcasting large task binary with size 1780.6 KiB\n",
      "22/05/25 10:19:31 WARN DAGScheduler: Broadcasting large task binary with size 4.5 MiB\n",
      "22/05/25 10:20:05 WARN DAGScheduler: Broadcasting large task binary with size 1780.6 KiB\n",
      "22/05/25 10:20:36 WARN DAGScheduler: Broadcasting large task binary with size 6.7 MiB\n",
      "22/05/25 10:21:05 WARN DAGScheduler: Broadcasting large task binary with size 1632.8 KiB\n",
      "22/05/25 10:21:33 WARN DAGScheduler: Broadcasting large task binary with size 8.4 MiB\n",
      "22/05/25 10:22:04 WARN DAGScheduler: Broadcasting large task binary with size 1780.6 KiB\n",
      "22/05/25 10:22:35 WARN DAGScheduler: Broadcasting large task binary with size 1076.6 KiB\n",
      "22/05/25 10:23:25 WARN DAGScheduler: Broadcasting large task binary with size 4.1 MiB\n",
      "22/05/25 10:23:53 WARN DAGScheduler: Broadcasting large task binary with size 1632.8 KiB\n",
      "22/05/25 10:24:24 WARN DAGScheduler: Broadcasting large task binary with size 4.5 MiB\n",
      "22/05/25 10:24:52 WARN DAGScheduler: Broadcasting large task binary with size 1632.8 KiB\n",
      "22/05/25 10:25:18 WARN DAGScheduler: Broadcasting large task binary with size 6.7 MiB\n",
      "22/05/25 10:25:49 WARN DAGScheduler: Broadcasting large task binary with size 1780.6 KiB\n",
      "22/05/25 10:26:17 WARN DAGScheduler: Broadcasting large task binary with size 9.3 MiB\n",
      "22/05/25 10:26:50 WARN DAGScheduler: Broadcasting large task binary with size 1780.6 KiB\n",
      "22/05/25 10:27:17 WARN DAGScheduler: Broadcasting large task binary with size 11.0 MiB\n",
      "22/05/25 10:27:47 WARN DAGScheduler: Broadcasting large task binary with size 1780.6 KiB\n",
      "22/05/25 10:28:14 WARN DAGScheduler: Broadcasting large task binary with size 7.5 MiB\n",
      "22/05/25 10:28:42 WARN DAGScheduler: Broadcasting large task binary with size 1632.8 KiB\n",
      "22/05/25 10:29:10 WARN DAGScheduler: Broadcasting large task binary with size 9.3 MiB\n",
      "22/05/25 10:29:33 WARN DAGScheduler: Broadcasting large task binary with size 1485.1 KiB\n",
      "22/05/25 10:29:56 WARN DAGScheduler: Broadcasting large task binary with size 7.1 MiB\n",
      "22/05/25 10:30:26 WARN DAGScheduler: Broadcasting large task binary with size 1632.8 KiB\n",
      "22/05/25 10:30:54 WARN DAGScheduler: Broadcasting large task binary with size 5.4 MiB\n",
      "22/05/25 10:31:24 WARN DAGScheduler: Broadcasting large task binary with size 1780.6 KiB\n",
      "22/05/25 10:31:52 WARN DAGScheduler: Broadcasting large task binary with size 4.1 MiB\n",
      "22/05/25 10:32:08 WARN DAGScheduler: Broadcasting large task binary with size 5.8 MiB\n",
      "22/05/25 10:32:25 WARN DAGScheduler: Broadcasting large task binary with size 255.3 MiB\n",
      "[Stage 334:===========================>                         (104 + 4) / 200]\r"
     ]
    }
   ],
   "source": [
    "(training_data, test_data) = train_df.randomSplit([0.8, 0.2])\n",
    "\n",
    "CV_model = crossval.fit(training_data) "
   ]
  },
  {
   "cell_type": "code",
   "execution_count": null,
   "id": "b1bc5261-cc2b-4eff-b989-9b5959882edc",
   "metadata": {},
   "outputs": [],
   "source": [
    "transformed_data = cross_validated.transform(test_data)\n",
    "print(evaluator.getMetricName(), 'accuracy:', evaluator.evaluate(transformed_data))"
   ]
  },
  {
   "cell_type": "code",
   "execution_count": null,
   "id": "8ad55355-d36f-4fc0-a259-6c09e9c34619",
   "metadata": {},
   "outputs": [],
   "source": [
    "tree_model = CV_model.bestModel.stages[2]\n",
    "print(tree_model)"
   ]
  },
  {
   "cell_type": "code",
   "execution_count": null,
   "id": "8f78995b-7df6-444d-892d-b770bdefa7d1",
   "metadata": {},
   "outputs": [],
   "source": []
  }
 ],
 "metadata": {
  "kernelspec": {
   "display_name": "Python 3 (ipykernel)",
   "language": "python",
   "name": "python3"
  },
  "language_info": {
   "codemirror_mode": {
    "name": "ipython",
    "version": 3
   },
   "file_extension": ".py",
   "mimetype": "text/x-python",
   "name": "python",
   "nbconvert_exporter": "python",
   "pygments_lexer": "ipython3",
   "version": "3.9.7"
  }
 },
 "nbformat": 4,
 "nbformat_minor": 5
}
