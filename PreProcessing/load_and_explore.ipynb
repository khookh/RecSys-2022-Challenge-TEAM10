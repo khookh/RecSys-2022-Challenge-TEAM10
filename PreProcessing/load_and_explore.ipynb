{
 "cells": [
  {
   "cell_type": "code",
   "execution_count": 1,
   "metadata": {},
   "outputs": [],
   "source": [
    "import os \n",
    "import warnings\n",
    "warnings.filterwarnings('ignore')\n",
    "import pandas as pd"
   ]
  },
  {
   "cell_type": "code",
   "execution_count": 2,
   "metadata": {},
   "outputs": [],
   "source": [
    "# monitor spark tasks localy at http://127.0.0.1:4040/"
   ]
  },
  {
   "cell_type": "code",
   "execution_count": 3,
   "metadata": {},
   "outputs": [],
   "source": [
    "# launch this cell if you have issues on windows with py4j (think about updating your PATH)\n",
    "import sys\n",
    "os.environ['PYSPARK_DRIVER_PYTHON_OPTS']= \"notebook\"\n",
    "os.environ['PYSPARK_DRIVER_PYTHON'] = sys.executable\n",
    "os.environ['PYSPARK_PYTHON'] = sys.executable"
   ]
  },
  {
   "cell_type": "code",
   "execution_count": 4,
   "metadata": {},
   "outputs": [
    {
     "name": "stderr",
     "output_type": "stream",
     "text": [
      "Using Spark's default log4j profile: org/apache/spark/log4j-defaults.properties\n",
      "Setting default log level to \"WARN\".\n",
      "To adjust logging level use sc.setLogLevel(newLevel). For SparkR, use setLogLevel(newLevel).\n",
      "22/05/09 11:00:38 WARN NativeCodeLoader: Unable to load native-hadoop library for your platform... using builtin-java classes where applicable\n"
     ]
    }
   ],
   "source": [
    "# starts a spark session from notebook\n",
    "\n",
    "os.environ['PYSPARK_SUBMIT_ARGS'] =\"--conf spark.driver.memory=2g  pyspark-shell\"\n",
    "from pyspark.sql import SparkSession\n",
    "\n",
    "spark = SparkSession \\\n",
    "    .builder \\\n",
    "    .master(\"local\") \\\n",
    "    .appName(\"load_explore\") \\\n",
    "    .getOrCreate()"
   ]
  },
  {
   "cell_type": "code",
   "execution_count": 5,
   "metadata": {},
   "outputs": [
    {
     "name": "stderr",
     "output_type": "stream",
     "text": [
      "                                                                                \r"
     ]
    }
   ],
   "source": [
    "# loads relevant datas in DataFrames\n",
    "train_sessions = spark.read.load('../Data/train_sessions.csv', \n",
    "                          format='com.databricks.spark.csv', \n",
    "                          header='true', \n",
    "                          inferSchema='true')\n",
    "\n",
    "train_purchases = spark.read.load('../Data/train_purchases.csv', \n",
    "                          format='com.databricks.spark.csv', \n",
    "                          header='true', \n",
    "                          inferSchema='true')\n",
    "\n",
    "candidate_items = spark.read.load('../Data/candidate_items.csv', \n",
    "                          format='com.databricks.spark.csv', \n",
    "                          header='true', \n",
    "                          inferSchema='true')\n",
    "\n",
    "item_features = spark.read.load('../Data/item_features.csv', \n",
    "                          format='com.databricks.spark.csv', \n",
    "                          header='true', \n",
    "                          inferSchema='true')\n",
    "\n",
    "datas = [train_sessions, train_purchases, candidate_items, item_features]"
   ]
  },
  {
   "cell_type": "code",
   "execution_count": 6,
   "metadata": {},
   "outputs": [
    {
     "name": "stdout",
     "output_type": "stream",
     "text": [
      "[Row(session_id=3, item_id=9655, date='2020-12-18 21:25:00.373')] , count = 4743820\n",
      "root\n",
      " |-- session_id: integer (nullable = true)\n",
      " |-- item_id: integer (nullable = true)\n",
      " |-- date: string (nullable = true)\n",
      "\n",
      "[Row(session_id=3, item_id=15085, date='2020-12-18 21:26:47.986')] , count = 1000000\n",
      "root\n",
      " |-- session_id: integer (nullable = true)\n",
      " |-- item_id: integer (nullable = true)\n",
      " |-- date: string (nullable = true)\n",
      "\n",
      "[Row(item_id=4)] , count = 4990\n",
      "root\n",
      " |-- item_id: integer (nullable = true)\n",
      "\n",
      "[Row(item_id=2, feature_category_id=56, feature_value_id=365)] , count = 471751\n",
      "root\n",
      " |-- item_id: integer (nullable = true)\n",
      " |-- feature_category_id: integer (nullable = true)\n",
      " |-- feature_value_id: integer (nullable = true)\n",
      "\n"
     ]
    }
   ],
   "source": [
    "# to have a first look at our datas\n",
    "for data_set in datas:\n",
    "    print(f\"{data_set.take(1)} , count = {data_set.count()}\")\n",
    "    data_set.printSchema()"
   ]
  },
  {
   "cell_type": "code",
   "execution_count": 6,
   "metadata": {
    "pycharm": {
     "name": "#%%\n"
    }
   },
   "outputs": [
    {
     "name": "stderr",
     "output_type": "stream",
     "text": [
      "                                                                                \r"
     ]
    },
    {
     "name": "stdout",
     "output_type": "stream",
     "text": [
      "summary       count            mean              stddev  \\\n",
      "session_id  1000000  2221071.286897  1281017.5859886208   \n",
      "item_id     1000000    13978.825051   8187.993593462088   \n",
      "date        1000000            None                None   \n",
      "\n",
      "summary                        min                      max  \n",
      "session_id                       3                  4440001  \n",
      "item_id                          3                    28143  \n",
      "date        2020-01-01 00:02:11.06  2021-05-31 23:47:07.764  \n"
     ]
    },
    {
     "name": "stderr",
     "output_type": "stream",
     "text": [
      "                                                                                \r"
     ]
    },
    {
     "name": "stdout",
     "output_type": "stream",
     "text": [
      "+----------+-------+----+\n",
      "|session_id|item_id|date|\n",
      "+----------+-------+----+\n",
      "|         0|      0|   0|\n",
      "+----------+-------+----+\n",
      "\n"
     ]
    },
    {
     "name": "stderr",
     "output_type": "stream",
     "text": [
      "                                                                                \r"
     ]
    },
    {
     "name": "stdout",
     "output_type": "stream",
     "text": [
      "+----------+-------+----+\n",
      "|session_id|item_id|date|\n",
      "+----------+-------+----+\n",
      "|         0|      0|   0|\n",
      "+----------+-------+----+\n",
      "\n",
      "+-------+\n",
      "|item_id|\n",
      "+-------+\n",
      "|      0|\n",
      "+-------+\n",
      "\n",
      "+-------+-------------------+----------------+\n",
      "|item_id|feature_category_id|feature_value_id|\n",
      "+-------+-------------------+----------------+\n",
      "|      0|                  0|               0|\n",
      "+-------+-------------------+----------------+\n",
      "\n"
     ]
    }
   ],
   "source": [
    "# get some insight on our dataset\n",
    "\n",
    "from pyspark.sql.functions import isnan, when, count, col\n",
    "\n",
    "# spark already has some builtin methods for extracting statistics (see tp) : \n",
    "print(train_purchases.describe().toPandas().set_index('summary').transpose())\n",
    "# ---> not relevant to use describe () here in this case of course\n",
    "\n",
    "# example : print NaN count per column per set\n",
    "for data_set in datas:\n",
    "    data_set.select([count(when(isnan(col), col)).alias(col) for col in data_set.columns]).show()\n",
    "\n",
    "# note : working with spark is WAY faster than transforming to pandas and computing features naively as you see, do not make the mistake"
   ]
  },
  {
   "cell_type": "code",
   "execution_count": null,
   "metadata": {},
   "outputs": [],
   "source": []
  }
 ],
 "metadata": {
  "kernelspec": {
   "display_name": "Python 3 (ipykernel)",
   "language": "python",
   "name": "python3"
  },
  "language_info": {
   "codemirror_mode": {
    "name": "ipython",
    "version": 3
   },
   "file_extension": ".py",
   "mimetype": "text/x-python",
   "name": "python",
   "nbconvert_exporter": "python",
   "pygments_lexer": "ipython3",
   "version": "3.9.7"
  },
  "pycharm": {
   "stem_cell": {
    "cell_type": "raw",
    "metadata": {
     "collapsed": false
    },
    "source": []
   }
  }
 },
 "nbformat": 4,
 "nbformat_minor": 4
}
