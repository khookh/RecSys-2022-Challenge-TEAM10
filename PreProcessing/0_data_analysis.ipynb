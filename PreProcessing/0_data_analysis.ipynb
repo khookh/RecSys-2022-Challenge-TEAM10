{
 "cells": [
  {
   "cell_type": "code",
   "execution_count": 1,
   "id": "4d7cfa57-9337-4973-aafc-8d8ead5a0e68",
   "metadata": {},
   "outputs": [
    {
     "name": "stderr",
     "output_type": "stream",
     "text": [
      "Using Spark's default log4j profile: org/apache/spark/log4j-defaults.properties\n",
      "Setting default log level to \"WARN\".\n",
      "To adjust logging level use sc.setLogLevel(newLevel). For SparkR, use setLogLevel(newLevel).\n",
      "22/05/17 12:35:16 WARN NativeCodeLoader: Unable to load native-hadoop library for your platform... using builtin-java classes where applicable\n"
     ]
    }
   ],
   "source": [
    "import os \n",
    "import warnings\n",
    "warnings.filterwarnings('ignore')\n",
    "import pandas as pd\n",
    "\n",
    "# launch this cell if you have issues on windows with py4j (think about updating your PATH)\n",
    "import sys\n",
    "os.environ['PYSPARK_DRIVER_PYTHON_OPTS']= \"notebook\"\n",
    "os.environ['PYSPARK_DRIVER_PYTHON'] = sys.executable\n",
    "os.environ['PYSPARK_PYTHON'] = sys.executable\n",
    "\n",
    "# starts a spark session from notebook\n",
    "\n",
    "os.environ['PYSPARK_SUBMIT_ARGS'] =\"--conf spark.driver.memory=4g  pyspark-shell\"\n",
    "from pyspark.sql import SparkSession\n",
    "\n",
    "spark = SparkSession \\\n",
    "    .builder \\\n",
    "    .master(\"local[*]\") \\\n",
    "    .appName(\"load_explore\") \\\n",
    "    .getOrCreate()"
   ]
  },
  {
   "cell_type": "code",
   "execution_count": 2,
   "id": "9b0ff6a2-5e7f-4456-8b81-15160a61dee8",
   "metadata": {},
   "outputs": [
    {
     "name": "stderr",
     "output_type": "stream",
     "text": [
      "                                                                                \r"
     ]
    }
   ],
   "source": [
    "# loads relevant datas in DataFrames\n",
    "train_sessions = spark.read.load('../Data/train_sessions.csv', \n",
    "                          format='com.databricks.spark.csv', \n",
    "                          header='true', \n",
    "                          inferSchema='true')\n",
    "\n",
    "train_purchases = spark.read.load('../Data/train_purchases.csv', \n",
    "                          format='com.databricks.spark.csv', \n",
    "                          header='true', \n",
    "                          inferSchema='true')\n",
    "\n",
    "candidate_items = spark.read.load('../Data/candidate_items.csv', \n",
    "                          format='com.databricks.spark.csv', \n",
    "                          header='true', \n",
    "                          inferSchema='true')\n",
    "\n",
    "item_features = spark.read.load('../Data/item_features.csv', \n",
    "                          format='com.databricks.spark.csv', \n",
    "                          header='true', \n",
    "                          inferSchema='true')\n",
    "\n",
    "datas = [train_sessions, train_purchases, candidate_items, item_features]"
   ]
  },
  {
   "cell_type": "markdown",
   "id": "92dde715-a913-40a8-9fd4-189448ff369c",
   "metadata": {},
   "source": [
    "# Data analysis\n",
    "\n",
    "In this Noteobook, data from the raw project's dataset will be analysed using map reduce operations.\n",
    "\n",
    "## Dataset's starting and ending date.\n",
    "\n",
    "Using map reduce operations, we will computes what are the first and last date of the dataset in the training sessions."
   ]
  },
  {
   "cell_type": "code",
   "execution_count": 3,
   "id": "994ba7bf-fbca-46c1-abd5-8540883db020",
   "metadata": {},
   "outputs": [
    {
     "name": "stderr",
     "output_type": "stream",
     "text": [
      "                                                                                \r"
     ]
    }
   ],
   "source": [
    "import datetime\n",
    "\n",
    "def parse_datetime(timestamp):\n",
    "    try:\n",
    "        return datetime.datetime.strptime(timestamp, '%Y-%m-%d %H:%M:%S.%f')\n",
    "    except ValueError:\n",
    "        return datetime.datetime.strptime(timestamp, '%Y-%m-%d %H:%M:%S')\n",
    "    \n",
    "max_date = (train_sessions.rdd\n",
    "            .map(lambda x: (x.session_id, parse_datetime(x.date)))  #  Maps by (session_id, date)\n",
    "            .reduce(lambda x, y: (x[0], max(x[1], y[1]))))  # Reduces by taking the maximum date (latest)"
   ]
  },
  {
   "cell_type": "code",
   "execution_count": 4,
   "id": "e4793302-8a5c-41e4-93c8-9eef3f36dd89",
   "metadata": {},
   "outputs": [
    {
     "name": "stderr",
     "output_type": "stream",
     "text": [
      "                                                                                \r"
     ]
    }
   ],
   "source": [
    "min_date = (train_sessions.rdd\n",
    "            .map(lambda x: (x.session_id, parse_datetime(x.date)))  # Maps by (session_id)\n",
    "            .reduce(lambda x, y: (x[0], min(x[1], y[1]))))  # Reduces by taking the minimum date (earliest)"
   ]
  },
  {
   "cell_type": "code",
   "execution_count": 5,
   "id": "71437c3b-beef-40d2-b7c3-6c7e393ef6ed",
   "metadata": {},
   "outputs": [
    {
     "data": {
      "text/plain": [
       "((3, datetime.datetime(2021, 5, 31, 23, 43, 33, 865000)),\n",
       " (3, datetime.datetime(2020, 1, 1, 0, 0, 1, 359000)))"
      ]
     },
     "execution_count": 5,
     "metadata": {},
     "output_type": "execute_result"
    }
   ],
   "source": [
    "max_date, min_date"
   ]
  },
  {
   "cell_type": "markdown",
   "id": "a8b781bc-88a4-4781-9fe5-6b10f9f7b54f",
   "metadata": {},
   "source": [
    "## Count the number of distinct (feature_category, feature_value) pairs"
   ]
  },
  {
   "cell_type": "code",
   "execution_count": 6,
   "id": "c0324cfe-0724-4277-830e-79379a29af98",
   "metadata": {},
   "outputs": [
    {
     "name": "stderr",
     "output_type": "stream",
     "text": [
      "                                                                                \r"
     ]
    }
   ],
   "source": [
    "unique_item_pairs = (\n",
    "    item_features\n",
    "    .rdd\n",
    "    .map(lambda x: (x.item_id, (x.feature_category_id, x.feature_value_id)))  # Maps by (item_id, (feature_cat, feautr_val)\n",
    "    .mapValues(lambda x: (set([(x[0], x[1])])))  # Puts the values inside the sets\n",
    "    .reduce(lambda x, y: (x[0], x[1].union(y[1])))  # Groups the sets togheter. By definition of a set, no (feature_cat, feature_val) duplicates can exists within the sets. \n",
    ")"
   ]
  },
  {
   "cell_type": "code",
   "execution_count": 7,
   "id": "ca920a40-810c-4bd8-be71-5326bf6b4bb7",
   "metadata": {},
   "outputs": [
    {
     "data": {
      "text/plain": [
       "904"
      ]
     },
     "execution_count": 7,
     "metadata": {},
     "output_type": "execute_result"
    }
   ],
   "source": [
    "len(unique_item_pairs[1])"
   ]
  },
  {
   "cell_type": "markdown",
   "id": "1cb17bc5-afed-4516-bb92-df8a7a89c845",
   "metadata": {},
   "source": [
    "# Analysis of purchases depending on the period of the purchase.\n",
    "\n",
    "Let's see the difference of item purchases depending of the weekday, month and season of the sessions."
   ]
  },
  {
   "cell_type": "code",
   "execution_count": 40,
   "id": "bd377508-c913-404b-9024-e0561de343df",
   "metadata": {},
   "outputs": [
    {
     "name": "stderr",
     "output_type": "stream",
     "text": [
      "                                                                                \r"
     ]
    },
    {
     "name": "stdout",
     "output_type": "stream",
     "text": [
      "Maximum item id found: 28143\n"
     ]
    }
   ],
   "source": [
    "import numpy as np\n",
    "\n",
    "time_parsed_purchases = (\n",
    "    train_purchases.rdd\n",
    "    .map(lambda x: (x.item_id, parse_datetime(x.date)))  # Maps the purchases with the item as key and the parsed date value\n",
    ").cache()  # Saves it into primary memory\n",
    "\n",
    "maximum_item_id = time_parsed_purchases.reduce(lambda x, y: max(x, y))[0]\n",
    "print(f'Maximum item id found: {maximum_item_id}')\n",
    "\n",
    "weekend_purchases = (\n",
    "    time_parsed_purchases\n",
    "    .filter(lambda x: x[1].weekday() >= 5)  # Checks wherever the day is during a weekend by checking the weekday of the parsed date\n",
    ")\n",
    "\n",
    "weekday_purchases = (\n",
    "    time_parsed_purchases\n",
    "    .filter(lambda x: x[1].weekday() < 5)  # Checks whever the day is out of weekends.\n",
    ")\n",
    "\n",
    "# Computes an histogram of purchases\n",
    "weekend_purchases_array = np.array(weekend_purchases.map(lambda x: x[0]).collect())\n",
    "weekday_purchases_array = np.array(weekday_purchases.map(lambda x: x[0]).collect())\n",
    "\n",
    "def compute_normalized_histogram(data, n_bins=maximum_item_id):\n",
    "    array = np.zeros(n_bins, dtype=np.float32)\n",
    "    # Counts every values\n",
    "    uniques, counts = np.unique(data, return_counts=True)\n",
    "    # Sets the values for each present item\n",
    "    for u, c in zip(uniques, counts):\n",
    "        array[u-1] = c\n",
    "    # Computes the norm of the histogram    \n",
    "    total = np.sum(counts)\n",
    "    return array / total\n",
    "\n",
    "weekend_histogram = compute_normalized_histogram(weekend_purchases_array, n_bins=maximum_item_id)\n",
    "weekday_histogram = compute_normalized_histogram(weekday_purchases_array, n_bins=maximum_item_id)"
   ]
  },
  {
   "cell_type": "code",
   "execution_count": 65,
   "id": "e557b936-9d1c-4391-bd22-d04f5c40f085",
   "metadata": {},
   "outputs": [
    {
     "data": {
      "text/plain": [
       "[<matplotlib.lines.Line2D at 0x7fb9cfae91c0>]"
      ]
     },
     "execution_count": 65,
     "metadata": {},
     "output_type": "execute_result"
    },
    {
     "data": {
      "image/png": "[encoded data removed]",
      "text/plain": [
       "<Figure size 576x288 with 2 Axes>"
      ]
     },
     "metadata": {
      "needs_background": "light"
     },
     "output_type": "display_data"
    }
   ],
   "source": [
    "plt.figure(figsize=(8, 4))\n",
    "plt.subplot(121)\n",
    "plt.plot(weekend_histogram)\n",
    "plt.subplot(122)\n",
    "plt.plot(weekday_histogram)"
   ]
  },
  {
   "cell_type": "code",
   "execution_count": 68,
   "id": "bca48c54-7ca2-4581-8aed-793f070ef404",
   "metadata": {},
   "outputs": [
    {
     "data": {
      "text/plain": [
       "[<matplotlib.lines.Line2D at 0x7fb9cf4cba30>]"
      ]
     },
     "execution_count": 68,
     "metadata": {},
     "output_type": "execute_result"
    },
    {
     "data": {
      "image/png": "[encoded data removed]",
      "text/plain": [
       "<Figure size 576x288 with 2 Axes>"
      ]
     },
     "metadata": {
      "needs_background": "light"
     },
     "output_type": "display_data"
    }
   ],
   "source": [
    "def get_season(date_time):\n",
    "    season = (date_time.month - 1) // 3\n",
    "    season += (date_time.month == 3)&(date_time.day>=20)\n",
    "    season += (date_time.month == 6)&(date_time.day>=21)\n",
    "    season += (date_time.month == 9)&(date_time.day>=23)\n",
    "    season -= 3*int(((date_time.month == 12)&(date_time.day>=21)))\n",
    "    return season\n",
    "\n",
    "winter_purchases = (\n",
    "    time_parsed_purchases\n",
    "    .filter(lambda x: get_season(x[1]) == 0)  # Checks wherever the day is during a weekend by checking the weekday of the parsed date\n",
    ")\n",
    "\n",
    "summer_purchases = (\n",
    "    time_parsed_purchases\n",
    "    .filter(lambda x: get_season(x[1]) == 2)  # Checks wherever the day is during a weekend by checking the weekday of the parsed date\n",
    ")\n",
    "\n",
    "\n",
    "winter_histogram = compute_normalized_histogram(np.array(winter_purchases.map(lambda x: x[0]).collect()), n_bins=maximum_item_id)\n",
    "summer_histogram = compute_normalized_histogram(np.array(summer_purchases.map(lambda x: x[0]).collect()), n_bins=maximum_item_id)\n",
    "\n",
    "plt.figure(figsize=(8, 4))\n",
    "plt.subplot(121)\n",
    "plt.plot(winter_histogram)\n",
    "plt.subplot(122)\n",
    "plt.plot(summer_histogram)"
   ]
  },
  {
   "cell_type": "markdown",
   "id": "92d396bf-d7e0-47b2-b1e3-e69fc9fad37b",
   "metadata": {},
   "source": [
    "# Analysis of purchases depending on the the session duration.\n",
    "\n",
    "Let's analyse the distribution of session durations."
   ]
  },
  {
   "cell_type": "code",
   "execution_count": 94,
   "id": "42e96b3b-f65a-42e8-8536-e883243ee992",
   "metadata": {},
   "outputs": [],
   "source": [
    "def parse_timestamp_iterable(iterable):\n",
    "    parsed_dates = []\n",
    "    found_purchase_date = False\n",
    "    for timestamp in iterable:\n",
    "        if not found_purchase_date:\n",
    "            purchase_date = parse_datetime(timestamp[1])\n",
    "            parsed_dates.append(purchase_date)\n",
    "            found_purchase_date = True\n",
    "        date = parse_datetime(timestamp[0])\n",
    "        parsed_dates.append(date)\n",
    "    return sorted(parsed_dates)\n",
    "\n",
    "mapped_purchases = (\n",
    "    train_purchases.rdd\n",
    "    .map(lambda x: (x.session_id, x.date))  # Maps the purchases to a (key=session, value=date) tuple\n",
    ")\n",
    "\n",
    "sessions_with_all_dates = (\n",
    "    train_sessions.rdd\n",
    "    .map(lambda x: (x.session_id, x.date))  # Maps the sessions to a (key=session, value=visit_date) tuple\n",
    "    .join(mapped_purchases)  # Joins the purchases, obtaining a (key=session, value=[visit_date, purchase_date]) \n",
    "    .groupByKey()  # Groups the sessions altogheter\n",
    "    .mapValues(parse_timestamp_iterable)  # Parses the dates and puts the purchase date with all the other dates.\n",
    ")"
   ]
  },
  {
   "cell_type": "code",
   "execution_count": 115,
   "id": "96ba8efb-bcc3-4f91-9371-35ce89a72712",
   "metadata": {},
   "outputs": [],
   "source": [
    "def find_session_length(values):\n",
    "    first_date = min(values)\n",
    "    last_date = max(values)\n",
    "    return (last_date - first_date).seconds\n",
    "\n",
    "session_lengths = (\n",
    "    sessions_with_all_dates\n",
    "    .mapValues(find_session_length)  # Finds the first and the last date, then computes the difference in seconds\n",
    ")"
   ]
  },
  {
   "cell_type": "code",
   "execution_count": 116,
   "id": "02a9703d-af07-4fb2-a282-cfe60c07f962",
   "metadata": {},
   "outputs": [
    {
     "name": "stderr",
     "output_type": "stream",
     "text": [
      "                                                                                \r"
     ]
    }
   ],
   "source": [
    "session_length_array = np.array(session_lengths.map(lambda x: x[1]).collect())\n",
    "session_id_array = np.array(session_lengths.map(lambda x: x[0]).collect())"
   ]
  },
  {
   "cell_type": "code",
   "execution_count": 117,
   "id": "a7a4e0bd-7384-4f7e-a516-65e74b84bc5d",
   "metadata": {},
   "outputs": [],
   "source": [
    "values, counts = np.unique(session_length_array, return_counts=True)\n",
    "\n",
    "distribution_array = np.zeros(values.max() + 1, dtype=np.int32)\n",
    "\n",
    "for val, count in zip(values, counts):\n",
    "    distribution_array[val] = count"
   ]
  },
  {
   "cell_type": "code",
   "execution_count": 133,
   "id": "441b2a66-b818-4d2f-be9d-be3f20ac1532",
   "metadata": {},
   "outputs": [
    {
     "data": {
      "text/plain": [
       "[<matplotlib.lines.Line2D at 0x7fb9b6751970>]"
      ]
     },
     "execution_count": 133,
     "metadata": {},
     "output_type": "execute_result"
    },
    {
     "data": {
      "image/png": "[encoded data removed]",
      "text/plain": [
       "<Figure size 720x576 with 1 Axes>"
      ]
     },
     "metadata": {
      "needs_background": "light"
     },
     "output_type": "display_data"
    }
   ],
   "source": [
    "plt.figure(figsize=(10, 8))\n",
    "plt.plot(distribution_array[0:1000])"
   ]
  },
  {
   "cell_type": "code",
   "execution_count": 132,
   "id": "f339ad64-c1b4-4b80-a125-e538d4cc3635",
   "metadata": {},
   "outputs": [
    {
     "data": {
      "text/plain": [
       "18"
      ]
     },
     "execution_count": 132,
     "metadata": {},
     "output_type": "execute_result"
    }
   ],
   "source": [
    "values[np.argmax(counts)]"
   ]
  },
  {
   "cell_type": "code",
   "execution_count": null,
   "id": "6f21d868-7abf-4986-867b-cee51b7dfe90",
   "metadata": {},
   "outputs": [],
   "source": []
  }
 ],
 "metadata": {
  "kernelspec": {
   "display_name": "Python 3 (ipykernel)",
   "language": "python",
   "name": "python3"
  },
  "language_info": {
   "codemirror_mode": {
    "name": "ipython",
    "version": 3
   },
   "file_extension": ".py",
   "mimetype": "text/x-python",
   "name": "python",
   "nbconvert_exporter": "python",
   "pygments_lexer": "ipython3",
   "version": "3.9.7"
  }
 },
 "nbformat": 4,
 "nbformat_minor": 5
}
