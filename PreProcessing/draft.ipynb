{
 "cells": [
  {
   "cell_type": "code",
   "execution_count": 1,
   "id": "24b881c9-c598-4237-888d-6f317b850879",
   "metadata": {},
   "outputs": [
    {
     "name": "stderr",
     "output_type": "stream",
     "text": [
      "Using Spark's default log4j profile: org/apache/spark/log4j-defaults.properties\n",
      "Setting default log level to \"WARN\".\n",
      "To adjust logging level use sc.setLogLevel(newLevel). For SparkR, use setLogLevel(newLevel).\n",
      "22/05/26 09:05:48 WARN NativeCodeLoader: Unable to load native-hadoop library for your platform... using builtin-java classes where applicable\n"
     ]
    }
   ],
   "source": [
    "import os \n",
    "import warnings\n",
    "warnings.filterwarnings('ignore')\n",
    "import pandas as pd\n",
    "\n",
    "# launch this cell if you have issues on windows with py4j (think about updating your PATH)\n",
    "import sys\n",
    "os.environ['PYSPARK_DRIVER_PYTHON_OPTS']= \"notebook\"\n",
    "os.environ['PYSPARK_DRIVER_PYTHON'] = sys.executable\n",
    "os.environ['PYSPARK_PYTHON'] = sys.executable\n",
    "\n",
    "# starts a spark session from notebook\n",
    "\n",
    "os.environ['PYSPARK_SUBMIT_ARGS'] =\"--conf spark.driver.memory=4g  pyspark-shell\"\n",
    "from pyspark.sql import SparkSession\n",
    "\n",
    "spark = SparkSession \\\n",
    "    .builder \\\n",
    "    .master(\"local[*]\") \\\n",
    "    .appName(\"load_explore\") \\\n",
    "    .getOrCreate()"
   ]
  },
  {
   "cell_type": "code",
   "execution_count": 5,
   "id": "2596f577-1027-4f1f-8a2b-f9b264184723",
   "metadata": {},
   "outputs": [
    {
     "name": "stderr",
     "output_type": "stream",
     "text": [
      "                                                                                \r"
     ]
    }
   ],
   "source": [
    "# loads relevant datas in DataFrames\n",
    "train_sessions_engineered = spark.read.csv('../Data/session_engineered_features.txt',header=False,\n",
    "                                          inferSchema=True)\n",
    "\n",
    "\n",
    "train_purchases = spark.read.load('../Data/train_purchases.csv', \n",
    "                          format='com.databricks.spark.csv', \n",
    "                          header='true', \n",
    "                          inferSchema='true')"
   ]
  },
  {
   "cell_type": "code",
   "execution_count": 7,
   "id": "514ad9e0-221d-441c-a0dc-fedfcacfe51b",
   "metadata": {},
   "outputs": [
    {
     "name": "stdout",
     "output_type": "stream",
     "text": [
      "root\n",
      " |-- session_id: integer (nullable = true)\n",
      " |-- item_id: integer (nullable = true)\n",
      " |-- date: string (nullable = true)\n",
      "\n"
     ]
    }
   ],
   "source": [
    "train_purchases.printSchema()\n",
    "#train_sessions_engineered.printSchema()"
   ]
  },
  {
   "cell_type": "code",
   "execution_count": null,
   "id": "7d3f8853-6f87-4c6c-8352-fec0546079ca",
   "metadata": {},
   "outputs": [],
   "source": [
    "# INPUT = RDD with already engineered features\n",
    "# two columns of interest MOST VISITED ITEM (clustered) and ITEM MOST TIME SPENT ON (clustered)\n",
    "# the idea is to find a the most bought item (clustered) for each of these value\n",
    "# we'll use the mapping item-id -- cluster (n=50) previously made on the categories features\n",
    "\n",
    "bought_cluster = train_purchases.rdd.join(clustered_items)\n",
    "\n",
    "# join the features df and \n",
    "temp_features = train_sessions_engineered.rdd.join(bought_cluster)\n",
    "\n"
   ]
  },
  {
   "cell_type": "code",
   "execution_count": null,
   "id": "e1941861-a3eb-4888-99e0-dd83b159edaa",
   "metadata": {},
   "outputs": [],
   "source": [
    "def mode_and_least(row):\n",
    "    vals, counts = np.unique(np.array(row), return_counts=True)\n",
    "    mode_value = np.argwhere(counts == np.max(counts))[0][0]\n",
    "    least_value = np.argwhere(counts == np.min(counts))[0][0]\n",
    "    return (row[mode_value],row[least_value])\n",
    "    \n",
    "temp_most_visited = temp_features.rdd.map(lambda x : (x[4],(x[41],))) # keep only most_visited cluster and bought cluster\n",
    "temp_most_visited = temp_most_visited.reduceByKey(lambda x,y : (x+y))\n",
    "temp_most_visited = temp_most_visited.map(lambda x : (x[0], mode_and_least(x[1]))) # mapping : most visited clusted id -->TO--> most and least bought (cluster)"
   ]
  },
  {
   "cell_type": "code",
   "execution_count": 25,
   "id": "a9e0117b-e1b9-457e-a806-8c2f699c9937",
   "metadata": {},
   "outputs": [],
   "source": [
    "import numpy as np\n",
    "def mode_and_least(row):\n",
    "    vals, counts = np.unique(np.array(row), return_counts=True)\n",
    "    mode_value = np.argwhere(counts == np.max(counts))[0][0]\n",
    "    least_value = np.argwhere(counts == np.min(counts))[0][0]\n",
    "    return (row[mode_value],row[least_value])\n",
    "row = (1,4,5,7,87,9,5,1,4,5,6,7,8,2,4,5,6,6,6,8,7,1,1,2,3,4,8,1,1,1,1)\n",
    "a = mode_and_least(row)"
   ]
  },
  {
   "cell_type": "code",
   "execution_count": 26,
   "id": "40fdbe35-426d-4955-bc4f-523b0a2b8b2c",
   "metadata": {},
   "outputs": [
    {
     "data": {
      "text/plain": [
       "(1, 5)"
      ]
     },
     "execution_count": 26,
     "metadata": {},
     "output_type": "execute_result"
    }
   ],
   "source": [
    "a"
   ]
  },
  {
   "cell_type": "code",
   "execution_count": 27,
   "id": "5bc7c6e5-effe-452a-911a-b8dd8f9c987c",
   "metadata": {},
   "outputs": [
    {
     "data": {
      "text/plain": [
       "(1,\n",
       " 4,\n",
       " 5,\n",
       " 7,\n",
       " 87,\n",
       " 9,\n",
       " 5,\n",
       " 1,\n",
       " 4,\n",
       " 5,\n",
       " 6,\n",
       " 7,\n",
       " 8,\n",
       " 2,\n",
       " 4,\n",
       " 5,\n",
       " 6,\n",
       " 6,\n",
       " 6,\n",
       " 8,\n",
       " 7,\n",
       " 1,\n",
       " 1,\n",
       " 2,\n",
       " 3,\n",
       " 4,\n",
       " 8,\n",
       " 1,\n",
       " 1,\n",
       " 1,\n",
       " 1,\n",
       " 1,\n",
       " 2)"
      ]
     },
     "execution_count": 27,
     "metadata": {},
     "output_type": "execute_result"
    }
   ],
   "source": [
    "row+(1,2)"
   ]
  },
  {
   "cell_type": "code",
   "execution_count": null,
   "id": "bba8dee5-5176-4a5a-a3e1-11c75709e524",
   "metadata": {},
   "outputs": [],
   "source": []
  }
 ],
 "metadata": {
  "kernelspec": {
   "display_name": "Python 3 (ipykernel)",
   "language": "python",
   "name": "python3"
  },
  "language_info": {
   "codemirror_mode": {
    "name": "ipython",
    "version": 3
   },
   "file_extension": ".py",
   "mimetype": "text/x-python",
   "name": "python",
   "nbconvert_exporter": "python",
   "pygments_lexer": "ipython3",
   "version": "3.9.7"
  }
 },
 "nbformat": 4,
 "nbformat_minor": 5
}
