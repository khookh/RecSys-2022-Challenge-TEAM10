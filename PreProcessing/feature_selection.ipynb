{
 "cells": [
  {
   "cell_type": "code",
   "execution_count": 1,
   "id": "e5ec86f2",
   "metadata": {},
   "outputs": [
    {
     "name": "stderr",
     "output_type": "stream",
     "text": [
      "22/05/24 19:40:26 WARN Utils: Your hostname, pierre-hp resolves to a loopback address: 127.0.1.1; using 192.168.0.194 instead (on interface eno1)\n",
      "22/05/24 19:40:26 WARN Utils: Set SPARK_LOCAL_IP if you need to bind to another address\n",
      "WARNING: An illegal reflective access operation has occurred\n",
      "WARNING: Illegal reflective access by org.apache.spark.unsafe.Platform (file:/home/pdefraene/Downloads/spark-3.2.1-bin-hadoop3.2/jars/spark-unsafe_2.12-3.2.1.jar) to constructor java.nio.DirectByteBuffer(long,int)\n",
      "WARNING: Please consider reporting this to the maintainers of org.apache.spark.unsafe.Platform\n",
      "WARNING: Use --illegal-access=warn to enable warnings of further illegal reflective access operations\n",
      "WARNING: All illegal access operations will be denied in a future release\n",
      "Using Spark's default log4j profile: org/apache/spark/log4j-defaults.properties\n",
      "Setting default log level to \"WARN\".\n",
      "To adjust logging level use sc.setLogLevel(newLevel). For SparkR, use setLogLevel(newLevel).\n",
      "22/05/24 19:40:27 WARN NativeCodeLoader: Unable to load native-hadoop library for your platform... using builtin-java classes where applicable\n"
     ]
    }
   ],
   "source": [
    "import os \n",
    "import warnings\n",
    "import time\n",
    "import numpy as np\n",
    "import scipy.stats\n",
    "import sys\n",
    "import sklearn\n",
    "import sklearn.datasets\n",
    "\n",
    "from pyspark.sql import SparkSession\n",
    "warnings.filterwarnings('ignore')\n",
    "import pandas as pd\n",
    "\n",
    "# launch this cell if you have issues on windows with py4j (think about updating your PATH)\n",
    "\n",
    "os.environ['PYSPARK_DRIVER_PYTHON_OPTS']= \"notebook\"\n",
    "os.environ['PYSPARK_DRIVER_PYTHON'] = sys.executable\n",
    "os.environ['PYSPARK_PYTHON'] = sys.executable\n",
    "\n",
    "# starts a spark session from notebook\n",
    "\n",
    "os.environ['PYSPARK_SUBMIT_ARGS'] =\"--conf spark.driver.memory=4g  pyspark-shell\"\n",
    "\n",
    "\n",
    "spark = SparkSession \\\n",
    "    .builder \\\n",
    "    .master(\"local[*]\") \\\n",
    "    .appName(\"feature_selection\") \\\n",
    "    .getOrCreate()\n",
    "\n",
    "sc=spark.sparkContext"
   ]
  },
  {
   "cell_type": "code",
   "execution_count": 2,
   "id": "8f14d49f",
   "metadata": {},
   "outputs": [
    {
     "name": "stderr",
     "output_type": "stream",
     "text": [
      "                                                                                \r"
     ]
    }
   ],
   "source": [
    "train_sessions_engineered = spark.read.csv('../dressipi_recsys2022/session_engineered_features.txt',header=False,\n",
    "                                          inferSchema=True)\n",
    "\n",
    "train_purchases = spark.read.load('../dressipi_recsys2022/train_purchases.csv', \n",
    "                          format='com.databricks.spark.csv', \n",
    "                          header='true', \n",
    "                          inferSchema='true')"
   ]
  },
  {
   "cell_type": "code",
   "execution_count": 3,
   "id": "2abbb085",
   "metadata": {},
   "outputs": [
    {
     "name": "stderr",
     "output_type": "stream",
     "text": [
      "22/05/24 19:40:39 WARN package: Truncated the string representation of a plan since it was too large. This behavior can be adjusted by setting 'spark.sql.debug.maxToStringFields'.\n",
      "                                                                                \r"
     ]
    },
    {
     "name": "stdout",
     "output_type": "stream",
     "text": [
      "[[3.1200000e+02 0.0000000e+00 1.6300000e+02 ... 0.0000000e+00\n",
      "  4.3600000e+02 2.5091000e+04]\n",
      " [3.0000000e+00 0.0000000e+00 2.0000000e+00 ... 3.0000000e+00\n",
      "  3.0000000e+00 3.0000000e+00]\n",
      " [5.0000000e+00 4.0000000e+00 4.0000000e+00 ... 5.0000000e+00\n",
      "  2.0000000e+00 4.0000000e+00]\n",
      " ...\n",
      " [0.0000000e+00 0.0000000e+00 0.0000000e+00 ... 0.0000000e+00\n",
      "  0.0000000e+00 0.0000000e+00]\n",
      " [0.0000000e+00 0.0000000e+00 0.0000000e+00 ... 0.0000000e+00\n",
      "  0.0000000e+00 0.0000000e+00]\n",
      " [0.0000000e+00 0.0000000e+00 0.0000000e+00 ... 0.0000000e+00\n",
      "  1.4285715e-01 0.0000000e+00]]\n"
     ]
    }
   ],
   "source": [
    "# sort by session\n",
    "X = train_sessions_engineered.orderBy('_c0') \n",
    "X = X.drop('_c0')\n",
    "X.take(10)\n",
    "\n",
    "\n",
    "X_np = np.array(X.collect())\n",
    "t_X = X_np.transpose()\n",
    "n_total_features = t_X.shape[0]\n",
    "print(t_X)\n",
    "# we want the nb partition to be between 2 or 3 times more than the number of core in our computer\n",
    "Nb_partition=10\n",
    "X_RDD = sc.parallelize(t_X,Nb_partition)"
   ]
  },
  {
   "cell_type": "code",
   "execution_count": 4,
   "id": "5c8462e9",
   "metadata": {},
   "outputs": [
    {
     "name": "stderr",
     "output_type": "stream",
     "text": [
      "\r",
      "[Stage 9:=======>                                                   (1 + 7) / 8]\r",
      "\r",
      "                                                                                \r"
     ]
    }
   ],
   "source": [
    "\n",
    " # get Y output from the training set sorted by session id\n",
    "train_purchases_without_date = train_purchases.drop('date')\n",
    "\n",
    "train_purchases_reformated = train_purchases_without_date.withColumnRenamed(\"item_id\", \"item_id_purchased\")\n",
    "\n",
    "Y_order_by_session_id = train_purchases_reformated.drop('session_id')\n",
    "\n",
    "\n",
    "\n",
    "Y_numpy = np.array(Y_order_by_session_id.collect())\n",
    "Y_numpy = Y_numpy.flatten()"
   ]
  },
  {
   "cell_type": "markdown",
   "id": "3c77a9d3",
   "metadata": {},
   "source": [
    "# Feature Selection\n",
    "\n",
    "After the feature engineering, we could have a lot of features which are not really worth to give to the predicting model. Considering this problem, we want to use some feature selection algorithms to take the feature which are the most interesting to the model.\n",
    "\n",
    "We were asked to implement two scalable feature selection algorithms, a ranking algorithm and a forward feature selection.\n",
    "\n",
    "We could be interested in Minimum-redundancy-maximum-relevance (mRMR) feature selection.\n"
   ]
  },
  {
   "cell_type": "code",
   "execution_count": 5,
   "id": "905cec64",
   "metadata": {},
   "outputs": [],
   "source": [
    "def get_score_mrmr(x, y):\n",
    "    \"\"\"\n",
    "    return the correlation value between two variable in absolute value\n",
    "    \"\"\"\n",
    "\n",
    "    return np.abs(scipy.stats.pearsonr(x, y)[0])"
   ]
  },
  {
   "cell_type": "code",
   "execution_count": 6,
   "id": "caf9570e",
   "metadata": {},
   "outputs": [],
   "source": [
    "def get_mrmr_score_spark(x,selected_features):\n",
    "    \"\"\"\n",
    "    x : the feature to evaluate to add into the model\n",
    "    y : output value\n",
    "    selected_features : the features already selected\n",
    "    return the score for x with the rest of selected variables\n",
    "    \"\"\"\n",
    "    \n",
    "    y = broadcast_Y.value\n",
    "    # Get correlation score between feature x and output y (relevance)\n",
    "    score_x_y_s = get_score_mrmr(x, y)\n",
    "    \n",
    "    \n",
    "    nb_selected_features = selected_features.shape[0]\n",
    "    # If some features have already been selected\n",
    "    if nb_selected_features > 0:\n",
    "        \n",
    "        # Get corrrelation scores between x and each feature already selected (redundancy)\n",
    "        score_features_x_s = np.zeros(nb_selected_features, dtype=float)\n",
    "        \n",
    "        for j in range(nb_selected_features):\n",
    "            \n",
    "            score_x_s_j = get_score_mrmr(x, selected_features[j,:])\n",
    "            \n",
    "            # if score is nan considering that we want to calculate the mean\n",
    "            # we transform it in 0 ?\n",
    "            if np.isnan(score_x_s_j):\n",
    "                score_x_s_j=0\n",
    "            \n",
    "                \n",
    "            score_features_x_s[j] = score_x_s_j\n",
    "        \n",
    "                \n",
    "        # Final score is relevance to output feature - average redundancy with already selected features\n",
    "        score_x_y_s = score_x_y_s - np.mean(score_features_x_s)\n",
    "        \n",
    "    return score_x_y_s"
   ]
  },
  {
   "cell_type": "code",
   "execution_count": 7,
   "id": "ded7f791",
   "metadata": {},
   "outputs": [],
   "source": [
    "def mrmr_spark(n_total_features, K, sc, X_RDD):\n",
    "    \"\"\"\n",
    "    n_total_features : number of total features\n",
    "    K : number of feature to select\n",
    "    sc : spark context\n",
    "    X_RDD : RDD of the variable X\n",
    "    Y: Output data\n",
    "    \n",
    "    return the indice of selected features and time execution using mrmr\n",
    "    \"\"\"\n",
    "    time_execution = []\n",
    "    remaining_features_indices = list(range(n_total_features))\n",
    "    selected_features_indices = []\n",
    "    \n",
    "\n",
    "    for k in range(K):\n",
    "        print(\"Step: \"+str(k))\n",
    "    \n",
    "        start_time=time.time()\n",
    "        # Get the subset of selected features values, and cast as an array\n",
    "        selected_features = X_RDD.zipWithIndex().filter(lambda x: x[1] in selected_features_indices).map(lambda x: x[0]).collect()\n",
    "        selected_features = np.array(selected_features)\n",
    "        print(selected_features)\n",
    "    \n",
    "        # mRMR scores are computed by first filtering `t_X` to remove already selected features, and then mapping \n",
    "        # each remaining feature using the `get_mrmr_score_spark` function\n",
    "        scores = X_RDD.zipWithIndex().filter(lambda x: x[1] in remaining_features_indices).map(lambda x:get_mrmr_score_spark(x[0],selected_features)).collect()\n",
    "    \n",
    "        # Once all mRMR scores are computed, the index of the feature with the highest score is selected\n",
    "        scores = np.array(scores)\n",
    "        \n",
    "    \n",
    "        index_max_score_features = np.argmax(scores)\n",
    "    \n",
    "        selected_features_indices.append(remaining_features_indices[index_max_score_features])\n",
    "    \n",
    "        del(remaining_features_indices[index_max_score_features])\n",
    "    \n",
    "        print(time.time()-start_time)\n",
    "        time_execution.append(time.time()-start_time)\n",
    "        \n",
    "    return selected_features_indices, time_execution"
   ]
  },
  {
   "cell_type": "code",
   "execution_count": 8,
   "id": "86d803b4",
   "metadata": {
    "scrolled": true
   },
   "outputs": [
    {
     "name": "stdout",
     "output_type": "stream",
     "text": [
      "Step: 0\n"
     ]
    },
    {
     "name": "stderr",
     "output_type": "stream",
     "text": [
      "22/05/24 19:41:13 WARN TaskSetManager: Stage 10 contains a task of very large size (23442 KiB). The maximum recommended task size is 1000 KiB.\n",
      "22/05/24 19:41:14 WARN TaskSetManager: Stage 11 contains a task of very large size (23442 KiB). The maximum recommended task size is 1000 KiB.\n",
      "22/05/24 19:41:15 WARN TaskSetManager: Stage 12 contains a task of very large size (23442 KiB). The maximum recommended task size is 1000 KiB.\n"
     ]
    },
    {
     "name": "stdout",
     "output_type": "stream",
     "text": [
      "[]\n"
     ]
    },
    {
     "name": "stderr",
     "output_type": "stream",
     "text": [
      "22/05/24 19:41:16 WARN TaskSetManager: Stage 13 contains a task of very large size (23442 KiB). The maximum recommended task size is 1000 KiB.\n",
      "/home/pdefraene/.local/lib/python3.10/site-packages/scipy/stats/_stats_py.py:4068: PearsonRConstantInputWarning: An input array is constant; the correlation coefficient is not defined.\n",
      "  warnings.warn(PearsonRConstantInputWarning())\n",
      "                                                                                \r"
     ]
    },
    {
     "name": "stdout",
     "output_type": "stream",
     "text": [
      "5.072085618972778\n",
      "Step: 1\n"
     ]
    },
    {
     "name": "stderr",
     "output_type": "stream",
     "text": [
      "22/05/24 19:41:18 WARN TaskSetManager: Stage 14 contains a task of very large size (23442 KiB). The maximum recommended task size is 1000 KiB.\n",
      "22/05/24 19:41:19 WARN TaskSetManager: Stage 15 contains a task of very large size (23442 KiB). The maximum recommended task size is 1000 KiB.\n",
      "22/05/24 19:41:20 WARN TaskSetManager: Stage 16 contains a task of very large size (23442 KiB). The maximum recommended task size is 1000 KiB.\n"
     ]
    },
    {
     "name": "stdout",
     "output_type": "stream",
     "text": [
      "[[0. 0. 0. ... 0. 0. 0.]]\n"
     ]
    },
    {
     "name": "stderr",
     "output_type": "stream",
     "text": [
      "22/05/24 19:41:20 WARN TaskSetManager: Stage 17 contains a task of very large size (23442 KiB). The maximum recommended task size is 1000 KiB.\n",
      "/home/pdefraene/.local/lib/python3.10/site-packages/scipy/stats/_stats_py.py:4068: PearsonRConstantInputWarning: An input array is constant; the correlation coefficient is not defined.\n",
      "  warnings.warn(PearsonRConstantInputWarning())\n",
      "/home/pdefraene/.local/lib/python3.10/site-packages/scipy/stats/_stats_py.py:4068: PearsonRConstantInputWarning: An input array is constant; the correlation coefficient is not defined.\n",
      "  warnings.warn(PearsonRConstantInputWarning())\n",
      "/home/pdefraene/.local/lib/python3.10/site-packages/scipy/stats/_stats_py.py:4068: PearsonRConstantInputWarning: An input array is constant; the correlation coefficient is not defined.\n",
      "  warnings.warn(PearsonRConstantInputWarning())\n",
      "/home/pdefraene/.local/lib/python3.10/site-packages/scipy/stats/_stats_py.py:4068: PearsonRConstantInputWarning: An input array is constant; the correlation coefficient is not defined.\n",
      "  warnings.warn(PearsonRConstantInputWarning())\n",
      "/home/pdefraene/.local/lib/python3.10/site-packages/scipy/stats/_stats_py.py:4068: PearsonRConstantInputWarning: An input array is constant; the correlation coefficient is not defined.\n",
      "  warnings.warn(PearsonRConstantInputWarning())\n",
      "/home/pdefraene/.local/lib/python3.10/site-packages/scipy/stats/_stats_py.py:4068: PearsonRConstantInputWarning: An input array is constant; the correlation coefficient is not defined.\n",
      "  warnings.warn(PearsonRConstantInputWarning())\n",
      "/home/pdefraene/.local/lib/python3.10/site-packages/scipy/stats/_stats_py.py:4068: PearsonRConstantInputWarning: An input array is constant; the correlation coefficient is not defined.\n",
      "  warnings.warn(PearsonRConstantInputWarning())\n",
      "22/05/24 19:41:22 WARN TaskSetManager: Stage 18 contains a task of very large size (23442 KiB). The maximum recommended task size is 1000 KiB.\n"
     ]
    },
    {
     "name": "stdout",
     "output_type": "stream",
     "text": [
      "3.840484857559204\n",
      "Step: 2\n"
     ]
    },
    {
     "name": "stderr",
     "output_type": "stream",
     "text": [
      "22/05/24 19:41:22 WARN TaskSetManager: Stage 19 contains a task of very large size (23442 KiB). The maximum recommended task size is 1000 KiB.\n",
      "22/05/24 19:41:23 WARN TaskSetManager: Stage 20 contains a task of very large size (23442 KiB). The maximum recommended task size is 1000 KiB.\n"
     ]
    },
    {
     "name": "stdout",
     "output_type": "stream",
     "text": [
      "[[0. 0. 0. ... 0. 0. 0.]\n",
      " [0. 0. 0. ... 0. 0. 0.]]\n"
     ]
    },
    {
     "name": "stderr",
     "output_type": "stream",
     "text": [
      "22/05/24 19:41:24 WARN TaskSetManager: Stage 21 contains a task of very large size (23442 KiB). The maximum recommended task size is 1000 KiB.\n",
      "22/05/24 19:41:26 WARN TaskSetManager: Stage 22 contains a task of very large size (23442 KiB). The maximum recommended task size is 1000 KiB.\n"
     ]
    },
    {
     "name": "stdout",
     "output_type": "stream",
     "text": [
      "4.136911153793335\n",
      "Step: 3\n"
     ]
    },
    {
     "name": "stderr",
     "output_type": "stream",
     "text": [
      "22/05/24 19:41:27 WARN TaskSetManager: Stage 23 contains a task of very large size (23442 KiB). The maximum recommended task size is 1000 KiB.\n",
      "22/05/24 19:41:28 WARN TaskSetManager: Stage 24 contains a task of very large size (23442 KiB). The maximum recommended task size is 1000 KiB.\n"
     ]
    },
    {
     "name": "stdout",
     "output_type": "stream",
     "text": [
      "[[2020. 2020. 2020. ... 2020. 2020. 2020.]\n",
      " [   0.    0.    0. ...    0.    0.    0.]\n",
      " [   0.    0.    0. ...    0.    0.    0.]]\n"
     ]
    },
    {
     "name": "stderr",
     "output_type": "stream",
     "text": [
      "22/05/24 19:41:29 WARN TaskSetManager: Stage 25 contains a task of very large size (23442 KiB). The maximum recommended task size is 1000 KiB.\n",
      "22/05/24 19:41:30 WARN TaskSetManager: Stage 26 contains a task of very large size (23442 KiB). The maximum recommended task size is 1000 KiB.\n"
     ]
    },
    {
     "name": "stdout",
     "output_type": "stream",
     "text": [
      "4.5263285636901855\n",
      "Step: 4\n"
     ]
    },
    {
     "name": "stderr",
     "output_type": "stream",
     "text": [
      "22/05/24 19:41:31 WARN TaskSetManager: Stage 27 contains a task of very large size (23442 KiB). The maximum recommended task size is 1000 KiB.\n",
      "22/05/24 19:41:32 WARN TaskSetManager: Stage 28 contains a task of very large size (23442 KiB). The maximum recommended task size is 1000 KiB.\n"
     ]
    },
    {
     "name": "stdout",
     "output_type": "stream",
     "text": [
      "[[2020. 2020. 2020. ... 2020. 2020. 2020.]\n",
      " [   0.    0.    0. ...    0.    0.    0.]\n",
      " [   0.    0.    0. ...    0.    0.    0.]\n",
      " [   0.    0.    0. ...    0.    0.    0.]]\n"
     ]
    },
    {
     "name": "stderr",
     "output_type": "stream",
     "text": [
      "22/05/24 19:41:33 WARN TaskSetManager: Stage 29 contains a task of very large size (23442 KiB). The maximum recommended task size is 1000 KiB.\n",
      "22/05/24 19:41:35 WARN TaskSetManager: Stage 30 contains a task of very large size (23442 KiB). The maximum recommended task size is 1000 KiB.\n"
     ]
    },
    {
     "name": "stdout",
     "output_type": "stream",
     "text": [
      "4.758652210235596\n",
      "Step: 5\n"
     ]
    },
    {
     "name": "stderr",
     "output_type": "stream",
     "text": [
      "22/05/24 19:41:36 WARN TaskSetManager: Stage 31 contains a task of very large size (23442 KiB). The maximum recommended task size is 1000 KiB.\n",
      "                                                                                \r"
     ]
    },
    {
     "name": "stdout",
     "output_type": "stream",
     "text": [
      "[[  312.     0.   163. ...     0.   436. 25091.]\n",
      " [ 2020.  2020.  2020. ...  2020.  2020.  2020.]\n",
      " [    0.     0.     0. ...     0.     0.     0.]\n",
      " [    0.     0.     0. ...     0.     0.     0.]\n",
      " [    0.     0.     0. ...     0.     0.     0.]]\n"
     ]
    },
    {
     "name": "stderr",
     "output_type": "stream",
     "text": [
      "22/05/24 19:41:37 WARN TaskSetManager: Stage 32 contains a task of very large size (23442 KiB). The maximum recommended task size is 1000 KiB.\n",
      "22/05/24 19:41:38 WARN TaskSetManager: Stage 33 contains a task of very large size (23442 KiB). The maximum recommended task size is 1000 KiB.\n",
      "22/05/24 19:41:41 WARN TaskSetManager: Stage 34 contains a task of very large size (23442 KiB). The maximum recommended task size is 1000 KiB.\n"
     ]
    },
    {
     "name": "stdout",
     "output_type": "stream",
     "text": [
      "5.699273586273193\n",
      "Step: 6\n"
     ]
    },
    {
     "name": "stderr",
     "output_type": "stream",
     "text": [
      "22/05/24 19:41:42 WARN TaskSetManager: Stage 35 contains a task of very large size (23442 KiB). The maximum recommended task size is 1000 KiB.\n",
      "                                                                                \r"
     ]
    },
    {
     "name": "stdout",
     "output_type": "stream",
     "text": [
      "[[  312.     0.   163. ...     0.   436. 25091.]\n",
      " [ 2020.  2020.  2020. ...  2020.  2020.  2020.]\n",
      " [    0.     0.     0. ...     0.     0.     0.]\n",
      " [    0.     0.     0. ...     0.     0.     0.]\n",
      " [    0.     0.     0. ...     0.     0.     0.]\n",
      " [    0.     0.     0. ...     0.     0.     0.]]\n"
     ]
    },
    {
     "name": "stderr",
     "output_type": "stream",
     "text": [
      "22/05/24 19:41:43 WARN TaskSetManager: Stage 36 contains a task of very large size (23442 KiB). The maximum recommended task size is 1000 KiB.\n",
      "22/05/24 19:41:44 WARN TaskSetManager: Stage 37 contains a task of very large size (23442 KiB). The maximum recommended task size is 1000 KiB.\n",
      "22/05/24 19:41:46 WARN TaskSetManager: Stage 38 contains a task of very large size (23442 KiB). The maximum recommended task size is 1000 KiB.\n"
     ]
    },
    {
     "name": "stdout",
     "output_type": "stream",
     "text": [
      "5.732224464416504\n",
      "Step: 7\n"
     ]
    },
    {
     "name": "stderr",
     "output_type": "stream",
     "text": [
      "22/05/24 19:41:47 WARN TaskSetManager: Stage 39 contains a task of very large size (23442 KiB). The maximum recommended task size is 1000 KiB.\n",
      "22/05/24 19:41:48 WARN TaskSetManager: Stage 40 contains a task of very large size (23442 KiB). The maximum recommended task size is 1000 KiB.\n"
     ]
    },
    {
     "name": "stdout",
     "output_type": "stream",
     "text": [
      "[[  312.     0.   163. ...     0.   436. 25091.]\n",
      " [ 2020.  2020.  2020. ...  2020.  2020.  2020.]\n",
      " [ 9655. 15654. 18316. ... 25357. 15853. 27400.]\n",
      " ...\n",
      " [    0.     0.     0. ...     0.     0.     0.]\n",
      " [    0.     0.     0. ...     0.     0.     0.]\n",
      " [    0.     0.     0. ...     0.     0.     0.]]\n"
     ]
    },
    {
     "name": "stderr",
     "output_type": "stream",
     "text": [
      "22/05/24 19:41:49 WARN TaskSetManager: Stage 41 contains a task of very large size (23442 KiB). The maximum recommended task size is 1000 KiB.\n",
      "22/05/24 19:41:52 WARN TaskSetManager: Stage 42 contains a task of very large size (23442 KiB). The maximum recommended task size is 1000 KiB.\n"
     ]
    },
    {
     "name": "stdout",
     "output_type": "stream",
     "text": [
      "5.586461782455444\n",
      "Step: 8\n"
     ]
    },
    {
     "name": "stderr",
     "output_type": "stream",
     "text": [
      "22/05/24 19:41:53 WARN TaskSetManager: Stage 43 contains a task of very large size (23442 KiB). The maximum recommended task size is 1000 KiB.\n",
      "22/05/24 19:41:54 WARN TaskSetManager: Stage 44 contains a task of very large size (23442 KiB). The maximum recommended task size is 1000 KiB.\n"
     ]
    },
    {
     "name": "stdout",
     "output_type": "stream",
     "text": [
      "[[  312.     0.   163. ...     0.   436. 25091.]\n",
      " [ 2020.  2020.  2020. ...  2020.  2020.  2020.]\n",
      " [ 9655. 15654. 18316. ... 25357. 15853. 27400.]\n",
      " ...\n",
      " [    0.     0.     0. ...     0.     0.     0.]\n",
      " [    0.     0.     0. ...     0.     0.     0.]\n",
      " [    0.     0.     0. ...     0.     0.     0.]]\n"
     ]
    },
    {
     "name": "stderr",
     "output_type": "stream",
     "text": [
      "22/05/24 19:41:55 WARN TaskSetManager: Stage 45 contains a task of very large size (23442 KiB). The maximum recommended task size is 1000 KiB.\n",
      "22/05/24 19:41:58 WARN TaskSetManager: Stage 46 contains a task of very large size (23442 KiB). The maximum recommended task size is 1000 KiB.\n"
     ]
    },
    {
     "name": "stdout",
     "output_type": "stream",
     "text": [
      "5.980298280715942\n",
      "Step: 9\n"
     ]
    },
    {
     "name": "stderr",
     "output_type": "stream",
     "text": [
      "22/05/24 19:41:59 WARN TaskSetManager: Stage 47 contains a task of very large size (23442 KiB). The maximum recommended task size is 1000 KiB.\n",
      "22/05/24 19:42:00 WARN TaskSetManager: Stage 48 contains a task of very large size (23442 KiB). The maximum recommended task size is 1000 KiB.\n"
     ]
    },
    {
     "name": "stdout",
     "output_type": "stream",
     "text": [
      "[[  312.     0.   163. ...     0.   436. 25091.]\n",
      " [ 2020.  2020.  2020. ...  2020.  2020.  2020.]\n",
      " [ 9655. 15654. 18316. ... 25357. 15853. 27400.]\n",
      " ...\n",
      " [    0.     0.     0. ...     0.     0.     0.]\n",
      " [    0.     0.     0. ...     0.     0.     0.]\n",
      " [    0.     0.     0. ...     0.     0.     0.]]\n"
     ]
    },
    {
     "name": "stderr",
     "output_type": "stream",
     "text": [
      "22/05/24 19:42:01 WARN TaskSetManager: Stage 49 contains a task of very large size (23442 KiB). The maximum recommended task size is 1000 KiB.\n",
      "[Stage 49:=============================================>           (8 + 2) / 10]\r"
     ]
    },
    {
     "name": "stdout",
     "output_type": "stream",
     "text": [
      "6.704560279846191\n"
     ]
    },
    {
     "name": "stderr",
     "output_type": "stream",
     "text": [
      "\r",
      "                                                                                \r"
     ]
    }
   ],
   "source": [
    "broadcast_Y = sc.broadcast(Y_numpy)\n",
    "selected_features_indices, execution_time = mrmr_spark(n_total_features, 10, sc,X_RDD)"
   ]
  },
  {
   "cell_type": "code",
   "execution_count": 9,
   "id": "cbc4fd80",
   "metadata": {},
   "outputs": [
    {
     "data": {
      "text/plain": [
       "[36, 19, 4, 32, 0, 23, 5, 18, 21, 34]"
      ]
     },
     "execution_count": 9,
     "metadata": {},
     "output_type": "execute_result"
    }
   ],
   "source": [
    "selected_features_indices"
   ]
  },
  {
   "cell_type": "markdown",
   "id": "fcd2f0e8",
   "metadata": {},
   "source": [
    "Then, we will look a the forward feature Selection by training on a decision tree with every feature and add the features which get the best results. We have implemented it with two stop for the algorithm. The first one is a classic stop when we have K features, the second one stop when the model doesn't increase in accuracy anymore. "
   ]
  },
  {
   "cell_type": "code",
   "execution_count": 10,
   "id": "3f884d0f",
   "metadata": {},
   "outputs": [],
   "source": [
    "from sklearn import tree\n",
    "from sklearn import linear_model\n",
    "from sklearn.model_selection import train_test_split\n",
    "\n",
    "def fit_get_score(x,selected_features):\n",
    "    \"\"\"\n",
    "    train an model to get the score with the addition of a specified x feature\n",
    "    \"\"\"    \n",
    "    \n",
    "    y = broadcast_Y.value\n",
    "    n_selected_features = selected_features.shape[0]\n",
    "    \n",
    "    if n_selected_features>0:\n",
    "        # need to merge x and the already selected features\n",
    "        x = np.vstack((selected_features,x))\n",
    "        x = x.transpose()\n",
    "    else:\n",
    "        x = x.reshape(-1, 1)\n",
    "        \n",
    "    \n",
    "    #split data\n",
    "    x_train,x_test,y_train,y_test = train_test_split(x,y, test_size= 0.3)\n",
    "    \n",
    "    \n",
    "    \n",
    "    # train on training data\n",
    "    model = tree.DecisionTreeClassifier()\n",
    "    model = model.fit(x_train,y_train)\n",
    "    \n",
    "    # get score on testing set\n",
    "    return model.score(x_test, y_test)"
   ]
  },
  {
   "cell_type": "code",
   "execution_count": 11,
   "id": "035c9467",
   "metadata": {},
   "outputs": [],
   "source": [
    "def forward_feature_selection(n_total_features, K, sc, X_RDD):\n",
    "    \"\"\"\n",
    "    n_total_features : number of total features\n",
    "    K : number of feature to select\n",
    "    sc : spark context\n",
    "    X_RDD : RDD of the variable X\n",
    "    Y: Output data\n",
    "    \n",
    "    return the indice of selected features and time execution\n",
    "    by using a decision tree as model to calculate the score\n",
    "    \"\"\"\n",
    "    time_execution = []\n",
    "    \n",
    "    remaining_features_indices = list(range(n_total_features))\n",
    "    selected_features_indices = []\n",
    "    \n",
    "    for k in range(K):\n",
    "        print(\"Step: \"+str(k))\n",
    "    \n",
    "        start_time=time.time()\n",
    "\n",
    "        # Get the subset of selected features values, and cast as an array\n",
    "        selected_features = X_RDD.zipWithIndex().filter(lambda x: x[1] in selected_features_indices).map(lambda x: x[0]).collect()\n",
    "        selected_features = np.array(selected_features)\n",
    "        \n",
    "    \n",
    "        #  scores for a certain model are computed by first filtering `t_X` to remove already selected features, and then mapping \n",
    "        # each remaining feature using the `fit_get_score` function\n",
    "        scores = X_RDD.zipWithIndex().filter(lambda x: x[1] in remaining_features_indices).map(lambda x:fit_get_score(x[0],selected_features)).collect()\n",
    "    \n",
    "        # Once all scores are computed, the index of the feature with the highest value is chosen\n",
    "        scores = np.array(scores)\n",
    "        \n",
    "        print(\"best_score :\", np.max(scores))\n",
    "    \n",
    "        index_max_score_features = np.argmax(scores)\n",
    "    \n",
    "        selected_features_indices.append(remaining_features_indices[index_max_score_features])\n",
    "    \n",
    "        del(remaining_features_indices[index_max_score_features])\n",
    "    \n",
    "        print(time.time()-start_time)\n",
    "        time_execution.append(time.time()-start_time)\n",
    "        \n",
    "    return selected_features_indices, time_execution\n",
    "    "
   ]
  },
  {
   "cell_type": "code",
   "execution_count": 18,
   "id": "f153a681",
   "metadata": {},
   "outputs": [
    {
     "name": "stdout",
     "output_type": "stream",
     "text": [
      "Step: 0\n"
     ]
    },
    {
     "name": "stderr",
     "output_type": "stream",
     "text": [
      "(3000, 1)3:>                                                       (0 + 8) / 10]\n",
      "(3000, 1)\n",
      "(3000, 1)\n",
      "(3000, 1)\n",
      "(3000, 1)\n",
      "(3000, 1)\n",
      "(3000, 1)\n",
      "(3000, 1)\n",
      "(3000, 1)\n",
      "(3000, 1)\n",
      "(3000, 1)\n",
      "(3000, 1)\n",
      "(3000, 1)\n",
      "(3000, 1)\n",
      "(3000, 1)3:=====>                                                  (1 + 8) / 10]\n",
      "(3000, 1)\n",
      "(3000, 1)\n",
      "(3000, 1)3:================>                                       (3 + 7) / 10]\n",
      "(3000, 1)\n",
      "(3000, 1)\n",
      "(3000, 1)\n",
      "(3000, 1)\n",
      "(3000, 1)\n",
      "(3000, 1)3:======================>                                 (4 + 6) / 10]\n",
      "(3000, 1)\n",
      "(3000, 1)\n",
      "(3000, 1)\n",
      "(3000, 1)3:============================>                           (5 + 5) / 10]\n",
      "(3000, 1)\n",
      "(3000, 1)\n",
      "(3000, 1)\n",
      "(3000, 1)\n",
      "(3000, 1)\n",
      "(3000, 1)3:=================================>                      (6 + 4) / 10]\n",
      "(3000, 1)\n",
      "(3000, 1)3:============================================>           (8 + 2) / 10]\n",
      "(3000, 1)3:==================================================>     (9 + 1) / 10]\n",
      "(3000, 1)\n",
      "                                                                                \r"
     ]
    },
    {
     "name": "stdout",
     "output_type": "stream",
     "text": [
      "best_score : 0.01633333333333333\n",
      "6.262602090835571\n",
      "Step: 1\n"
     ]
    },
    {
     "name": "stderr",
     "output_type": "stream",
     "text": [
      "(3000, 2)7:>                                                       (0 + 8) / 10]\n",
      "(3000, 2)\n",
      "(3000, 2)\n",
      "(3000, 2)\n",
      "(3000, 2)\n",
      "(3000, 2)\n",
      "(3000, 2)\n",
      "(3000, 2)\n",
      "(3000, 2)\n",
      "(3000, 2)\n",
      "(3000, 2)\n",
      "(3000, 2)7:=====>                                                  (1 + 8) / 10]\n",
      "(3000, 2)\n",
      "(3000, 2)\n",
      "(3000, 2)\n",
      "(3000, 2)\n",
      "(3000, 2)\n",
      "(3000, 2)\n",
      "(3000, 2)7:===========>                                            (2 + 8) / 10]\n",
      "(3000, 2)7:======================>                                 (4 + 6) / 10]\n",
      "(3000, 2)\n",
      "(3000, 2)\n",
      "(3000, 2)\n",
      "(3000, 2)\n",
      "(3000, 2)7:============================>                           (5 + 5) / 10]\n",
      "(3000, 2)\n",
      "(3000, 2)\n",
      "(3000, 2)\n",
      "(3000, 2)\n",
      "(3000, 2)\n",
      "(3000, 2)\n",
      "(3000, 2)7:=================================>                      (6 + 4) / 10]\n",
      "(3000, 2)7:=======================================>                (7 + 3) / 10]\n",
      "(3000, 2)\n",
      "(3000, 2)7:============================================>           (8 + 2) / 10]\n",
      "(3000, 2)7:==================================================>     (9 + 1) / 10]\n",
      "(3000, 2)\n",
      "                                                                                \r"
     ]
    },
    {
     "name": "stdout",
     "output_type": "stream",
     "text": [
      "best_score : 0.021\n",
      "17.7170090675354\n",
      "Step: 2\n"
     ]
    },
    {
     "name": "stderr",
     "output_type": "stream",
     "text": [
      "(3000, 3)1:>                                                       (0 + 8) / 10]\n",
      "(3000, 3)\n",
      "(3000, 3)\n",
      "(3000, 3)\n",
      "(3000, 3)\n",
      "(3000, 3)\n",
      "(3000, 3)\n",
      "(3000, 3)\n",
      "(3000, 3)\n",
      "(3000, 3)\n",
      "(3000, 3)\n",
      "(3000, 3)\n",
      "(3000, 3)\n",
      "(3000, 3)\n",
      "(3000, 3)1:===========>                                            (2 + 8) / 10]\n",
      "(3000, 3)\n",
      "(3000, 3)\n",
      "(3000, 3)\n",
      "(3000, 3)\n",
      "(3000, 3)\n",
      "(3000, 3)1:================>                                       (3 + 7) / 10]\n",
      "(3000, 3)1:======================>                                 (4 + 6) / 10]\n",
      "(3000, 3)\n",
      "(3000, 3)1:============================>                           (5 + 5) / 10]\n",
      "(3000, 3)\n",
      "(3000, 3)\n",
      "(3000, 3)\n",
      "(3000, 3)\n",
      "(3000, 3)\n",
      "(3000, 3)\n",
      "(3000, 3)1:=================================>                      (6 + 4) / 10]\n",
      "(3000, 3)\n",
      "(3000, 3)1:=======================================>                (7 + 3) / 10]\n",
      "(3000, 3)\n",
      "(3000, 3)1:============================================>           (8 + 2) / 10]\n",
      "(3000, 3)1:==================================================>     (9 + 1) / 10]\n",
      "                                                                                \r"
     ]
    },
    {
     "name": "stdout",
     "output_type": "stream",
     "text": [
      "best_score : 0.021333333333333333\n",
      "16.386850118637085\n",
      "Step: 3\n"
     ]
    },
    {
     "name": "stderr",
     "output_type": "stream",
     "text": [
      "(3000, 4)5:>                                                       (0 + 8) / 10]\n",
      "(3000, 4)\n",
      "(3000, 4)\n",
      "(3000, 4)\n",
      "(3000, 4)\n",
      "(3000, 4)\n",
      "(3000, 4)\n",
      "(3000, 4)\n",
      "(3000, 4)\n",
      "(3000, 4)\n",
      "(3000, 4)\n",
      "(3000, 4)\n",
      "(3000, 4)5:===========>                                            (2 + 8) / 10]\n",
      "(3000, 4)\n",
      "(3000, 4)5:================>                                       (3 + 7) / 10]\n",
      "(3000, 4)\n",
      "(3000, 4)\n",
      "(3000, 4)\n",
      "(3000, 4)\n",
      "(3000, 4)\n",
      "(3000, 4)5:======================>                                 (4 + 6) / 10]\n",
      "(3000, 4)\n",
      "(3000, 4)5:============================>                           (5 + 5) / 10]\n",
      "(3000, 4)\n",
      "(3000, 4)\n",
      "(3000, 4)\n",
      "(3000, 4)\n",
      "(3000, 4)\n",
      "(3000, 4)\n",
      "(3000, 4)5:=================================>                      (6 + 4) / 10]\n",
      "(3000, 4)\n",
      "(3000, 4)5:=======================================>                (7 + 3) / 10]\n",
      "(3000, 4)5:============================================>           (8 + 2) / 10]\n",
      "(3000, 4)5:==================================================>     (9 + 1) / 10]\n",
      "(3000, 4)\n",
      "                                                                                \r"
     ]
    },
    {
     "name": "stdout",
     "output_type": "stream",
     "text": [
      "best_score : 0.020666666666666667\n",
      "17.07636070251465\n",
      "Step: 4\n"
     ]
    },
    {
     "name": "stderr",
     "output_type": "stream",
     "text": [
      "(3000, 5)9:>                                                       (0 + 8) / 10]\n",
      "(3000, 5)\n",
      "(3000, 5)\n",
      "(3000, 5)\n",
      "(3000, 5)\n",
      "(3000, 5)\n",
      "(3000, 5)\n",
      "(3000, 5)\n",
      "(3000, 5)\n",
      "(3000, 5)\n",
      "(3000, 5)\n",
      "(3000, 5)\n",
      "(3000, 5)\n",
      "(3000, 5)9:================>                                       (3 + 7) / 10]\n",
      "(3000, 5)\n",
      "(3000, 5)\n",
      "(3000, 5)\n",
      "(3000, 5)\n",
      "(3000, 5)\n",
      "(3000, 5)\n",
      "(3000, 5)9:======================>                                 (4 + 6) / 10]\n",
      "(3000, 5)\n",
      "(3000, 5)9:============================>                           (5 + 5) / 10]\n",
      "(3000, 5)\n",
      "(3000, 5)\n",
      "(3000, 5)\n",
      "(3000, 5)\n",
      "(3000, 5)\n",
      "(3000, 5)9:=================================>                      (6 + 4) / 10]\n",
      "(3000, 5)\n",
      "(3000, 5)\n",
      "(3000, 5)9:============================================>           (8 + 2) / 10]\n",
      "(3000, 5)\n",
      "(3000, 5)9:==================================================>     (9 + 1) / 10]\n",
      "                                                                                \r"
     ]
    },
    {
     "name": "stdout",
     "output_type": "stream",
     "text": [
      "best_score : 0.02033333333333333\n",
      "16.285992860794067\n",
      "Step: 5\n"
     ]
    },
    {
     "name": "stderr",
     "output_type": "stream",
     "text": [
      "(3000, 6)3:>                                                       (0 + 8) / 10]\n",
      "(3000, 6)\n",
      "(3000, 6)\n",
      "(3000, 6)\n",
      "(3000, 6)\n",
      "(3000, 6)\n",
      "(3000, 6)\n",
      "(3000, 6)\n",
      "(3000, 6)\n",
      "(3000, 6)\n",
      "(3000, 6)\n",
      "(3000, 6)\n",
      "(3000, 6)3:===========>                                            (2 + 8) / 10]\n",
      "(3000, 6)\n",
      "(3000, 6)3:======================>                                 (4 + 6) / 10]\n",
      "(3000, 6)\n",
      "(3000, 6)\n",
      "(3000, 6)\n",
      "(3000, 6)\n",
      "(3000, 6)\n",
      "(3000, 6)3:============================>                           (5 + 5) / 10]\n",
      "(3000, 6)\n",
      "(3000, 6)\n",
      "(3000, 6)\n",
      "(3000, 6)\n",
      "(3000, 6)\n",
      "(3000, 6)3:=================================>                      (6 + 4) / 10]\n",
      "(3000, 6)\n",
      "(3000, 6)\n",
      "(3000, 6)3:=======================================>                (7 + 3) / 10]\n",
      "(3000, 6)3:============================================>           (8 + 2) / 10]\n",
      "(3000, 6)\n",
      "(3000, 6)3:==================================================>     (9 + 1) / 10]\n",
      "                                                                                \r"
     ]
    },
    {
     "name": "stdout",
     "output_type": "stream",
     "text": [
      "best_score : 0.02033333333333333\n",
      "16.660840034484863\n",
      "Step: 6\n"
     ]
    },
    {
     "name": "stderr",
     "output_type": "stream",
     "text": [
      "(3000, 7)7:>                                                       (0 + 8) / 10]\n",
      "(3000, 7)\n",
      "(3000, 7)\n",
      "(3000, 7)\n",
      "(3000, 7)\n",
      "(3000, 7)\n",
      "(3000, 7)\n",
      "(3000, 7)\n",
      "(3000, 7)\n",
      "(3000, 7)\n",
      "(3000, 7)\n",
      "(3000, 7)\n",
      "(3000, 7)\n",
      "(3000, 7)7:======================>                                 (4 + 6) / 10]\n",
      "(3000, 7)\n",
      "(3000, 7)\n",
      "(3000, 7)\n",
      "(3000, 7)\n",
      "(3000, 7)\n",
      "(3000, 7)\n",
      "(3000, 7)\n",
      "(3000, 7)7:============================>                           (5 + 5) / 10]\n",
      "(3000, 7)\n",
      "(3000, 7)\n",
      "(3000, 7)\n",
      "(3000, 7)7:=================================>                      (6 + 4) / 10]\n",
      "(3000, 7)7:=======================================>                (7 + 3) / 10]\n",
      "(3000, 7)\n",
      "(3000, 7)7:============================================>           (8 + 2) / 10]\n",
      "(3000, 7)\n",
      "(3000, 7)\n",
      "(3000, 7)7:==================================================>     (9 + 1) / 10]\n",
      "                                                                                \r"
     ]
    },
    {
     "name": "stdout",
     "output_type": "stream",
     "text": [
      "best_score : 0.020666666666666667\n",
      "17.47461199760437\n",
      "Step: 7\n"
     ]
    },
    {
     "name": "stderr",
     "output_type": "stream",
     "text": [
      "(3000, 8)1:>                                                       (0 + 8) / 10]\n",
      "(3000, 8)\n",
      "(3000, 8)\n",
      "(3000, 8)\n",
      "(3000, 8)\n",
      "(3000, 8)\n",
      "(3000, 8)\n",
      "(3000, 8)\n",
      "(3000, 8)\n",
      "(3000, 8)\n",
      "(3000, 8)1:===========>                                            (2 + 8) / 10]\n",
      "(3000, 8)1:================>                                       (3 + 7) / 10]\n",
      "(3000, 8)1:======================>                                 (4 + 6) / 10]\n",
      "(3000, 8)\n",
      "(3000, 8)\n",
      "(3000, 8)\n",
      "(3000, 8)\n",
      "(3000, 8)\n",
      "(3000, 8)\n",
      "(3000, 8)\n",
      "(3000, 8)1:============================>                           (5 + 5) / 10]\n",
      "(3000, 8)\n",
      "(3000, 8)1:=================================>                      (6 + 4) / 10]\n",
      "(3000, 8)\n",
      "(3000, 8)\n",
      "(3000, 8)\n",
      "(3000, 8)1:=======================================>                (7 + 3) / 10]\n",
      "(3000, 8)1:============================================>           (8 + 2) / 10]\n",
      "(3000, 8)\n",
      "(3000, 8)\n",
      "(3000, 8)\n",
      "                                                                                \r"
     ]
    },
    {
     "name": "stdout",
     "output_type": "stream",
     "text": [
      "best_score : 0.021666666666666667\n",
      "16.81967329978943\n",
      "Step: 8\n"
     ]
    },
    {
     "name": "stderr",
     "output_type": "stream",
     "text": [
      "(3000, 9)5:>                                                       (0 + 8) / 10]\n",
      "(3000, 9)\n",
      "(3000, 9)\n",
      "(3000, 9)\n",
      "(3000, 9)\n",
      "(3000, 9)\n",
      "(3000, 9)\n",
      "(3000, 9)\n",
      "(3000, 9)\n",
      "(3000, 9)\n",
      "(3000, 9)\n",
      "(3000, 9)5:===========>                                            (2 + 8) / 10]\n",
      "(3000, 9)\n",
      "(3000, 9)5:======================>                                 (4 + 6) / 10]\n",
      "(3000, 9)\n",
      "(3000, 9)\n",
      "(3000, 9)\n",
      "(3000, 9)\n",
      "(3000, 9)\n",
      "(3000, 9)\n",
      "(3000, 9)5:============================>                           (5 + 5) / 10]\n",
      "(3000, 9)\n",
      "(3000, 9)\n",
      "(3000, 9)5:=================================>                      (6 + 4) / 10]\n",
      "(3000, 9)\n",
      "(3000, 9)\n",
      "(3000, 9)5:=======================================>                (7 + 3) / 10]\n",
      "(3000, 9)5:============================================>           (8 + 2) / 10]\n",
      "(3000, 9)\n",
      "(3000, 9)5:==================================================>     (9 + 1) / 10]\n",
      "                                                                                \r"
     ]
    },
    {
     "name": "stdout",
     "output_type": "stream",
     "text": [
      "best_score : 0.020666666666666667\n",
      "16.924214839935303\n",
      "Step: 9\n"
     ]
    },
    {
     "name": "stderr",
     "output_type": "stream",
     "text": [
      "(3000, 10):>                                                       (0 + 8) / 10]\n",
      "(3000, 10)\n",
      "(3000, 10)\n",
      "(3000, 10)\n",
      "(3000, 10)\n",
      "(3000, 10):=====>                                                  (1 + 8) / 10]\n",
      "(3000, 10)\n",
      "(3000, 10)\n",
      "(3000, 10)\n",
      "(3000, 10)\n",
      "(3000, 10)\n",
      "(3000, 10):===========>                                            (2 + 8) / 10]\n",
      "(3000, 10)\n",
      "(3000, 10)\n",
      "(3000, 10):======================>                                 (4 + 6) / 10]\n",
      "(3000, 10)\n",
      "(3000, 10)\n",
      "(3000, 10)\n",
      "(3000, 10)\n",
      "(3000, 10)\n",
      "(3000, 10)\n",
      "(3000, 10):============================>                           (5 + 5) / 10]\n",
      "(3000, 10)\n",
      "(3000, 10)\n",
      "(3000, 10)\n",
      "(3000, 10):=======================================>                (7 + 3) / 10]\n",
      "(3000, 10):============================================>           (8 + 2) / 10]\n",
      "(3000, 10):==================================================>     (9 + 1) / 10]\n",
      "(3000, 10)\n",
      "                                                                                \r"
     ]
    },
    {
     "name": "stdout",
     "output_type": "stream",
     "text": [
      "best_score : 0.022\n",
      "16.7478346824646\n",
      "Step: 10\n"
     ]
    },
    {
     "name": "stderr",
     "output_type": "stream",
     "text": [
      "(3000, 11):>                                                       (0 + 8) / 10]\n",
      "(3000, 11)\n",
      "(3000, 11)\n",
      "(3000, 11)\n",
      "(3000, 11)\n",
      "(3000, 11):=====>                                                  (1 + 8) / 10]\n",
      "(3000, 11)\n",
      "(3000, 11)\n",
      "(3000, 11)\n",
      "(3000, 11)\n",
      "(3000, 11):===========>                                            (2 + 8) / 10]\n",
      "(3000, 11)\n",
      "(3000, 11)\n",
      "(3000, 11):================>                                       (3 + 7) / 10]\n",
      "(3000, 11):======================>                                 (4 + 6) / 10]\n",
      "(3000, 11)\n",
      "(3000, 11)\n",
      "(3000, 11)\n",
      "(3000, 11)\n",
      "(3000, 11)\n",
      "(3000, 11)\n",
      "(3000, 11):============================>                           (5 + 5) / 10]\n",
      "(3000, 11)\n",
      "(3000, 11):=================================>                      (6 + 4) / 10]\n",
      "(3000, 11):=======================================>                (7 + 3) / 10]\n",
      "(3000, 11)\n",
      "(3000, 11):============================================>           (8 + 2) / 10]\n",
      "(3000, 11):==================================================>     (9 + 1) / 10]\n",
      "                                                                                \r"
     ]
    },
    {
     "name": "stdout",
     "output_type": "stream",
     "text": [
      "best_score : 0.021333333333333333\n",
      "13.717164754867554\n",
      "Step: 11\n"
     ]
    },
    {
     "name": "stderr",
     "output_type": "stream",
     "text": [
      "(3000, 12):>                                                       (0 + 8) / 10]\n",
      "(3000, 12)\n",
      "(3000, 12)\n",
      "(3000, 12)\n",
      "(3000, 12)\n",
      "(3000, 12)\n",
      "(3000, 12):=====>                                                  (1 + 8) / 10]\n",
      "(3000, 12)\n",
      "(3000, 12)\n",
      "(3000, 12)\n",
      "(3000, 12)\n",
      "(3000, 12)\n",
      "(3000, 12):================>                                       (3 + 7) / 10]\n",
      "(3000, 12)\n",
      "(3000, 12):======================>                                 (4 + 6) / 10]\n",
      "(3000, 12)\n",
      "(3000, 12)\n",
      "(3000, 12)\n",
      "(3000, 12)\n",
      "(3000, 12)\n",
      "(3000, 12)\n",
      "(3000, 12):============================>                           (5 + 5) / 10]\n",
      "(3000, 12):=================================>                      (6 + 4) / 10]\n",
      "(3000, 12):=======================================>                (7 + 3) / 10]\n",
      "(3000, 12)\n",
      "(3000, 12):============================================>           (8 + 2) / 10]\n",
      "(3000, 12):==================================================>     (9 + 1) / 10]\n",
      "                                                                                \r"
     ]
    },
    {
     "name": "stdout",
     "output_type": "stream",
     "text": [
      "best_score : 0.021666666666666667\n",
      "13.953166961669922\n",
      "Step: 12\n"
     ]
    },
    {
     "name": "stderr",
     "output_type": "stream",
     "text": [
      "(3000, 13):>                                                       (0 + 8) / 10]\n",
      "(3000, 13)\n",
      "(3000, 13)\n",
      "(3000, 13)\n",
      "(3000, 13):=====>                                                  (1 + 8) / 10]\n",
      "(3000, 13)\n",
      "(3000, 13)\n",
      "(3000, 13)\n",
      "(3000, 13)\n",
      "(3000, 13)\n",
      "(3000, 13)\n",
      "(3000, 13):===========>                                            (2 + 8) / 10]\n",
      "(3000, 13)\n",
      "(3000, 13)\n",
      "(3000, 13):======================>                                 (4 + 6) / 10]\n",
      "(3000, 13)\n",
      "(3000, 13)\n",
      "(3000, 13)\n",
      "(3000, 13)\n",
      "(3000, 13):============================>                           (5 + 5) / 10]\n",
      "(3000, 13)\n",
      "(3000, 13):=================================>                      (6 + 4) / 10]\n",
      "(3000, 13):=======================================>                (7 + 3) / 10]\n",
      "(3000, 13)\n",
      "(3000, 13):============================================>           (8 + 2) / 10]\n",
      "(3000, 13):==================================================>     (9 + 1) / 10]\n",
      "                                                                                \r"
     ]
    },
    {
     "name": "stdout",
     "output_type": "stream",
     "text": [
      "best_score : 0.018666666666666668\n",
      "13.289998054504395\n",
      "Step: 13\n"
     ]
    },
    {
     "name": "stderr",
     "output_type": "stream",
     "text": [
      "22/05/24 19:56:37 WARN DAGScheduler: Broadcasting large task binary with size 1023.9 KiB\n",
      "(3000, 14):>                                                       (0 + 8) / 10]\n",
      "(3000, 14)\n",
      "(3000, 14)\n",
      "(3000, 14)\n",
      "(3000, 14)\n",
      "(3000, 14):===========>                                            (2 + 8) / 10]\n",
      "(3000, 14)\n",
      "(3000, 14)\n",
      "(3000, 14)\n",
      "(3000, 14):================>                                       (3 + 7) / 10]\n",
      "(3000, 14)\n",
      "(3000, 14):======================>                                 (4 + 6) / 10]\n",
      "(3000, 14)\n",
      "(3000, 14)\n",
      "(3000, 14):============================>                           (5 + 5) / 10]\n",
      "(3000, 14)\n",
      "(3000, 14)\n",
      "(3000, 14)\n",
      "(3000, 14)\n",
      "(3000, 14)\n",
      "(3000, 14):=================================>                      (6 + 4) / 10]\n",
      "(3000, 14)\n",
      "(3000, 14):=======================================>                (7 + 3) / 10]\n",
      "(3000, 14):============================================>           (8 + 2) / 10]\n",
      "(3000, 14):==================================================>     (9 + 1) / 10]\n",
      "                                                                                \r"
     ]
    },
    {
     "name": "stdout",
     "output_type": "stream",
     "text": [
      "best_score : 0.02\n",
      "13.959269523620605\n",
      "Step: 14\n"
     ]
    },
    {
     "name": "stderr",
     "output_type": "stream",
     "text": [
      "(3000, 15):>                                                       (0 + 8) / 10]\n",
      "(3000, 15)\n",
      "(3000, 15)\n",
      "(3000, 15)\n",
      "(3000, 15)\n",
      "(3000, 15):===========>                                            (2 + 8) / 10]\n",
      "(3000, 15)\n",
      "(3000, 15)\n",
      "(3000, 15)\n",
      "(3000, 15)\n",
      "(3000, 15)\n",
      "(3000, 15)\n",
      "(3000, 15)\n",
      "(3000, 15):======================>                                 (4 + 6) / 10]\n",
      "(3000, 15):============================>                           (5 + 5) / 10]\n",
      "(3000, 15)\n",
      "(3000, 15)\n",
      "(3000, 15)\n",
      "(3000, 15)\n",
      "(3000, 15)\n",
      "(3000, 15):=======================================>                (7 + 3) / 10]\n",
      "(3000, 15):============================================>           (8 + 2) / 10]\n",
      "(3000, 15)\n",
      "(3000, 15):==================================================>     (9 + 1) / 10]\n",
      "                                                                                \r"
     ]
    },
    {
     "name": "stdout",
     "output_type": "stream",
     "text": [
      "best_score : 0.02033333333333333\n",
      "14.503835439682007\n",
      "Step: 15\n"
     ]
    },
    {
     "name": "stderr",
     "output_type": "stream",
     "text": [
      "(3000, 16):=====>                                                  (1 + 8) / 10]\n",
      "(3000, 16)\n",
      "(3000, 16)\n",
      "(3000, 16)\n",
      "(3000, 16)\n",
      "(3000, 16)\n",
      "(3000, 16):===========>                                            (2 + 8) / 10]\n",
      "(3000, 16)\n",
      "(3000, 16)\n",
      "(3000, 16)\n",
      "(3000, 16)\n",
      "(3000, 16)\n",
      "(3000, 16)\n",
      "(3000, 16):================>                                       (3 + 7) / 10]\n",
      "(3000, 16):=================================>                      (6 + 4) / 10]\n",
      "(3000, 16)\n",
      "(3000, 16)\n",
      "(3000, 16)\n",
      "(3000, 16)\n",
      "(3000, 16):=======================================>                (7 + 3) / 10]\n",
      "(3000, 16):============================================>           (8 + 2) / 10]\n",
      "(3000, 16)\n",
      "(3000, 16):==================================================>     (9 + 1) / 10]\n",
      "                                                                                \r"
     ]
    },
    {
     "name": "stdout",
     "output_type": "stream",
     "text": [
      "best_score : 0.022\n",
      "14.759675979614258\n",
      "Step: 16\n"
     ]
    },
    {
     "name": "stderr",
     "output_type": "stream",
     "text": [
      "(3000, 17):=====>                                                  (1 + 8) / 10]\n",
      "(3000, 17)\n",
      "(3000, 17)\n",
      "(3000, 17)\n",
      "(3000, 17):===========>                                            (2 + 8) / 10]\n",
      "(3000, 17):================>                                       (3 + 7) / 10]\n",
      "(3000, 17)\n",
      "(3000, 17)\n",
      "(3000, 17)\n",
      "(3000, 17):======================>                                 (4 + 6) / 10]\n",
      "(3000, 17)\n",
      "(3000, 17)\n",
      "(3000, 17):=================================>                      (6 + 4) / 10]\n",
      "(3000, 17)\n",
      "(3000, 17)\n",
      "(3000, 17)\n",
      "(3000, 17)\n",
      "(3000, 17)\n",
      "(3000, 17):=======================================>                (7 + 3) / 10]\n",
      "(3000, 17):============================================>           (8 + 2) / 10]\n",
      "(3000, 17)\n",
      "(3000, 17):==================================================>     (9 + 1) / 10]\n",
      "                                                                                \r"
     ]
    },
    {
     "name": "stdout",
     "output_type": "stream",
     "text": [
      "best_score : 0.02033333333333333\n",
      "14.8536217212677\n",
      "Step: 17\n"
     ]
    },
    {
     "name": "stderr",
     "output_type": "stream",
     "text": [
      "(3000, 18):=====>                                                  (1 + 8) / 10]\n",
      "(3000, 18)\n",
      "(3000, 18)\n",
      "(3000, 18)\n",
      "(3000, 18)\n",
      "(3000, 18)\n",
      "(3000, 18):================>                                       (3 + 7) / 10]\n",
      "(3000, 18)\n",
      "(3000, 18)\n",
      "(3000, 18)\n",
      "(3000, 18)\n",
      "(3000, 18)\n",
      "(3000, 18):======================>                                 (4 + 6) / 10]\n",
      "(3000, 18):=================================>                      (6 + 4) / 10]\n",
      "(3000, 18)\n",
      "(3000, 18)\n",
      "(3000, 18)\n",
      "(3000, 18):=======================================>                (7 + 3) / 10]\n",
      "(3000, 18):============================================>           (8 + 2) / 10]\n",
      "(3000, 18)\n",
      "(3000, 18):==================================================>     (9 + 1) / 10]\n",
      "                                                                                \r"
     ]
    },
    {
     "name": "stdout",
     "output_type": "stream",
     "text": [
      "best_score : 0.021333333333333333\n",
      "15.309837341308594\n",
      "Step: 18\n"
     ]
    },
    {
     "name": "stderr",
     "output_type": "stream",
     "text": [
      "(3000, 19):=====>                                                  (1 + 8) / 10]\n",
      "(3000, 19)\n",
      "(3000, 19)\n",
      "(3000, 19)\n",
      "(3000, 19):===========>                                            (2 + 8) / 10]\n",
      "(3000, 19):======================>                                 (4 + 6) / 10]\n",
      "(3000, 19)\n",
      "(3000, 19)\n",
      "(3000, 19)\n",
      "(3000, 19)\n",
      "(3000, 19):============================>                           (5 + 5) / 10]\n",
      "(3000, 19)\n",
      "(3000, 19):=================================>                      (6 + 4) / 10]\n",
      "(3000, 19)\n",
      "(3000, 19):=======================================>                (7 + 3) / 10]\n",
      "(3000, 19)\n",
      "(3000, 19)\n",
      "(3000, 19):============================================>           (8 + 2) / 10]\n",
      "(3000, 19)\n",
      "(3000, 19):==================================================>     (9 + 1) / 10]\n",
      "                                                                                \r"
     ]
    },
    {
     "name": "stdout",
     "output_type": "stream",
     "text": [
      "best_score : 0.021666666666666667\n",
      "15.60000205039978\n",
      "Step: 19\n"
     ]
    },
    {
     "name": "stderr",
     "output_type": "stream",
     "text": [
      "(3000, 20):=====>                                                  (1 + 8) / 10]\n",
      "(3000, 20)\n",
      "(3000, 20)\n",
      "(3000, 20)\n",
      "(3000, 20)\n",
      "(3000, 20)\n",
      "(3000, 20):======================>                                 (4 + 6) / 10]\n",
      "(3000, 20)\n",
      "(3000, 20)\n",
      "(3000, 20)\n",
      "(3000, 20):============================>                           (5 + 5) / 10]\n",
      "(3000, 20)\n",
      "(3000, 20):=================================>                      (6 + 4) / 10]\n",
      "(3000, 20)\n",
      "(3000, 20)\n",
      "(3000, 20)\n",
      "(3000, 20):=======================================>                (7 + 3) / 10]\n",
      "(3000, 20):============================================>           (8 + 2) / 10]\n",
      "[Stage 209:==================================================>     (9 + 1) / 10]\r"
     ]
    },
    {
     "name": "stdout",
     "output_type": "stream",
     "text": [
      "best_score : 0.021333333333333333\n",
      "14.049736738204956\n"
     ]
    },
    {
     "name": "stderr",
     "output_type": "stream",
     "text": [
      "(3000, 20)\n",
      "\r",
      "                                                                                \r"
     ]
    },
    {
     "data": {
      "text/plain": [
       "[5, 29, 15, 23, 18, 24, 36, 34, 16, 12, 37, 33, 19, 32, 20, 35, 21, 27, 13, 26]"
      ]
     },
     "execution_count": 18,
     "metadata": {},
     "output_type": "execute_result"
    }
   ],
   "source": [
    "X_np_split = X_np[:10000]\n",
    "t_X_split = np.transpose(X_np_split)\n",
    "n_total_features_split = t_X_split.shape[0]\n",
    "# we want the nb partition to be between 2 or 3 times more than the number of core in our computer\n",
    "Nb_partition=10\n",
    "X_RDD_split = sc.parallelize(t_X_split,Nb_partition)\n",
    "\n",
    "Y_numpy_split = Y_numpy[:10000]\n",
    "broadcast_Y = sc.broadcast(Y_numpy_split)\n",
    "\n",
    "selected_features_indices_forward, execution_time_forward = forward_feature_selection(n_total_features_split, 20, sc,X_RDD_split)\n",
    "selected_features_indices_forward"
   ]
  },
  {
   "cell_type": "code",
   "execution_count": 13,
   "id": "864e2f7c",
   "metadata": {
    "scrolled": true
   },
   "outputs": [],
   "source": [
    "def forward_feature_selection_diff(n_total_features, inc_accuracy, sc, X_RDD):\n",
    "    \"\"\"\n",
    "    n_total_features : number of total features\n",
    "    inc_accuracy : increase of accuracy needed to continue the algorithm\n",
    "    sc : spark context\n",
    "    X_RDD : RDD of the variable X\n",
    "    Y: Output data\n",
    "    \n",
    "    return the indice of selected features and time execution\n",
    "    by using a decision tree as model to calculate the score\n",
    "    \"\"\"\n",
    "    time_execution = []\n",
    "    \n",
    "    remaining_features_indices = list(range(n_total_features))\n",
    "    selected_features_indices = []\n",
    "    \n",
    "    last_best_score = 0\n",
    "    diff_accuracy = 1\n",
    "    k = 0\n",
    "    while diff_accuracy > inc_accuracy:\n",
    "        print(\"Step: \"+str(k))\n",
    "    \n",
    "        start_time=time.time()\n",
    "\n",
    "        # Get the subset of selected features values, and cast as an array\n",
    "        selected_features = X_RDD.zipWithIndex().filter(lambda x: x[1] in selected_features_indices).map(lambda x: x[0]).collect()\n",
    "        selected_features = np.array(selected_features)\n",
    "        \n",
    "    \n",
    "        #  scores for a certain model are computed by first filtering `t_X` to remove already selected features, and then mapping \n",
    "        # each remaining feature using the `fit_get_score` function\n",
    "        scores = X_RDD.zipWithIndex().filter(lambda x: x[1] in remaining_features_indices).map(lambda x:fit_get_score(x[0],selected_features)).collect()\n",
    "    \n",
    "        # Once all scores are computed, the index of the feature with the highest value is chosen\n",
    "        scores = np.array(scores)\n",
    "        \n",
    "        # compute the difference between last result and new result\n",
    "        best_score = np.max(scores)\n",
    "        diff_accuracy = best_score - last_best_score\n",
    "        \n",
    "        \n",
    "        print(\"best_accuracy:\", best_score)\n",
    "        \n",
    "        if best_score > last_best_score:\n",
    "        \n",
    "            index_max_score_features = np.argmax(scores)\n",
    "    \n",
    "            selected_features_indices.append(remaining_features_indices[index_max_score_features])\n",
    "    \n",
    "            del(remaining_features_indices[index_max_score_features])\n",
    "        \n",
    "        last_best_score = best_score\n",
    "        print(time.time()-start_time)\n",
    "        time_execution.append(time.time()-start_time)\n",
    "        \n",
    "        k += 1\n",
    "        \n",
    "    return selected_features_indices, time_execution"
   ]
  },
  {
   "cell_type": "code",
   "execution_count": 16,
   "id": "410f759e",
   "metadata": {},
   "outputs": [
    {
     "name": "stdout",
     "output_type": "stream",
     "text": [
      "Step: 0\n"
     ]
    },
    {
     "name": "stderr",
     "output_type": "stream",
     "text": [
      "(3000, 1):>                                                        (0 + 8) / 10]\n",
      "(3000, 1)\n",
      "(3000, 1)\n",
      "(3000, 1)\n",
      "(3000, 1)\n",
      "(3000, 1)\n",
      "(3000, 1)\n",
      "(3000, 1)\n",
      "(3000, 1)\n",
      "(3000, 1)\n",
      "(3000, 1)\n",
      "(3000, 1)\n",
      "(3000, 1)\n",
      "(3000, 1)\n",
      "(3000, 1)\n",
      "(3000, 1):=================>                                       (3 + 7) / 10]\n",
      "(3000, 1)\n",
      "(3000, 1)\n",
      "(3000, 1)\n",
      "(3000, 1)\n",
      "(3000, 1)\n",
      "(3000, 1)\n",
      "(3000, 1)\n",
      "(3000, 1):======================>                                  (4 + 6) / 10]\n",
      "(3000, 1)\n",
      "(3000, 1):============================>                            (5 + 5) / 10]\n",
      "(3000, 1)\n",
      "(3000, 1)\n",
      "(3000, 1):==================================>                      (6 + 4) / 10]\n",
      "(3000, 1)\n",
      "(3000, 1)\n",
      "(3000, 1)\n",
      "(3000, 1)\n",
      "(3000, 1)\n",
      "(3000, 1):=======================================>                 (7 + 3) / 10]\n",
      "(3000, 1):=============================================>           (8 + 2) / 10]\n",
      "(3000, 1):===================================================>     (9 + 1) / 10]\n",
      "(3000, 1)\n",
      "                                                                                \r"
     ]
    },
    {
     "name": "stdout",
     "output_type": "stream",
     "text": [
      "best_accuracy: 0.01633333333333333\n",
      "6.362556457519531\n",
      "Step: 1\n"
     ]
    },
    {
     "name": "stderr",
     "output_type": "stream",
     "text": [
      "(3000, 2):>                                                        (0 + 8) / 10]\n",
      "(3000, 2)\n",
      "(3000, 2)\n",
      "(3000, 2)\n",
      "(3000, 2)\n",
      "(3000, 2)\n",
      "(3000, 2)\n",
      "(3000, 2)\n",
      "(3000, 2)\n",
      "(3000, 2)\n",
      "(3000, 2)\n",
      "(3000, 2)\n",
      "(3000, 2)\n",
      "(3000, 2):=====>                                                   (1 + 8) / 10]\n",
      "(3000, 2)\n",
      "(3000, 2)\n",
      "(3000, 2)\n",
      "(3000, 2):===========>                                             (2 + 8) / 10]\n",
      "(3000, 2)\n",
      "(3000, 2):======================>                                  (4 + 6) / 10]\n",
      "(3000, 2)\n",
      "(3000, 2)\n",
      "(3000, 2):============================>                            (5 + 5) / 10]\n",
      "(3000, 2)\n",
      "(3000, 2)\n",
      "(3000, 2)\n",
      "(3000, 2)\n",
      "(3000, 2)\n",
      "(3000, 2):==================================>                      (6 + 4) / 10]\n",
      "(3000, 2)\n",
      "(3000, 2)\n",
      "(3000, 2)\n",
      "(3000, 2):=======================================>                 (7 + 3) / 10]\n",
      "(3000, 2)\n",
      "(3000, 2)\n",
      "(3000, 2):===================================================>     (9 + 1) / 10]\n",
      "(3000, 2)\n",
      "                                                                                \r"
     ]
    },
    {
     "name": "stdout",
     "output_type": "stream",
     "text": [
      "best_accuracy: 0.021\n",
      "17.79098916053772\n",
      "Step: 2\n"
     ]
    },
    {
     "name": "stderr",
     "output_type": "stream",
     "text": [
      "(3000, 3):>                                                        (0 + 8) / 10]\n",
      "(3000, 3)\n",
      "(3000, 3)\n",
      "(3000, 3)\n",
      "(3000, 3)\n",
      "(3000, 3)\n",
      "(3000, 3)\n",
      "(3000, 3)\n",
      "(3000, 3)\n",
      "(3000, 3)\n",
      "(3000, 3)\n",
      "(3000, 3)\n",
      "(3000, 3)\n",
      "(3000, 3):=====>                                                   (1 + 8) / 10]\n",
      "(3000, 3):===========>                                             (2 + 8) / 10]\n",
      "(3000, 3)\n",
      "(3000, 3)\n",
      "(3000, 3):=================>                                       (3 + 7) / 10]\n",
      "(3000, 3)\n",
      "(3000, 3)\n",
      "(3000, 3):======================>                                  (4 + 6) / 10]\n",
      "(3000, 3)\n",
      "(3000, 3):============================>                            (5 + 5) / 10]\n",
      "(3000, 3)\n",
      "(3000, 3)\n",
      "(3000, 3)\n",
      "(3000, 3)\n",
      "(3000, 3)\n",
      "(3000, 3)\n",
      "(3000, 3)\n",
      "(3000, 3):==================================>                      (6 + 4) / 10]\n",
      "(3000, 3)\n",
      "(3000, 3):=======================================>                 (7 + 3) / 10]\n",
      "(3000, 3)\n",
      "(3000, 3):===================================================>     (9 + 1) / 10]\n"
     ]
    },
    {
     "name": "stdout",
     "output_type": "stream",
     "text": [
      "best_accuracy: 0.021333333333333333\n",
      "16.75369882583618\n"
     ]
    },
    {
     "name": "stderr",
     "output_type": "stream",
     "text": [
      "(3000, 3)\n",
      "\r",
      "                                                                                \r"
     ]
    },
    {
     "data": {
      "text/plain": [
       "[5, 29, 15]"
      ]
     },
     "execution_count": 16,
     "metadata": {},
     "output_type": "execute_result"
    }
   ],
   "source": [
    "selected_features_indices_forward_diff, execution_time_forward_diff = forward_feature_selection_diff(n_total_features, 0.001, sc,X_RDD_split)\n",
    "selected_features_indices_forward_diff"
   ]
  },
  {
   "cell_type": "code",
   "execution_count": 15,
   "id": "cc1567b2",
   "metadata": {},
   "outputs": [],
   "source": [
    "#spark.stop()"
   ]
  },
  {
   "cell_type": "code",
   "execution_count": null,
   "id": "68a1d6b7",
   "metadata": {},
   "outputs": [],
   "source": []
  }
 ],
 "metadata": {
  "kernelspec": {
   "display_name": "Python 3 (ipykernel)",
   "language": "python",
   "name": "python3"
  },
  "language_info": {
   "codemirror_mode": {
    "name": "ipython",
    "version": 3
   },
   "file_extension": ".py",
   "mimetype": "text/x-python",
   "name": "python",
   "nbconvert_exporter": "python",
   "pygments_lexer": "ipython3",
   "version": "3.10.4"
  }
 },
 "nbformat": 4,
 "nbformat_minor": 5
}
