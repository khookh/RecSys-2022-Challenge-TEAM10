{
 "cells": [
  {
   "cell_type": "markdown",
   "id": "a049691e-9322-422f-98e4-e1b82b33e195",
   "metadata": {},
   "source": [
    "# Data preprocessing and Feature Engineering\n",
    "\n",
    "In order to obtain a learnable dataset, features must be preprocessed and engineered in order to contain valuable learning data. This notebook will generate a PySpark RDD that contains the preprocessed dataset, ready for feature selection algorithms.\n",
    "\n",
    "More than 20 features must be engineered, some ideas are:\n",
    "\n",
    "Session-time related features:\n",
    "* Weekday of the session\n",
    "* Month of the session\n",
    "* Season of the session\n",
    "* Duration of the session\n",
    "* Day period of the session\n",
    "\n",
    "Session-item related features:\n",
    "* Item with the most time spent on.\n",
    "* Mean time per item.\n",
    "* Variance time per item.\n",
    "* Item revisit?"
   ]
  },
  {
   "cell_type": "markdown",
   "id": "e36eea6d-07a5-4b56-b4d3-b153c90982f4",
   "metadata": {},
   "source": [
    "### Starting the Spark engine and loading the dataset."
   ]
  },
  {
   "cell_type": "code",
   "execution_count": 1,
   "id": "2721be9d-0016-4ce9-804f-acf0bd760e2a",
   "metadata": {},
   "outputs": [
    {
     "name": "stderr",
     "output_type": "stream",
     "text": [
      "Using Spark's default log4j profile: org/apache/spark/log4j-defaults.properties\n",
      "Setting default log level to \"WARN\".\n",
      "To adjust logging level use sc.setLogLevel(newLevel). For SparkR, use setLogLevel(newLevel).\n",
      "22/05/10 11:50:32 WARN NativeCodeLoader: Unable to load native-hadoop library for your platform... using builtin-java classes where applicable\n"
     ]
    }
   ],
   "source": [
    "import os \n",
    "import warnings\n",
    "warnings.filterwarnings('ignore')\n",
    "import pandas as pd\n",
    "\n",
    "# launch this cell if you have issues on windows with py4j (think about updating your PATH)\n",
    "import sys\n",
    "os.environ['PYSPARK_DRIVER_PYTHON_OPTS']= \"notebook\"\n",
    "os.environ['PYSPARK_DRIVER_PYTHON'] = sys.executable\n",
    "os.environ['PYSPARK_PYTHON'] = sys.executable\n",
    "\n",
    "# starts a spark session from notebook\n",
    "\n",
    "os.environ['PYSPARK_SUBMIT_ARGS'] =\"--conf spark.driver.memory=2g  pyspark-shell\"\n",
    "from pyspark.sql import SparkSession\n",
    "\n",
    "spark = SparkSession \\\n",
    "    .builder \\\n",
    "    .master(\"local[*]\") \\\n",
    "    .appName(\"load_explore\") \\\n",
    "    .getOrCreate()"
   ]
  },
  {
   "cell_type": "code",
   "execution_count": 2,
   "id": "4c7745e6-e461-493c-99d6-e7607bcb4766",
   "metadata": {},
   "outputs": [
    {
     "name": "stderr",
     "output_type": "stream",
     "text": [
      "                                                                                \r"
     ]
    }
   ],
   "source": [
    "# loads relevant datas in DataFrames\n",
    "train_sessions = spark.read.load('../Data/train_sessions.csv', \n",
    "                          format='com.databricks.spark.csv', \n",
    "                          header='true', \n",
    "                          inferSchema='true')\n",
    "\n",
    "train_purchases = spark.read.load('../Data/train_purchases.csv', \n",
    "                          format='com.databricks.spark.csv', \n",
    "                          header='true', \n",
    "                          inferSchema='true')\n",
    "\n",
    "candidate_items = spark.read.load('../Data/candidate_items.csv', \n",
    "                          format='com.databricks.spark.csv', \n",
    "                          header='true', \n",
    "                          inferSchema='true')\n",
    "\n",
    "item_features = spark.read.load('../Data/item_features.csv', \n",
    "                          format='com.databricks.spark.csv', \n",
    "                          header='true', \n",
    "                          inferSchema='true')\n",
    "\n",
    "datas = [train_sessions, train_purchases, candidate_items, item_features]"
   ]
  },
  {
   "cell_type": "markdown",
   "id": "56cd4315-5708-4a38-a8de-43c26e158c86",
   "metadata": {},
   "source": [
    "## Group sessions and aggregate their duration.\n",
    "\n",
    "Using a map reduce operation, we will start by computing the session duration in seconds. For that, we use a function that will convert the timestamp into seconds since the 1st January 1970 (UNIX time)."
   ]
  },
  {
   "cell_type": "code",
   "execution_count": 3,
   "id": "e4f44f8d-6e1a-4fb4-b42c-74275791eddd",
   "metadata": {},
   "outputs": [],
   "source": [
    "import datetime\n",
    "\n",
    "def timestamp_to_unix(timestamp: str) -> int:\n",
    "    '''Converts the timestamp, on a string format to the UNIX time\n",
    "    '''\n",
    "    try:\n",
    "        date = datetime.datetime.strptime(timestamp, '%Y-%m-%d %H:%M:%S.%f')\n",
    "    except ValueError:\n",
    "        date = datetime.datetime.strptime(timestamp, '%Y-%m-%d %H:%M:%S')\n",
    "    return int(date.timestamp())\n",
    "\n",
    "mapped_sessions = train_sessions.rdd.map(lambda x: (x.session_id, timestamp_to_unix(x.date))) \n",
    "sampled_sessions = mapped_sessions.sample(False, 0.0001, seed=42)"
   ]
  },
  {
   "cell_type": "code",
   "execution_count": 4,
   "id": "2bd56975-6178-4d9f-9435-0e5a98acb937",
   "metadata": {},
   "outputs": [
    {
     "name": "stderr",
     "output_type": "stream",
     "text": [
      "                                                                                \r"
     ]
    },
    {
     "data": {
      "text/plain": [
       "[(4163, 1606579200)]"
      ]
     },
     "execution_count": 4,
     "metadata": {},
     "output_type": "execute_result"
    }
   ],
   "source": [
    "sampled_sessions.take(1)"
   ]
  },
  {
   "cell_type": "code",
   "execution_count": 6,
   "id": "d683158d-65b2-48a6-b0c9-73b92f0cb651",
   "metadata": {},
   "outputs": [
    {
     "name": "stderr",
     "output_type": "stream",
     "text": [
      "                                                                                \r"
     ]
    },
    {
     "data": {
      "text/plain": [
       "[(24, (1582741472, 1582737768))]"
      ]
     },
     "execution_count": 6,
     "metadata": {},
     "output_type": "execute_result"
    }
   ],
   "source": [
    "def reduce_min_max(x, y):\n",
    "    if type(x) == tuple:\n",
    "        return(max(x[0], y), min(x[1], y))\n",
    "    return (max(x, y), min(x, y))\n",
    "\n",
    "reduced_sessions = mapped_sessions.reduceByKey(lambda x, y: reduce_min_max(x, y))\n",
    "reduced_sessions.take(1)"
   ]
  },
  {
   "cell_type": "code",
   "execution_count": 20,
   "id": "08a2288e-033e-40f4-9eca-892a4483b1e2",
   "metadata": {},
   "outputs": [],
   "source": [
    "def get_duration_seconds(tupl):\n",
    "    if type(tupl[1]) is int:\n",
    "        return (tupl[0], 0)\n",
    "    else:\n",
    "        return (tupl[0], tupl[1][0] - tupl[1][1])\n",
    "\n",
    "time_sessions = reduced_sessions.map(lambda x: get_duration_seconds(x))"
   ]
  },
  {
   "cell_type": "code",
   "execution_count": 21,
   "id": "def67b3e-2982-4bab-a2ac-f45c903af30b",
   "metadata": {},
   "outputs": [
    {
     "data": {
      "text/plain": [
       "[(24, 3704),\n",
       " (28, 87),\n",
       " (36, 43),\n",
       " (44, 33),\n",
       " (48, 657),\n",
       " (52, 38),\n",
       " (108, 1473),\n",
       " (124, 0),\n",
       " (140, 173),\n",
       " (156, 0),\n",
       " (184, 0),\n",
       " (188, 0),\n",
       " (208, 0),\n",
       " (232, 0),\n",
       " (248, 1716),\n",
       " (324, 28),\n",
       " (332, 21),\n",
       " (340, 268),\n",
       " (352, 190),\n",
       " (376, 171),\n",
       " (380, 30396),\n",
       " (384, 409),\n",
       " (388, 0),\n",
       " (412, 920),\n",
       " (428, 567),\n",
       " (464, 0),\n",
       " (480, 393),\n",
       " (496, 394),\n",
       " (508, 296),\n",
       " (512, 964),\n",
       " (540, 1487),\n",
       " (544, 2320),\n",
       " (556, 309),\n",
       " (564, 0),\n",
       " (592, 524),\n",
       " (632, 20),\n",
       " (656, 0),\n",
       " (688, 183),\n",
       " (696, 27),\n",
       " (712, 97),\n",
       " (720, 23944),\n",
       " (756, 0),\n",
       " (808, 1233),\n",
       " (824, 0),\n",
       " (832, 10388),\n",
       " (844, 45),\n",
       " (864, 0),\n",
       " (884, 251),\n",
       " (896, 147),\n",
       " (900, 40085)]"
      ]
     },
     "execution_count": 21,
     "metadata": {},
     "output_type": "execute_result"
    }
   ],
   "source": [
    "time_sessions.take(50)"
   ]
  },
  {
   "cell_type": "code",
   "execution_count": null,
   "id": "1a574a24-48c5-4514-a5aa-30d3c28c939c",
   "metadata": {},
   "outputs": [],
   "source": []
  }
 ],
 "metadata": {
  "kernelspec": {
   "display_name": "Python 3 (ipykernel)",
   "language": "python",
   "name": "python3"
  },
  "language_info": {
   "codemirror_mode": {
    "name": "ipython",
    "version": 3
   },
   "file_extension": ".py",
   "mimetype": "text/x-python",
   "name": "python",
   "nbconvert_exporter": "python",
   "pygments_lexer": "ipython3",
   "version": "3.9.7"
  }
 },
 "nbformat": 4,
 "nbformat_minor": 5
}
