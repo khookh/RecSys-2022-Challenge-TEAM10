{
 "cells": [
  {
   "cell_type": "markdown",
   "id": "a049691e-9322-422f-98e4-e1b82b33e195",
   "metadata": {},
   "source": [
    "# Data preprocessing and Feature Engineering\n",
    "\n",
    "In order to obtain a learnable dataset, features must be preprocessed and engineered in order to contain valuable learning data. This notebook will generate a PySpark RDD that contains the preprocessed dataset, ready for feature selection algorithms.\n",
    "\n",
    "More than 20 features must be engineered, some ideas are:\n",
    "\n",
    "Session-time related features:\n",
    "* Weekday of the session\n",
    "* Month of the session\n",
    "* Season of the session\n",
    "* Duration of the session\n",
    "* Day period of the session\n",
    "\n",
    "Session-item related features:\n",
    "* Item with the most time spent on.\n",
    "* Mean time per item.\n",
    "* Variance time per item.\n",
    "* Item revisit?"
   ]
  },
  {
   "cell_type": "markdown",
   "id": "e36eea6d-07a5-4b56-b4d3-b153c90982f4",
   "metadata": {},
   "source": [
    "### Starting the Spark engine and loading the dataset."
   ]
  },
  {
   "cell_type": "code",
   "execution_count": 1,
   "id": "2721be9d-0016-4ce9-804f-acf0bd760e2a",
   "metadata": {},
   "outputs": [
    {
     "name": "stderr",
     "output_type": "stream",
     "text": [
      "Using Spark's default log4j profile: org/apache/spark/log4j-defaults.properties\n",
      "Setting default log level to \"WARN\".\n",
      "To adjust logging level use sc.setLogLevel(newLevel). For SparkR, use setLogLevel(newLevel).\n",
      "22/05/10 12:59:07 WARN NativeCodeLoader: Unable to load native-hadoop library for your platform... using builtin-java classes where applicable\n"
     ]
    }
   ],
   "source": [
    "import os \n",
    "import warnings\n",
    "warnings.filterwarnings('ignore')\n",
    "import pandas as pd\n",
    "\n",
    "# launch this cell if you have issues on windows with py4j (think about updating your PATH)\n",
    "import sys\n",
    "os.environ['PYSPARK_DRIVER_PYTHON_OPTS']= \"notebook\"\n",
    "os.environ['PYSPARK_DRIVER_PYTHON'] = sys.executable\n",
    "os.environ['PYSPARK_PYTHON'] = sys.executable\n",
    "\n",
    "# starts a spark session from notebook\n",
    "\n",
    "os.environ['PYSPARK_SUBMIT_ARGS'] =\"--conf spark.driver.memory=4g  pyspark-shell\"\n",
    "from pyspark.sql import SparkSession\n",
    "\n",
    "spark = SparkSession \\\n",
    "    .builder \\\n",
    "    .master(\"local[*]\") \\\n",
    "    .appName(\"load_explore\") \\\n",
    "    .getOrCreate()"
   ]
  },
  {
   "cell_type": "code",
   "execution_count": 2,
   "id": "4c7745e6-e461-493c-99d6-e7607bcb4766",
   "metadata": {},
   "outputs": [
    {
     "name": "stderr",
     "output_type": "stream",
     "text": [
      "                                                                                \r"
     ]
    }
   ],
   "source": [
    "# loads relevant datas in DataFrames\n",
    "train_sessions = spark.read.load('../Data/train_sessions.csv', \n",
    "                          format='com.databricks.spark.csv', \n",
    "                          header='true', \n",
    "                          inferSchema='true')\n",
    "\n",
    "train_purchases = spark.read.load('../Data/train_purchases.csv', \n",
    "                          format='com.databricks.spark.csv', \n",
    "                          header='true', \n",
    "                          inferSchema='true')\n",
    "\n",
    "candidate_items = spark.read.load('../Data/candidate_items.csv', \n",
    "                          format='com.databricks.spark.csv', \n",
    "                          header='true', \n",
    "                          inferSchema='true')\n",
    "\n",
    "item_features = spark.read.load('../Data/item_features.csv', \n",
    "                          format='com.databricks.spark.csv', \n",
    "                          header='true', \n",
    "                          inferSchema='true')\n",
    "\n",
    "datas = [train_sessions, train_purchases, candidate_items, item_features]"
   ]
  },
  {
   "cell_type": "markdown",
   "id": "56cd4315-5708-4a38-a8de-43c26e158c86",
   "metadata": {},
   "source": [
    "## Group sessions and aggregate their duration.\n",
    "\n",
    "Using a map reduce operation, we will start by computing the session duration in seconds. For that, we use a function that will convert the timestamp into seconds since the 1st January 1970 (UNIX time)."
   ]
  },
  {
   "cell_type": "code",
   "execution_count": 3,
   "id": "e4f44f8d-6e1a-4fb4-b42c-74275791eddd",
   "metadata": {},
   "outputs": [],
   "source": [
    "import datetime\n",
    "\n",
    "def timestamp_to_unix(timestamp: str) -> int:\n",
    "    '''Converts the timestamp, on a string format to the UNIX time\n",
    "    '''\n",
    "    try:\n",
    "        date = datetime.datetime.strptime(timestamp, '%Y-%m-%d %H:%M:%S.%f')\n",
    "    except ValueError:\n",
    "        date = datetime.datetime.strptime(timestamp, '%Y-%m-%d %H:%M:%S')\n",
    "    return int(date.timestamp())\n",
    "\n",
    "posix_date_mapped_sessions = train_sessions.rdd.map(lambda x: (x.session_id, timestamp_to_unix(x.date))).cache()\n",
    "sampled_sessions = posix_date_mapped_sessions.sample(False, 0.0001, seed=42)"
   ]
  },
  {
   "cell_type": "code",
   "execution_count": 4,
   "id": "2bd56975-6178-4d9f-9435-0e5a98acb937",
   "metadata": {},
   "outputs": [
    {
     "name": "stderr",
     "output_type": "stream",
     "text": [
      "22/05/10 12:59:27 WARN BlockManager: Task 23 already completed, not releasing lock for rdd_45_0\n",
      "                                                                                \r"
     ]
    },
    {
     "data": {
      "text/plain": [
       "[(4163, 1606579200)]"
      ]
     },
     "execution_count": 4,
     "metadata": {},
     "output_type": "execute_result"
    }
   ],
   "source": [
    "sampled_sessions.take(1)"
   ]
  },
  {
   "cell_type": "code",
   "execution_count": 5,
   "id": "d683158d-65b2-48a6-b0c9-73b92f0cb651",
   "metadata": {},
   "outputs": [
    {
     "name": "stderr",
     "output_type": "stream",
     "text": [
      "                                                                                \r"
     ]
    },
    {
     "data": {
      "text/plain": [
       "[(24, (1582741472, 1582737768))]"
      ]
     },
     "execution_count": 5,
     "metadata": {},
     "output_type": "execute_result"
    }
   ],
   "source": [
    "def reduce_min_max(x, y):\n",
    "    if type(x) == tuple:\n",
    "        return(max(x[0], y), min(x[1], y))\n",
    "    return (max(x, y), min(x, y))\n",
    "\n",
    "reduced_sessions = posix_date_mapped_sessions.reduceByKey(lambda x, y: reduce_min_max(x, y))\n",
    "reduced_sessions.take(1)"
   ]
  },
  {
   "cell_type": "code",
   "execution_count": 6,
   "id": "08a2288e-033e-40f4-9eca-892a4483b1e2",
   "metadata": {},
   "outputs": [],
   "source": [
    "def get_duration_seconds(tupl):\n",
    "    if type(tupl[1]) is int:\n",
    "        return (tupl[0], 0)\n",
    "    else:\n",
    "        return (tupl[0], tupl[1][0] - tupl[1][1])\n",
    "\n",
    "time_sessions = reduced_sessions.map(lambda x: get_duration_seconds(x))"
   ]
  },
  {
   "cell_type": "code",
   "execution_count": 7,
   "id": "def67b3e-2982-4bab-a2ac-f45c903af30b",
   "metadata": {},
   "outputs": [
    {
     "data": {
      "text/plain": [
       "[(24, 3704),\n",
       " (48, 657),\n",
       " (184, 0),\n",
       " (208, 0),\n",
       " (232, 0),\n",
       " (248, 1716),\n",
       " (352, 190),\n",
       " (376, 171),\n",
       " (384, 409),\n",
       " (464, 0)]"
      ]
     },
     "execution_count": 7,
     "metadata": {},
     "output_type": "execute_result"
    }
   ],
   "source": [
    "time_sessions.take(10)"
   ]
  },
  {
   "cell_type": "markdown",
   "id": "af9fe22f-e748-43d8-8621-6f3043cc4a12",
   "metadata": {},
   "source": [
    "We cannot compute the sessions that only show one item, so we set the session duration to 0"
   ]
  },
  {
   "cell_type": "markdown",
   "id": "50e9f97c-7b41-4f90-84f4-cf187e3bc978",
   "metadata": {},
   "source": [
    "## Group sessions and aggregate the number of unique AND total viewed items\n",
    "\n",
    "We compute how much unique and total items have been viewed during a session"
   ]
  },
  {
   "cell_type": "code",
   "execution_count": 8,
   "id": "544e51f8-31da-46c4-ae6d-f2052c56d0e6",
   "metadata": {},
   "outputs": [
    {
     "name": "stderr",
     "output_type": "stream",
     "text": [
      "                                                                                \r"
     ]
    },
    {
     "data": {
      "text/plain": [
       "[(24, 8),\n",
       " (48, 2),\n",
       " (184, 1),\n",
       " (208, 1),\n",
       " (232, 1),\n",
       " (248, 10),\n",
       " (352, 2),\n",
       " (376, 4),\n",
       " (384, 10),\n",
       " (464, 1)]"
      ]
     },
     "execution_count": 8,
     "metadata": {},
     "output_type": "execute_result"
    }
   ],
   "source": [
    "item_mapped_sessions = train_sessions.rdd.map(lambda x: (x.session_id, x.item_id)).cache()\n",
    "uniquely_viewed_items = item_mapped_sessions.groupByKey().mapValues(lambda vals: len(set(vals)))\n",
    "\n",
    "uniquely_viewed_items.take(10)"
   ]
  },
  {
   "cell_type": "code",
   "execution_count": 9,
   "id": "d9a28b6d-5fb3-45e4-9061-5bed3c0915f4",
   "metadata": {},
   "outputs": [
    {
     "name": "stderr",
     "output_type": "stream",
     "text": [
      "                                                                                \r"
     ]
    },
    {
     "data": {
      "text/plain": [
       "[(24, 9),\n",
       " (48, 2),\n",
       " (184, 1),\n",
       " (208, 1),\n",
       " (232, 1),\n",
       " (248, 15),\n",
       " (352, 2),\n",
       " (376, 5),\n",
       " (384, 10),\n",
       " (464, 1)]"
      ]
     },
     "execution_count": 9,
     "metadata": {},
     "output_type": "execute_result"
    }
   ],
   "source": [
    "total_viewed_items = item_mapped_sessions.groupByKey().mapValues(lambda vals: len(list(vals)))\n",
    "total_viewed_items.take(10)"
   ]
  },
  {
   "cell_type": "markdown",
   "id": "8c37070e-1e86-4f0d-884d-b1b8a50a3ea7",
   "metadata": {},
   "source": [
    "# Time period sessions evaluation\n",
    "\n",
    "We will map for each session its day in the week, if it is on weekend, the month, the season and the year."
   ]
  },
  {
   "cell_type": "code",
   "execution_count": 20,
   "id": "4f5ab17c-62a8-48de-a310-e49f810f3137",
   "metadata": {},
   "outputs": [],
   "source": [
    "# Computing the starting date for each session\n",
    "starting_date_sessions = train_sessions.rdd.map(lambda x: (x.session_id, x.date)).reduceByKey(lambda x, y: min(x, y))"
   ]
  },
  {
   "cell_type": "code",
   "execution_count": 28,
   "id": "985275e6-7cf8-466a-8b61-319f7b4a5ae5",
   "metadata": {},
   "outputs": [
    {
     "data": {
      "text/plain": [
       "str"
      ]
     },
     "execution_count": 28,
     "metadata": {},
     "output_type": "execute_result"
    }
   ],
   "source": [
    "type(starting_date_sessions.take(1)[0])"
   ]
  },
  {
   "cell_type": "code",
   "execution_count": 32,
   "id": "f2390092-d0ee-4c68-87e6-91743011f72c",
   "metadata": {},
   "outputs": [
    {
     "data": {
      "text/plain": [
       "[(24, (4, 2, 1, 0, 2020)),\n",
       " (48, (4, 2, 3, 1, 2020)),\n",
       " (184, (0, 6, 3, 1, 2021)),\n",
       " (208, (2, 6, 11, 3, 2020)),\n",
       " (232, (3, 4, 8, 2, 2020)),\n",
       " (248, (3, 0, 11, 3, 2020)),\n",
       " (352, (4, 0, 5, 1, 2020)),\n",
       " (376, (2, 5, 0, 0, 2020)),\n",
       " (384, (2, 4, 11, 3, 2020)),\n",
       " (464, (2, 3, 5, 1, 2020))]"
      ]
     },
     "execution_count": 32,
     "metadata": {},
     "output_type": "execute_result"
    }
   ],
   "source": [
    "def parse_datetime(timestamp):\n",
    "    try:\n",
    "        return datetime.datetime.strptime(timestamp, '%Y-%m-%d %H:%M:%S.%f')\n",
    "    except ValueError:\n",
    "        return datetime.datetime.strptime(timestamp, '%Y-%m-%d %H:%M:%S')\n",
    "    \n",
    "\n",
    "def get_season(date_time):\n",
    "    season = (date_time.month - 1) // 3\n",
    "    season += (date_time.month == 3)&(date_time.day>=20)\n",
    "    season += (date_time.month == 6)&(date_time.day>=21)\n",
    "    season += (date_time.month == 9)&(date_time.day>=23)\n",
    "    season -= 3*int(((date_time.month == 12)&(date_time.day>=21)))\n",
    "    return season\n",
    "\n",
    "def get_day_period(date_time):\n",
    "    '''Converts the date_time into the day of the week.\n",
    "    \n",
    "    0 -> Morning (from 6am to 12am)\n",
    "    1 -> Afternoon (from 12am to 6pm)\n",
    "    2 -> Evening (from 6pm to 12pm)\n",
    "    3 -> Night (from 12pm to 6am)\n",
    "    '''\n",
    "    return date_time.hour // 4\n",
    "    \n",
    "def map_day_period(timestamp):\n",
    "    # Converts into datetime\n",
    "    date_time = parse_datetime(timestamp)\n",
    "    # Computes the season\n",
    "    season = get_season(date_time)\n",
    "    # Computes the \n",
    "    return (get_day_period(date_time), date_time.weekday(), date_time.month - 1, season, date_time.year)\n",
    "\n",
    "date_period_sessions = starting_date_sessions.map(lambda x: (x[0], map_day_period(x[1])))\n",
    "date_period_sessions.take(10)"
   ]
  },
  {
   "cell_type": "code",
   "execution_count": null,
   "id": "202269e2-b41a-4ae9-8c77-3d7d898cdf51",
   "metadata": {},
   "outputs": [],
   "source": []
  }
 ],
 "metadata": {
  "kernelspec": {
   "display_name": "Python 3 (ipykernel)",
   "language": "python",
   "name": "python3"
  },
  "language_info": {
   "codemirror_mode": {
    "name": "ipython",
    "version": 3
   },
   "file_extension": ".py",
   "mimetype": "text/x-python",
   "name": "python",
   "nbconvert_exporter": "python",
   "pygments_lexer": "ipython3",
   "version": "3.9.7"
  }
 },
 "nbformat": 4,
 "nbformat_minor": 5
}
