{
 "cells": [
  {
   "cell_type": "code",
   "execution_count": 9,
   "id": "a70e1a36-77d5-438d-b431-f871090c0153",
   "metadata": {},
   "outputs": [],
   "source": [
    "import os \n",
    "import warnings\n",
    "import time\n",
    "import numpy as np\n",
    "import scipy.stats\n",
    "import sys\n",
    "import sklearn\n",
    "import sklearn.datasets\n",
    "\n",
    "from pyspark.sql import SparkSession\n",
    "warnings.filterwarnings('ignore')\n",
    "import pandas as pd\n",
    "\n",
    "# launch this cell if you have issues on windows with py4j (think about updating your PATH)\n",
    "\n",
    "os.environ['PYSPARK_DRIVER_PYTHON_OPTS']= \"notebook\"\n",
    "os.environ['PYSPARK_DRIVER_PYTHON'] = sys.executable\n",
    "os.environ['PYSPARK_PYTHON'] = sys.executable\n",
    "\n",
    "# starts a spark session from notebook\n",
    "\n",
    "os.environ['PYSPARK_SUBMIT_ARGS'] =\"--conf spark.driver.memory=4g  pyspark-shell\"\n",
    "\n",
    "\n",
    "spark = SparkSession \\\n",
    "    .builder \\\n",
    "    .master(\"local[*]\") \\\n",
    "    .appName(\"feature_selection\") \\\n",
    "    .getOrCreate()\n",
    "\n",
    "sc=spark.sparkContext"
   ]
  },
  {
   "cell_type": "code",
   "execution_count": 10,
   "id": "362919ae-93d3-4df7-b3ff-46a1ae092e55",
   "metadata": {},
   "outputs": [
    {
     "name": "stderr",
     "output_type": "stream",
     "text": [
      "                                                                                \r"
     ]
    }
   ],
   "source": [
    "train_sessions_engineered = spark.read.csv('../Data/session_engineered_features.txt',header=False,\n",
    "                                          inferSchema=True)\n",
    "\n",
    "\n",
    "train_purchases = spark.read.load('../Data/train_purchases.csv', \n",
    "                          format='com.databricks.spark.csv', \n",
    "                          header='true', \n",
    "                          inferSchema='true')\n"
   ]
  },
  {
   "cell_type": "code",
   "execution_count": 3,
   "id": "2a131af4-fb02-4ca7-bebb-37ef32a87cfc",
   "metadata": {},
   "outputs": [
    {
     "data": {
      "text/plain": [
       "[Row(_c0=720, _c37=0.0, _c5=2021.0, _c1=23943.0, _c35=0.0, _c18=0.0, _c36=0.0, _c19=0.0, _c33=0.0, _c6=21890.0, _c34=0.0, _c17=0.0, _c32=0.0, _c22=0.0, _c20=0.0, _c29=0.0, _c27=0.0, _c31=0.0, _c15=0.0, _c24=0.0, _c14=0.0)]"
      ]
     },
     "execution_count": 3,
     "metadata": {},
     "output_type": "execute_result"
    }
   ],
   "source": [
    "selected_features_indices = [-1, 36, 4, 0, 34, 17, 35, 18, 32, 5, 33, 16, 31, 21, 19, 28, 26, 30, 14, 23, 13]\n",
    "columns_to_keep = []\n",
    "for elem in selected_features_indices:\n",
    "    columns_to_keep.append(train_sessions_engineered.columns[elem+1])\n",
    "train_sessions_engineered = train_sessions_engineered.select(columns_to_keep)\n",
    "train_sessions_engineered.take(1)"
   ]
  },
  {
   "cell_type": "code",
   "execution_count": 11,
   "id": "c6f9222b-2b29-4493-9d1e-34eaa2ce9ce0",
   "metadata": {},
   "outputs": [],
   "source": [
    "# join the dataframes on the session ids and drop useless columns\n",
    "train_df = train_sessions_engineered.join(train_purchases,train_sessions_engineered._c0 == train_purchases.session_id,\"inner\" )\n",
    "for col in ['_c0','session_id','date']:\n",
    "    train_df = train_df.drop(col)\n",
    "    \n"
   ]
  },
  {
   "cell_type": "code",
   "execution_count": 12,
   "id": "b8eda8da-012d-46f2-8bcf-2208e6fb62a1",
   "metadata": {},
   "outputs": [
    {
     "name": "stderr",
     "output_type": "stream",
     "text": [
      "[Stage 35:=============================>                            (2 + 2) / 4]\r"
     ]
    },
    {
     "name": "stdout",
     "output_type": "stream",
     "text": [
      "summary    count                   mean               stddev     min      max\n",
      "_c1      1000000             2249.79697   7537.1895505977045     0.0  86006.0\n",
      "_c2      1000000               1.388241   1.1001686853797183     0.0      3.0\n",
      "_c3      1000000               3.032616   1.3751400247080612     0.0      5.0\n",
      "_c4      1000000               6.078554    3.443764093052108     1.0     12.0\n",
      "_c5      1000000            2020.312907  0.46367706903339845  2020.0   2021.0\n",
      "_c6      1000000           13995.014149    8199.369861587444     3.0  28143.0\n",
      "_c7      1000000            2576.144313   7783.3387749604935     0.0  85551.0\n",
      "_c8      1000000      889.8452960704425    3567.530451927126     0.0  85551.0\n",
      "_c9      1000000      801.0423318404028   2756.8595655441545     0.0  42422.5\n",
      "_c10     1000000            3686.692673    7297.767575560808    -1.0  28143.0\n",
      "_c11     1000000              -0.016195     1.66395357228394    -1.0     97.0\n",
      "_c12     1000000               0.475118   1.1018965923588733     0.0     44.0\n",
      "_c13     1000000               4.101132   2.4413271551871727     0.0      9.0\n",
      "_c14     1000000     0.0290026358291774   0.1320290502142342     0.0      1.0\n",
      "_c15     1000000   0.011585973505647438  0.08261348029139327     0.0      1.0\n",
      "_c16     1000000    0.04861627706396868  0.17266237038379192     0.0      1.0\n",
      "_c17     1000000   0.008529956942670563   0.0726630091823346     0.0      1.0\n",
      "_c18     1000000   0.044255132963597565  0.15907812515464484     0.0      1.0\n",
      "_c19     1000000   0.013619714468899279  0.08758179642447554     0.0      1.0\n",
      "_c20     1000000   0.030150374854616007  0.15251079159216432     0.0      1.0\n",
      "_c21     1000000   0.047580731609478406  0.17378613146314986     0.0      1.0\n",
      "_c22     1000000  0.0025272853721160144  0.03744642848252764     0.0      1.0\n",
      "_c23     1000000    0.01985442913669177  0.12094458632581044     0.0      1.0\n",
      "_c24     1000000   0.014527597540114373  0.10041632159669535     0.0      1.0\n",
      "_c25     1000000     0.2956462449688019    0.412828756115923     0.0      1.0\n",
      "_c26     1000000   0.061922979219017835  0.18738352328259658     0.0      1.0\n",
      "_c27     1000000   0.005376196632656023  0.06227261994006097     0.0      1.0\n",
      "_c28     1000000    0.06849588497530172  0.22337912361223902     0.0      1.0\n",
      "_c29     1000000   0.012647503410032965   0.0939949727476008     0.0      1.0\n",
      "_c30     1000000    0.08330532181976873  0.23051325128537967     0.0      1.0\n",
      "_c31     1000000   0.011022700650742456  0.07850852551447576     0.0      1.0\n",
      "_c32     1000000   0.048584340795809776  0.17570446915892948     0.0      1.0\n",
      "_c33     1000000   0.010763430873874985  0.08957028061299799     0.0      1.0\n",
      "_c34     1000000   0.005114272281642043  0.05356523391951061     0.0      1.0\n",
      "_c35     1000000    0.02488403499212262  0.13538890440722454     0.0      1.0\n",
      "_c36     1000000  0.0028846159270775247  0.03860938238081514     0.0      1.0\n",
      "_c37     1000000                    0.0                  0.0     0.0      0.0\n",
      "_c38     1000000    0.09910236958020635  0.23944901859622544     0.0      1.0\n",
      "item_id  1000000           13978.825051    8187.993593462128       3    28143\n"
     ]
    },
    {
     "name": "stderr",
     "output_type": "stream",
     "text": [
      "22/05/26 07:57:56 WARN package: Truncated the string representation of a plan since it was too large. This behavior can be adjusted by setting 'spark.sql.debug.maxToStringFields'.\n"
     ]
    }
   ],
   "source": [
    "summary = train_df.describe().toPandas().set_index('summary').transpose()\n",
    "print(summary)\n",
    "\n",
    "dic_val = {}\n",
    "for i in range(1,39):\n",
    "    row = summary.iloc[i-1]\n",
    "    dic_val[i] = (float(row[1]),float(row[2]))"
   ]
  },
  {
   "cell_type": "code",
   "execution_count": 13,
   "id": "91ff8523-5959-4203-91eb-7eec97eda73c",
   "metadata": {},
   "outputs": [
    {
     "name": "stderr",
     "output_type": "stream",
     "text": [
      "[Stage 41:=============================>                            (2 + 2) / 4]\r"
     ]
    }
   ],
   "source": [
    "broadcast_clusters = sc.broadcast(dic_val)\n",
    "def standardize_column(row, br):\n",
    "    dic = br.value\n",
    "    temp = []\n",
    "    for i in range(1,39):\n",
    "        if i != 37:\n",
    "            elem = dic.get(i)\n",
    "            temp.append((row[i-1]-elem[0])/elem[1])\n",
    "        else:\n",
    "            temp.append(row[i-1])\n",
    "    temp.append(row[-1])\n",
    "    return tuple(temp)\n",
    "#print(standardize_column(train_df.take(1)[0], broadcast_clusters))\n",
    "train_df = train_df.rdd.map(lambda x: standardize_column(x,broadcast_clusters))"
   ]
  },
  {
   "cell_type": "code",
   "execution_count": 14,
   "id": "8907951f-4b37-4e3b-b868-306ddce3f570",
   "metadata": {},
   "outputs": [
    {
     "name": "stderr",
     "output_type": "stream",
     "text": [
      "                                                                                \r"
     ]
    },
    {
     "data": {
      "text/plain": [
       "(-0.29849282081828354,\n",
       " -1.2618437685497792,\n",
       " 0.7034803602675831,\n",
       " -0.8939503162284169,\n",
       " -0.6748382029162996,\n",
       " 0.20233089603288254,\n",
       " -0.3248148880700406,\n",
       " -0.23597424252277663,\n",
       " -0.29056334310677573,\n",
       " -0.5053179119254991,\n",
       " -0.5912454628464368,\n",
       " -0.4311820213391315,\n",
       " 0.7778015314192567,\n",
       " -0.21966859401106706,\n",
       " -0.14024313543965866,\n",
       " -0.28156845614887005,\n",
       " -0.11739063711586989,\n",
       " -0.27819747636939873,\n",
       " 11.262389284075562,\n",
       " -0.1976933864145327,\n",
       " -0.2737890026602472,\n",
       " -0.0674906920240801,\n",
       " -0.16416137125151084,\n",
       " -0.1446736676778695,\n",
       " -0.7161474112180884,\n",
       " -0.3304611746766584,\n",
       " -0.08633323341511491,\n",
       " -0.30663512269034976,\n",
       " -0.13455510481389857,\n",
       " -0.3613905983939951,\n",
       " -0.14040132047455203,\n",
       " -0.2765116961929063,\n",
       " -0.1201674350042513,\n",
       " -0.09547745631666549,\n",
       " -0.18379670846051085,\n",
       " -0.07471282235560649,\n",
       " 0.0,\n",
       " -0.4138766997718175,\n",
       " 18626)"
      ]
     },
     "execution_count": 14,
     "metadata": {},
     "output_type": "execute_result"
    }
   ],
   "source": [
    "train_df.take(1)[0]"
   ]
  },
  {
   "cell_type": "markdown",
   "id": "b85c969b-113e-4de8-86d5-83156617f48d",
   "metadata": {
    "tags": []
   },
   "source": [
    "# KNN"
   ]
  },
  {
   "cell_type": "code",
   "execution_count": 15,
   "id": "5009c893-a511-4881-aad9-9a4541c3c81f",
   "metadata": {},
   "outputs": [
    {
     "name": "stderr",
     "output_type": "stream",
     "text": [
      "                                                                                \r"
     ]
    },
    {
     "ename": "AttributeError",
     "evalue": "'list' object has no attribute 'flatMap'",
     "output_type": "error",
     "traceback": [
      "\u001b[0;31m---------------------------------------------------------------------------\u001b[0m",
      "\u001b[0;31mAttributeError\u001b[0m                            Traceback (most recent call last)",
      "\u001b[0;32m/tmp/ipykernel_74770/1024938073.py\u001b[0m in \u001b[0;36m<module>\u001b[0;34m\u001b[0m\n\u001b[1;32m     16\u001b[0m     \u001b[0mrow\u001b[0m \u001b[0;34m=\u001b[0m \u001b[0mtest_100\u001b[0m\u001b[0;34m[\u001b[0m\u001b[0mi\u001b[0m\u001b[0;34m]\u001b[0m\u001b[0;34m\u001b[0m\u001b[0;34m\u001b[0m\u001b[0m\n\u001b[1;32m     17\u001b[0m     \u001b[0mres\u001b[0m \u001b[0;34m=\u001b[0m \u001b[0mpred_knn\u001b[0m\u001b[0;34m(\u001b[0m\u001b[0mtraining_data\u001b[0m\u001b[0;34m,\u001b[0m\u001b[0mrow\u001b[0m\u001b[0;34m)\u001b[0m\u001b[0;34m.\u001b[0m\u001b[0mtake\u001b[0m\u001b[0;34m(\u001b[0m\u001b[0;36m100\u001b[0m\u001b[0;34m)\u001b[0m\u001b[0;34m\u001b[0m\u001b[0;34m\u001b[0m\u001b[0m\n\u001b[0;32m---> 18\u001b[0;31m     \u001b[0mprint\u001b[0m\u001b[0;34m(\u001b[0m\u001b[0mrow\u001b[0m\u001b[0;34m[\u001b[0m\u001b[0;34m-\u001b[0m\u001b[0;36m1\u001b[0m\u001b[0;34m]\u001b[0m \u001b[0;32min\u001b[0m \u001b[0mres\u001b[0m\u001b[0;34m.\u001b[0m\u001b[0mflatMap\u001b[0m\u001b[0;34m(\u001b[0m\u001b[0;32mlambda\u001b[0m \u001b[0mx\u001b[0m\u001b[0;34m:\u001b[0m \u001b[0mx\u001b[0m\u001b[0;34m[\u001b[0m\u001b[0;36m1\u001b[0m\u001b[0;34m]\u001b[0m\u001b[0;34m)\u001b[0m\u001b[0;34m.\u001b[0m\u001b[0mcollect\u001b[0m\u001b[0;34m(\u001b[0m\u001b[0;34m)\u001b[0m\u001b[0;34m,\u001b[0m \u001b[0mrow\u001b[0m\u001b[0;34m[\u001b[0m\u001b[0;34m-\u001b[0m\u001b[0;36m1\u001b[0m\u001b[0;34m]\u001b[0m\u001b[0;34m)\u001b[0m\u001b[0;34m\u001b[0m\u001b[0;34m\u001b[0m\u001b[0m\n\u001b[0m\u001b[1;32m     19\u001b[0m \u001b[0;34m\u001b[0m\u001b[0m\n",
      "\u001b[0;31mAttributeError\u001b[0m: 'list' object has no attribute 'flatMap'"
     ]
    }
   ],
   "source": [
    "training_data, testing_data = train_df.randomSplit([0.8, 0.2])\n",
    "\n",
    "def distance_knn(x, input_row):\n",
    "    add = 0\n",
    "    for count, elem in enumerate(x) :\n",
    "        add += np.abs(elem-input_row[count])\n",
    "    return add\n",
    "\n",
    "def pred_knn(data,input_row):\n",
    "    distance_set = data.map(lambda x : (distance_knn(x[:-1], input_row),x[-1]))\n",
    "    sorted_set = distance_set.sortBy(lambda x: x[0], ascending=False)\n",
    "    return(sorted_set)\n",
    "\n",
    "test_100 = testing_data.take(100)\n",
    "for i in range(100):\n",
    "    row = test_100[i]\n",
    "    res = pred_knn(training_data,row).take(100)\n",
    "    print(row[-1] in res.flatMap(lambda x: x[1]).collect(), row[-1])\n",
    "    "
   ]
  },
  {
   "cell_type": "code",
   "execution_count": null,
   "id": "b1f29acf-6f44-43db-a470-66d85174fc58",
   "metadata": {},
   "outputs": [],
   "source": [
    "testing_data.take(1)[0][-1]"
   ]
  },
  {
   "cell_type": "code",
   "execution_count": null,
   "id": "bcfe6b95-06a5-41cd-a016-053d55a1f43f",
   "metadata": {},
   "outputs": [],
   "source": []
  }
 ],
 "metadata": {
  "kernelspec": {
   "display_name": "Python 3 (ipykernel)",
   "language": "python",
   "name": "python3"
  },
  "language_info": {
   "codemirror_mode": {
    "name": "ipython",
    "version": 3
   },
   "file_extension": ".py",
   "mimetype": "text/x-python",
   "name": "python",
   "nbconvert_exporter": "python",
   "pygments_lexer": "ipython3",
   "version": "3.9.7"
  }
 },
 "nbformat": 4,
 "nbformat_minor": 5
}
