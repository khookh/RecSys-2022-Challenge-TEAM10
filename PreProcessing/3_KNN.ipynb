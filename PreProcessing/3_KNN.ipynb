{
 "cells": [
  {
   "cell_type": "code",
   "execution_count": 1,
   "id": "a70e1a36-77d5-438d-b431-f871090c0153",
   "metadata": {},
   "outputs": [
    {
     "name": "stderr",
     "output_type": "stream",
     "text": [
      "Using Spark's default log4j profile: org/apache/spark/log4j-defaults.properties\n",
      "Setting default log level to \"WARN\".\n",
      "To adjust logging level use sc.setLogLevel(newLevel). For SparkR, use setLogLevel(newLevel).\n",
      "22/05/27 10:55:09 WARN NativeCodeLoader: Unable to load native-hadoop library for your platform... using builtin-java classes where applicable\n",
      "22/05/27 10:55:10 WARN Utils: Service 'SparkUI' could not bind on port 4040. Attempting port 4041.\n"
     ]
    }
   ],
   "source": [
    "import os \n",
    "import warnings\n",
    "import time\n",
    "import numpy as np\n",
    "import scipy.stats\n",
    "import sys\n",
    "import sklearn\n",
    "import sklearn.datasets\n",
    "\n",
    "from pyspark.sql import SparkSession\n",
    "warnings.filterwarnings('ignore')\n",
    "import pandas as pd\n",
    "\n",
    "# launch this cell if you have issues on windows with py4j (think about updating your PATH)\n",
    "\n",
    "os.environ['PYSPARK_DRIVER_PYTHON_OPTS']= \"notebook\"\n",
    "os.environ['PYSPARK_DRIVER_PYTHON'] = sys.executable\n",
    "os.environ['PYSPARK_PYTHON'] = sys.executable\n",
    "\n",
    "# starts a spark session from notebook\n",
    "\n",
    "os.environ['PYSPARK_SUBMIT_ARGS'] =\"--conf spark.driver.memory=4g  pyspark-shell\"\n",
    "\n",
    "\n",
    "spark = SparkSession \\\n",
    "    .builder \\\n",
    "    .master(\"local[*]\") \\\n",
    "    .appName(\"feature_selection\") \\\n",
    "    .getOrCreate()\n",
    "\n",
    "sc=spark.sparkContext"
   ]
  },
  {
   "cell_type": "code",
   "execution_count": 2,
   "id": "216d2e21-d692-4074-bfa5-c49ca1d68535",
   "metadata": {},
   "outputs": [
    {
     "name": "stderr",
     "output_type": "stream",
     "text": [
      "22/05/27 10:55:29 WARN package: Truncated the string representation of a plan since it was too large. This behavior can be adjusted by setting 'spark.sql.debug.maxToStringFields'.\n",
      "                                                                                \r"
     ]
    }
   ],
   "source": [
    "train_sessions_engineered = spark.read.load('../Data/session_engineered_features.csv', \n",
    "                          format='com.databricks.spark.csv', \n",
    "                          header='true', \n",
    "                          inferSchema='true').cache()\n",
    "columns_df = train_sessions_engineered.columns\n",
    "\n",
    "train_purchases = spark.read.load('../Data/train_purchases.csv', \n",
    "                          format='com.databricks.spark.csv', \n",
    "                          header='true', \n",
    "                          inferSchema='true')\n"
   ]
  },
  {
   "cell_type": "markdown",
   "id": "00160fb8-61fa-44fd-b968-753c902e6b7a",
   "metadata": {},
   "source": [
    "#### Data Normalization ([0,...,1])"
   ]
  },
  {
   "cell_type": "code",
   "execution_count": 3,
   "id": "b8eda8da-012d-46f2-8bcf-2208e6fb62a1",
   "metadata": {},
   "outputs": [
    {
     "name": "stderr",
     "output_type": "stream",
     "text": [
      "                                                                                \r"
     ]
    },
    {
     "name": "stdout",
     "output_type": "stream",
     "text": [
      "{1: (0.0, 86006.0), 7: (0.0, 85551.0), 13: (-1.0, 97.0), 10: (0.0, 85551.0), 14: (0.0, 44.0), 11: (0.0, 42422.5), 19: (0.0, 9.0), 20: (0.0, 1.0), 21: (0.0, 1.0), 22: (0.0, 1.0), 23: (0.0, 1.0), 24: (0.0, 1.0), 25: (0.0, 1.0), 26: (0.0, 1.0), 27: (0.0, 1.0), 28: (0.0, 1.0), 29: (0.0, 1.0), 30: (0.0, 1.0), 31: (0.0, 1.0), 32: (0.0, 1.0), 33: (0.0, 1.0), 34: (0.0, 1.0), 35: (0.0, 1.0), 36: (0.0, 1.0), 37: (0.0, 1.0), 38: (0.0, 1.0), 39: (0.0, 1.0), 40: (0.0, 1.0), 41: (0.0, 1.0), 42: (0.0, 1.0), 44: (0.0, 1.0)}\n"
     ]
    }
   ],
   "source": [
    "summary = train_sessions_engineered.describe().toPandas().set_index('summary').transpose()\n",
    "#print(summary)\n",
    "columns_to_normalize = ['session_time','most_time_spent_on_item','number_o_visit','mean_time','number_o_revisited_items','std_time']+[str(i) for i in range(1,25)]+['_45']\n",
    "dic_val = {}\n",
    "for elem in columns_to_normalize:\n",
    "    index = np.where(np.array(train_sessions_engineered.columns) == elem)[0][0]\n",
    "    row = summary.iloc[index]\n",
    "    dic_val[index] = (float(row[3]),float(row[4]))\n",
    "print(dic_val)"
   ]
  },
  {
   "cell_type": "code",
   "execution_count": 4,
   "id": "b72babbb-0354-4547-8517-8c5927d24f26",
   "metadata": {},
   "outputs": [
    {
     "name": "stdout",
     "output_type": "stream",
     "text": [
      "(28560.0, 0.003162570053252099, 3.0, 2.0, 8.0, 0.0, 5.0, 0.0008532921882853503, 28.0, 25.0, 0.0005552243690897827, 0.00047021861685854537, -1.0, 0.0, 0.0, 5.0, 23.0, 26.0, 5.0, 0.4444444444444444, 0.0, 0.0, 0.0, 0.0, 0.0, 0.0, 0.1666666716337204, 0.0, 0.0, 0.0, 0.0, 0.0, 0.0, 0.0, 0.0, 0.0, 0.0, 0.0, 0.8333333134651184, 0.0, 0.0, 0.0, 0.0, 0.0, 0.0)\n"
     ]
    },
    {
     "name": "stderr",
     "output_type": "stream",
     "text": [
      "                                                                                \r"
     ]
    }
   ],
   "source": [
    "broadcast_clusters = sc.broadcast(dic_val)\n",
    "def normalize_column(row, br):\n",
    "    dic = br.value\n",
    "    dickeys = dic.keys()\n",
    "    temp = []\n",
    "    for i in range(45):\n",
    "        if i in dic:\n",
    "            elem = dic.get(i)\n",
    "            temp.append((row[i]-elem[0])/elem[1])\n",
    "        else:\n",
    "            temp.append(row[i])\n",
    "    return tuple(temp)\n",
    "print(normalize_column(train_sessions_engineered.take(1)[0], broadcast_clusters))\n",
    "train_sessions_engineered = train_sessions_engineered.rdd.map(lambda x: normalize_column(x,broadcast_clusters)).toDF(columns_df)"
   ]
  },
  {
   "cell_type": "markdown",
   "id": "213c9d91-4e50-4769-9bda-8059b6d41f35",
   "metadata": {},
   "source": [
    "#### Keep only useful columns"
   ]
  },
  {
   "cell_type": "code",
   "execution_count": 5,
   "id": "d0106c6a-6a6a-4fdb-8161-25d29ce027fb",
   "metadata": {},
   "outputs": [
    {
     "name": "stdout",
     "output_type": "stream",
     "text": [
      "['session_id', 'session_time', 'season', 'year', 'std_time', 'most_frequently_bought_for_most_revisited', 'first_item_visited', 'last_item_visited', '1', '5', '8', '9', '10', '11', '15', '16', '18', '19', '21', '22', '24']\n"
     ]
    }
   ],
   "source": [
    "mrmr = [0, 1, 2, 5, 11, 15, 16, 17, 19, 23, 26, 27, 28, 29, 33, 34, 36, 37, 39, 40, 42]\n",
    "columns_to_keep = [train_sessions_engineered.columns[ind] for ind in mrmr] \n",
    "print(columns_to_keep)\n",
    "\n",
    "for col in train_sessions_engineered.columns:\n",
    "    if not col in columns_to_keep:\n",
    "        train_sessions_engineered = train_sessions_engineered.drop(col)"
   ]
  },
  {
   "cell_type": "code",
   "execution_count": 6,
   "id": "0dc752e6-1ed9-4ab2-9049-69f150350d37",
   "metadata": {},
   "outputs": [],
   "source": [
    "train_df = train_sessions_engineered.join(train_purchases,train_sessions_engineered.session_id == train_purchases.session_id,\"inner\" ).cache()\n",
    "for col in ['session_id','date']:\n",
    "    train_df = train_df.drop(col)"
   ]
  },
  {
   "cell_type": "code",
   "execution_count": 7,
   "id": "2f85cfaa-24da-4718-8480-9b9f4db75cf9",
   "metadata": {},
   "outputs": [
    {
     "name": "stderr",
     "output_type": "stream",
     "text": [
      "                                                                                \r"
     ]
    },
    {
     "data": {
      "text/plain": [
       "[Row(session_time=0.0045810757389019375, season=1.0, year=1.0, std_time=0.0010303404470445186, most_frequently_bought_for_most_revisited=5.0, first_item_visited=23.0, last_item_visited=23.0, 1=0.2222222222222222, 5=0.0, 8=0.0, 9=0.0, 10=0.0, 11=0.0, 15=0.0, 16=0.0, 18=0.0, 19=0.0, 21=0.0, 22=0.0, 24=0.0, item_id=1640)]"
      ]
     },
     "execution_count": 7,
     "metadata": {},
     "output_type": "execute_result"
    }
   ],
   "source": [
    "train_df.take(1)"
   ]
  },
  {
   "cell_type": "code",
   "execution_count": null,
   "id": "516a949e-eea0-4e92-bd53-c16481b33350",
   "metadata": {},
   "outputs": [],
   "source": [
    "[0,1,2,4,10,14,15,16,18] ->"
   ]
  },
  {
   "cell_type": "markdown",
   "id": "ca483003-303f-4709-8350-bb56a542feb2",
   "metadata": {},
   "source": [
    "#### One Hot Encoding"
   ]
  },
  {
   "cell_type": "code",
   "execution_count": 8,
   "id": "42974c59-49c2-4334-8237-000a7cd3e22c",
   "metadata": {},
   "outputs": [],
   "source": [
    "dic_ohe = {0:4,1:4,4:50,5:50,6:50}\n",
    "broadcast_d = sc.broadcast(dic_ohe)\n",
    "# one hot encode all the rows\n",
    "def ohe(x,bd):\n",
    "    temp = []\n",
    "    dic = bd.value\n",
    "    for i in range(0,len(x)):\n",
    "        if i in dic:\n",
    "            new_r = [0]*dic[i]\n",
    "            if x[i] != -1:\n",
    "                new_r[int(x[i])] = 1\n",
    "            temp += new_r\n",
    "        else:\n",
    "            temp.append(x[i])\n",
    "    return tuple(temp)\n",
    "\n",
    "temp = train_df.rdd.map(lambda x : ohe(x,broadcast_d)).cache()"
   ]
  },
  {
   "cell_type": "code",
   "execution_count": 9,
   "id": "b02bc082-4f83-4f54-82f8-1992f866973e",
   "metadata": {},
   "outputs": [
    {
     "name": "stderr",
     "output_type": "stream",
     "text": [
      "22/05/27 10:59:50 WARN BlockManager: Task 26 already completed, not releasing lock for rdd_74_0\n",
      "                                                                                \r"
     ]
    },
    {
     "data": {
      "text/plain": [
       "174"
      ]
     },
     "execution_count": 9,
     "metadata": {},
     "output_type": "execute_result"
    }
   ],
   "source": [
    "len(temp.take(1)[0])"
   ]
  },
  {
   "cell_type": "markdown",
   "id": "1a191511-f1f8-42f1-aa89-979d3a39a9bf",
   "metadata": {},
   "source": [
    "#### Create training df"
   ]
  },
  {
   "cell_type": "code",
   "execution_count": 10,
   "id": "8fbb8845-4a34-4cde-8cad-629e8e522e2d",
   "metadata": {},
   "outputs": [],
   "source": [
    "training_data, testing_data = temp.randomSplit([0.9, 0.1])\n",
    "sampled_training_data, _ = training_data.randomSplit([0.2,0.8])"
   ]
  },
  {
   "cell_type": "code",
   "execution_count": 11,
   "id": "f45b8c09-51d9-4cbe-9b50-8b36ab1de4b7",
   "metadata": {},
   "outputs": [],
   "source": [
    "#training_data.take(1)"
   ]
  },
  {
   "cell_type": "markdown",
   "id": "b85c969b-113e-4de8-86d5-83156617f48d",
   "metadata": {
    "tags": []
   },
   "source": [
    "# KNN"
   ]
  },
  {
   "cell_type": "code",
   "execution_count": 20,
   "id": "5009c893-a511-4881-aad9-9a4541c3c81f",
   "metadata": {},
   "outputs": [
    {
     "name": "stderr",
     "output_type": "stream",
     "text": [
      "22/05/27 11:02:46 WARN BlockManager: Task 1234 already completed, not releasing lock for rdd_74_0\n",
      "                                                                                \r"
     ]
    }
   ],
   "source": [
    "def pred_knn(data,input_row):\n",
    "    distance_set = data.map(lambda x : (np.sum(np.abs(np.subtract(x[:-1], input_row))),x[-1])).filter(lambda x : x[0] < 20)\n",
    "    sorted_set = distance_set.sortBy(lambda x: x[0], ascending=False)\n",
    "    return(sorted_set.take(100))\n",
    "\n",
    "true_label = testing_data.take(1)[0][-1]\n",
    "\n",
    "pred_test = pred_knn(sampled_training_data,testing_data.take(1)[0][:-1])"
   ]
  },
  {
   "cell_type": "code",
   "execution_count": 21,
   "id": "92d27154-6231-44b7-81e1-b7a01561752e",
   "metadata": {},
   "outputs": [],
   "source": [
    "def score(top_100,label):\n",
    "    score = 0\n",
    "    for count, elem in enumerate(top_100):\n",
    "        if elem[1] == label:\n",
    "            score = (100-count)/100\n",
    "            return score\n",
    "    return score"
   ]
  },
  {
   "cell_type": "code",
   "execution_count": 22,
   "id": "f8ff41a5-a68d-48ac-b6ba-8f3ba6677413",
   "metadata": {},
   "outputs": [
    {
     "data": {
      "text/plain": [
       "0"
      ]
     },
     "execution_count": 22,
     "metadata": {},
     "output_type": "execute_result"
    }
   ],
   "source": [
    "score(pred_test,true_label)"
   ]
  },
  {
   "cell_type": "code",
   "execution_count": 23,
   "id": "29619e32-6741-4906-b571-ae94d8672a64",
   "metadata": {},
   "outputs": [
    {
     "name": "stderr",
     "output_type": "stream",
     "text": [
      "                                                                                \r"
     ]
    }
   ],
   "source": [
    "total_score = []\n",
    "tests = testing_data.take(10)\n",
    "for row in tests:\n",
    "    total_score.append(score(pred_knn(sampled_training_data,row[:-1]),row[-1]))"
   ]
  },
  {
   "cell_type": "code",
   "execution_count": 24,
   "id": "597c4900-d4e8-4fae-9b9c-37c044a877ef",
   "metadata": {},
   "outputs": [
    {
     "data": {
      "text/plain": [
       "0.0"
      ]
     },
     "execution_count": 24,
     "metadata": {},
     "output_type": "execute_result"
    }
   ],
   "source": [
    "np.mean(total_score)"
   ]
  },
  {
   "cell_type": "code",
   "execution_count": 37,
   "id": "a5cd7e70-7d25-4f4e-b870-1288c71451d4",
   "metadata": {},
   "outputs": [],
   "source": [
    "pred = np.array([10785., 15542., 27202., 12518., 24465., 15844., 15593., 19372.,\n",
    "       21675., 17715.,   485., 10111., 24887., 14379.,  1641.,  5272.,\n",
    "       10304.,   409., 10382.,  8807., 11249.,  3679., 17164., 10724.,\n",
    "        5724., 21040.,  3334., 17585.,  9538.,  5570.,  1592., 12872.,\n",
    "       20008., 14652.,  4990., 22736., 11313., 21160.,  4747., 14539.,\n",
    "       22840., 23293., 10945., 15121., 23657.,  5369.,  4899.,  8434.,\n",
    "       20724.,  4296., 20604., 17864., 25632., 16029., 12912., 19320.,\n",
    "       10278., 26258.,  1513., 17005., 19757.,  3720.,  9344., 16441.,\n",
    "       21001., 24888., 22811., 27086., 27989., 14988.,  5282., 13746.,\n",
    "       13537., 10295.,  6157., 21819., 18258., 22331.,  3966.,  8017.,\n",
    "        6762., 20258., 27937., 25308., 27403., 25081., 15188., 14160.,\n",
    "       14451., 26373., 20083.,  1960., 13955., 16368., 17461.,  3319.,\n",
    "        3184., 27819., 10976., 10605.])\n",
    "rank = np.arange(100,0,-1)\n",
    "id_ = [1238]*100"
   ]
  },
  {
   "cell_type": "code",
   "execution_count": 58,
   "id": "6d247598-99e5-4c6b-911f-e81c56b5b84d",
   "metadata": {},
   "outputs": [
    {
     "name": "stdout",
     "output_type": "stream",
     "text": [
      "[[1238, 10785.0, 100], [1238, 15542.0, 99], [1238, 27202.0, 98], [1238, 12518.0, 97], [1238, 24465.0, 96], [1238, 15844.0, 95], [1238, 15593.0, 94], [1238, 19372.0, 93], [1238, 21675.0, 92], [1238, 17715.0, 91], [1238, 485.0, 90], [1238, 10111.0, 89], [1238, 24887.0, 88], [1238, 14379.0, 87], [1238, 1641.0, 86], [1238, 5272.0, 85], [1238, 10304.0, 84], [1238, 409.0, 83], [1238, 10382.0, 82], [1238, 8807.0, 81], [1238, 11249.0, 80], [1238, 3679.0, 79], [1238, 17164.0, 78], [1238, 10724.0, 77], [1238, 5724.0, 76], [1238, 21040.0, 75], [1238, 3334.0, 74], [1238, 17585.0, 73], [1238, 9538.0, 72], [1238, 5570.0, 71], [1238, 1592.0, 70], [1238, 12872.0, 69], [1238, 20008.0, 68], [1238, 14652.0, 67], [1238, 4990.0, 66], [1238, 22736.0, 65], [1238, 11313.0, 64], [1238, 21160.0, 63], [1238, 4747.0, 62], [1238, 14539.0, 61], [1238, 22840.0, 60], [1238, 23293.0, 59], [1238, 10945.0, 58], [1238, 15121.0, 57], [1238, 23657.0, 56], [1238, 5369.0, 55], [1238, 4899.0, 54], [1238, 8434.0, 53], [1238, 20724.0, 52], [1238, 4296.0, 51], [1238, 20604.0, 50], [1238, 17864.0, 49], [1238, 25632.0, 48], [1238, 16029.0, 47], [1238, 12912.0, 46], [1238, 19320.0, 45], [1238, 10278.0, 44], [1238, 26258.0, 43], [1238, 1513.0, 42], [1238, 17005.0, 41], [1238, 19757.0, 40], [1238, 3720.0, 39], [1238, 9344.0, 38], [1238, 16441.0, 37], [1238, 21001.0, 36], [1238, 24888.0, 35], [1238, 22811.0, 34], [1238, 27086.0, 33], [1238, 27989.0, 32], [1238, 14988.0, 31], [1238, 5282.0, 30], [1238, 13746.0, 29], [1238, 13537.0, 28], [1238, 10295.0, 27], [1238, 6157.0, 26], [1238, 21819.0, 25], [1238, 18258.0, 24], [1238, 22331.0, 23], [1238, 3966.0, 22], [1238, 8017.0, 21], [1238, 6762.0, 20], [1238, 20258.0, 19], [1238, 27937.0, 18], [1238, 25308.0, 17], [1238, 27403.0, 16], [1238, 25081.0, 15], [1238, 15188.0, 14], [1238, 14160.0, 13], [1238, 14451.0, 12], [1238, 26373.0, 11], [1238, 20083.0, 10], [1238, 1960.0, 9], [1238, 13955.0, 8], [1238, 16368.0, 7], [1238, 17461.0, 6], [1238, 3319.0, 5], [1238, 3184.0, 4], [1238, 27819.0, 3], [1238, 10976.0, 2], [1238, 10605.0, 1]]\n"
     ]
    }
   ],
   "source": [
    "p = [list(id_),list(pred),list(rank)]\n",
    "inp = list(map(list, zip(*p)))\n",
    "print(inp)#spark.createDataFrame(inp,]).show()"
   ]
  },
  {
   "cell_type": "code",
   "execution_count": 51,
   "id": "93750d78-875f-47bb-bcb6-52dfac4bbf78",
   "metadata": {},
   "outputs": [
    {
     "data": {
      "text/plain": [
       "[[1238, 10785.0, 100],\n",
       " [1238, 15542.0, 99],\n",
       " [1238, 27202.0, 98],\n",
       " [1238, 12518.0, 97],\n",
       " [1238, 24465.0, 96],\n",
       " [1238, 15844.0, 95],\n",
       " [1238, 15593.0, 94],\n",
       " [1238, 19372.0, 93],\n",
       " [1238, 21675.0, 92],\n",
       " [1238, 17715.0, 91],\n",
       " [1238, 485.0, 90],\n",
       " [1238, 10111.0, 89],\n",
       " [1238, 24887.0, 88],\n",
       " [1238, 14379.0, 87],\n",
       " [1238, 1641.0, 86],\n",
       " [1238, 5272.0, 85],\n",
       " [1238, 10304.0, 84],\n",
       " [1238, 409.0, 83],\n",
       " [1238, 10382.0, 82],\n",
       " [1238, 8807.0, 81],\n",
       " [1238, 11249.0, 80],\n",
       " [1238, 3679.0, 79],\n",
       " [1238, 17164.0, 78],\n",
       " [1238, 10724.0, 77],\n",
       " [1238, 5724.0, 76],\n",
       " [1238, 21040.0, 75],\n",
       " [1238, 3334.0, 74],\n",
       " [1238, 17585.0, 73],\n",
       " [1238, 9538.0, 72],\n",
       " [1238, 5570.0, 71],\n",
       " [1238, 1592.0, 70],\n",
       " [1238, 12872.0, 69],\n",
       " [1238, 20008.0, 68],\n",
       " [1238, 14652.0, 67],\n",
       " [1238, 4990.0, 66],\n",
       " [1238, 22736.0, 65],\n",
       " [1238, 11313.0, 64],\n",
       " [1238, 21160.0, 63],\n",
       " [1238, 4747.0, 62],\n",
       " [1238, 14539.0, 61],\n",
       " [1238, 22840.0, 60],\n",
       " [1238, 23293.0, 59],\n",
       " [1238, 10945.0, 58],\n",
       " [1238, 15121.0, 57],\n",
       " [1238, 23657.0, 56],\n",
       " [1238, 5369.0, 55],\n",
       " [1238, 4899.0, 54],\n",
       " [1238, 8434.0, 53],\n",
       " [1238, 20724.0, 52],\n",
       " [1238, 4296.0, 51],\n",
       " [1238, 20604.0, 50],\n",
       " [1238, 17864.0, 49],\n",
       " [1238, 25632.0, 48],\n",
       " [1238, 16029.0, 47],\n",
       " [1238, 12912.0, 46],\n",
       " [1238, 19320.0, 45],\n",
       " [1238, 10278.0, 44],\n",
       " [1238, 26258.0, 43],\n",
       " [1238, 1513.0, 42],\n",
       " [1238, 17005.0, 41],\n",
       " [1238, 19757.0, 40],\n",
       " [1238, 3720.0, 39],\n",
       " [1238, 9344.0, 38],\n",
       " [1238, 16441.0, 37],\n",
       " [1238, 21001.0, 36],\n",
       " [1238, 24888.0, 35],\n",
       " [1238, 22811.0, 34],\n",
       " [1238, 27086.0, 33],\n",
       " [1238, 27989.0, 32],\n",
       " [1238, 14988.0, 31],\n",
       " [1238, 5282.0, 30],\n",
       " [1238, 13746.0, 29],\n",
       " [1238, 13537.0, 28],\n",
       " [1238, 10295.0, 27],\n",
       " [1238, 6157.0, 26],\n",
       " [1238, 21819.0, 25],\n",
       " [1238, 18258.0, 24],\n",
       " [1238, 22331.0, 23],\n",
       " [1238, 3966.0, 22],\n",
       " [1238, 8017.0, 21],\n",
       " [1238, 6762.0, 20],\n",
       " [1238, 20258.0, 19],\n",
       " [1238, 27937.0, 18],\n",
       " [1238, 25308.0, 17],\n",
       " [1238, 27403.0, 16],\n",
       " [1238, 25081.0, 15],\n",
       " [1238, 15188.0, 14],\n",
       " [1238, 14160.0, 13],\n",
       " [1238, 14451.0, 12],\n",
       " [1238, 26373.0, 11],\n",
       " [1238, 20083.0, 10],\n",
       " [1238, 1960.0, 9],\n",
       " [1238, 13955.0, 8],\n",
       " [1238, 16368.0, 7],\n",
       " [1238, 17461.0, 6],\n",
       " [1238, 3319.0, 5],\n",
       " [1238, 3184.0, 4],\n",
       " [1238, 27819.0, 3],\n",
       " [1238, 10976.0, 2],\n",
       " [1238, 10605.0, 1]]"
      ]
     },
     "execution_count": 51,
     "metadata": {},
     "output_type": "execute_result"
    }
   ],
   "source": [
    "list(map(list, zip(*p)))"
   ]
  },
  {
   "cell_type": "code",
   "execution_count": null,
   "id": "c2c5864d-129d-4511-9107-ab98a6056d10",
   "metadata": {},
   "outputs": [],
   "source": []
  }
 ],
 "metadata": {
  "kernelspec": {
   "display_name": "Python 3 (ipykernel)",
   "language": "python",
   "name": "python3"
  },
  "language_info": {
   "codemirror_mode": {
    "name": "ipython",
    "version": 3
   },
   "file_extension": ".py",
   "mimetype": "text/x-python",
   "name": "python",
   "nbconvert_exporter": "python",
   "pygments_lexer": "ipython3",
   "version": "3.9.7"
  }
 },
 "nbformat": 4,
 "nbformat_minor": 5
}
